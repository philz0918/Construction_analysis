{
 "cells": [
  {
   "cell_type": "code",
   "execution_count": 142,
   "metadata": {},
   "outputs": [],
   "source": [
    "import requests\n",
    "from html.parser import HTMLParser\n",
    "from bs4 import BeautifulSoup\n",
    "import urllib.request\n",
    "from selenium import webdriver\n",
    "import pandas as pd\n",
    "import csv\n",
    "import time\n",
    "import operator\n",
    "import re\n",
    "import random\n",
    "import networkx as nx\n",
    "import numpy as np\n",
    "import matplotlib.pyplot as plt"
   ]
  },
  {
   "cell_type": "code",
   "execution_count": 2,
   "metadata": {},
   "outputs": [],
   "source": [
    "random.seed(50)"
   ]
  },
  {
   "cell_type": "code",
   "execution_count": 53,
   "metadata": {},
   "outputs": [],
   "source": [
    "#main sourcde url \n",
    "#construction accident -> search keyword\n",
    "m_url =\"https://www.nytimes.com/search?dropmab=false&endDate=20191231&query=%22construction%22%20accident&sort=newest&startDate=20000101\"\n",
    "#m_url =\"https://www.nytimes.com/search?dropmab=false&endDate=20140702&query=%22construction%22%20accident&sort=newest&startDate=20000101\"\n",
    "#m_url = \"https://www.nytimes.com/search?dropmab=false&endDate=20100207&query=%22construction%22%20accident&sort=newest&startDate=20000101\"\n",
    "#m_url = \"https://www.nytimes.com/search?dropmab=false&endDate=20070626&query=%22construction%22%20accident&sort=newest&startDate=20000101\"\n",
    "#m_url = \"https://www.nytimes.com/search?dropmab=false&endDate=20040524&query=%22construction%22%20accident&sort=newest&startDate=20000101\"\n",
    "#m_url =\"https://www.nytimes.com/search?dropmab=false&endDate=20000605&query=%22construction%22%20accident&sort=newest&startDate=20000101\""
   ]
  },
  {
   "cell_type": "code",
   "execution_count": 54,
   "metadata": {},
   "outputs": [],
   "source": [
    "session = requests.Session()\n",
    "req=session.get(m_url) #default is s_url\n",
    "soup = BeautifulSoup(req.text, 'html.parser')\n",
    "\n",
    "#stream-panel > div.css-13mho3u > ol > li:nth-child(2) > div > div.css-1l4spti > a\n",
    "#stream-panel > div.css-13mho3u > ol > li:nth-child(1) > div > div.css-1l4spti > a\n"
   ]
  },
  {
   "cell_type": "code",
   "execution_count": 55,
   "metadata": {},
   "outputs": [],
   "source": [
    "\n",
    "chrome_options = webdriver.ChromeOptions\n",
    "#chrome_options.add_argument(\"--incognito\")\n",
    "driver = webdriver.Chrome(executable_path='/Users/macbookpro/Project_construction/chromedriver')\n",
    "\n",
    "link = []\n",
    "driver.get(m_url)\n",
    "time.sleep(3)\n",
    "for i in range(110) :\n",
    "    a = driver.page_source\n",
    "    b = BeautifulSoup(a, 'html.parser')\n",
    "    #stream-panel > div.css-13mho3u > ol > li:nth-child(1) > div > div.css-1l4spti > a\n",
    "    #stream-panel > div.css-13mho3u > ol > li > div > div.css-1l4spti > a\n",
    "    #site-content > div > div:nth-child(2) > div.css-46b038 > ol > li:nth-child(1) > div > div > div > a\n",
    "    c = b.select('#site-content > div >div>div> ol >li> div > div > div > a')\n",
    "    \n",
    "    for j in range(len(c)) :\n",
    "        if c[j].attrs['href'] not in link :\n",
    "            link.append(c[j].attrs['href'])\n",
    "        else :\n",
    "            pass\n",
    "    \n",
    "    driver.find_element_by_xpath('//*[@id=\"site-content\"]/div/div[2]/div[2]/div/button').click()\n",
    "    time.sleep(3)\n",
    "\n",
    "#link"
   ]
  },
  {
   "cell_type": "code",
   "execution_count": 56,
   "metadata": {},
   "outputs": [
    {
     "data": {
      "text/plain": [
       "1010"
      ]
     },
     "execution_count": 56,
     "metadata": {},
     "output_type": "execute_result"
    }
   ],
   "source": [
    "#link_source = link \n",
    "#a_link = link\n",
    "#b_link = link\n",
    "#c_link = link\n",
    "#d_link = link\n",
    "#e_link = link\n",
    "#f_link = link\n",
    "#print(len(f_link))\n",
    "g_link = link\n",
    "len(g_link)"
   ]
  },
  {
   "cell_type": "code",
   "execution_count": 73,
   "metadata": {},
   "outputs": [],
   "source": [
    "total_link = []\n",
    "total_link.extend(g_link)\n",
    "total_link.extend(b_link)\n",
    "total_link.extend(c_link)\n",
    "total_link.extend(d_link)\n",
    "total_link.extend(e_link)\n",
    "total_link.extend(f_link)\n"
   ]
  },
  {
   "cell_type": "code",
   "execution_count": 74,
   "metadata": {},
   "outputs": [
    {
     "data": {
      "text/plain": [
       "5132"
      ]
     },
     "execution_count": 74,
     "metadata": {},
     "output_type": "execute_result"
    }
   ],
   "source": [
    "total_link\n",
    "len(total_link)"
   ]
  },
  {
   "cell_type": "code",
   "execution_count": 76,
   "metadata": {},
   "outputs": [],
   "source": [
    "res = []\n",
    "for a in total_link :\n",
    "    if a not in res :\n",
    "        res.append(a)\n"
   ]
  },
  {
   "cell_type": "code",
   "execution_count": 78,
   "metadata": {},
   "outputs": [
    {
     "data": {
      "text/plain": [
       "5132"
      ]
     },
     "execution_count": 78,
     "metadata": {},
     "output_type": "execute_result"
    }
   ],
   "source": [
    "len(res)"
   ]
  },
  {
   "cell_type": "code",
   "execution_count": 95,
   "metadata": {},
   "outputs": [],
   "source": [
    "def removing_url(s_link):\n",
    "\n",
    "    diff_link = []\n",
    "\n",
    "#delete unsupported news \n",
    "    for i in range (len(s_link)) :\n",
    "        #print(a_link[i])\n",
    "        if s_link[i][1] != '2':\n",
    "        \n",
    "            diff_link.append(s_link[i])\n",
    "            \n",
    "\n",
    "    for j in range(len(diff_link)):\n",
    "        if diff_link[j] in s_link:\n",
    "            s_link.remove(diff_link[j])\n",
    "        \n",
    "    return s_link\n"
   ]
  },
  {
   "cell_type": "code",
   "execution_count": 110,
   "metadata": {},
   "outputs": [],
   "source": [
    "new_f =removing_url(f_link)"
   ]
  },
  {
   "cell_type": "code",
   "execution_count": 119,
   "metadata": {},
   "outputs": [
    {
     "name": "stdout",
     "output_type": "stream",
     "text": [
      "4565\n",
      "this is the number of unsupportive link 567\n"
     ]
    }
   ],
   "source": [
    "print(len(total_link))\n",
    "print(\"this is the number of unsupportive link \" + str(len(diff_link)))"
   ]
  },
  {
   "cell_type": "code",
   "execution_count": 86,
   "metadata": {},
   "outputs": [],
   "source": [
    "## This is main source for analyzing article\n",
    "\n",
    "class ArticleInfo():\n",
    "    \n",
    "    def __init__(self, s_url) :\n",
    "        \n",
    "        session = requests.Session()\n",
    "        req=session.get(s_url)\n",
    "        self.soup = BeautifulSoup(req.text, 'html.parser')\n",
    "    \n",
    "    \n",
    "    def article_body(self) :\n",
    "        body = self.soup.find('div', {'class' : 'StoryBodyCompanionColumn'})\n",
    "        finalContent =''\n",
    "    \n",
    "        if body is not None :\n",
    "            for itcontents in self.soup.findAll('p'):\n",
    "                if itcontents == None :\n",
    "                    continue\n",
    "                content = itcontents.getText()\n",
    "                content = re.sub(r\"\\n+\", \"\", content)\n",
    "                finalContent +=content\n",
    "        else :\n",
    "            return False\n",
    "        \n",
    "        return finalContent\n",
    "\n",
    "##reference: https://github.com/subhendusethi/nytimes-article-crawler/blob/master/crawler/nytimescrawler.py    \n",
    "\n",
    "    def article_title(self):\n",
    "        titles = self.soup.select('title',{\"data-rh\":\"true\"})\n",
    "        for title in titles:\n",
    "            title = title.getText()\n",
    "            break\n",
    "        return title\n",
    "\n",
    "    def article_date(self) :\n",
    "  \n",
    "        date = self.soup.find('li',{'class':'date'})\n",
    "        if date != None :\n",
    "            date = date.getText()\n",
    "            \n",
    "        else :\n",
    "            date = self.soup.find('meta',{'name':'pdate'})\n",
    "            if date !=None :\n",
    "                date = date.get('content')\n",
    "                if date !=None :\n",
    "                    date = str(date)\n",
    "                else:\n",
    "                    none= \"none\"\n",
    "                    datelist.append(none)\n",
    "                \n",
    "        return date\n",
    "\n",
    " "
   ]
  },
  {
   "cell_type": "code",
   "execution_count": 91,
   "metadata": {},
   "outputs": [],
   "source": [
    "def scraping(source_link):\n",
    "    titles =[]\n",
    "    bodies =[]\n",
    "    datelist=[]\n",
    "\n",
    "    for s_url in source_link :\n",
    "        s_url = 'https://www.nytimes.com'+s_url\n",
    "        ob = ArticleInfo(s_url)\n",
    "    \n",
    "        body =ob.article_body()\n",
    "        bodies.append(body)\n",
    "    \n",
    "        date = ob.article_date()\n",
    "        datelist.append(date)\n",
    "    \n",
    "        title = ob.article_title()\n",
    "        titles.append(title)\n",
    "    return bodies, datelist, titles"
   ]
  },
  {
   "cell_type": "code",
   "execution_count": 111,
   "metadata": {},
   "outputs": [],
   "source": [
    "#body, date, title = scraping(new_f)\n",
    "#g_body = body\n",
    "#g_date = date\n",
    "#g_title = title\n",
    "\n",
    "#b_body = body\n",
    "#b_date = date\n",
    "#b_title = title\n",
    "\n",
    "#c_body = body\n",
    "#c_date = date\n",
    "#c_title = title\n",
    "\n",
    "#d_body = body\n",
    "#d_date = date\n",
    "#d_title = title\n",
    "\n",
    "#e_body = body\n",
    "#e_date = date\n",
    "#e_title = title\n",
    "\n",
    "#f_body = body\n",
    "#f_date = date\n",
    "#f_title = title"
   ]
  },
  {
   "cell_type": "code",
   "execution_count": 120,
   "metadata": {},
   "outputs": [],
   "source": [
    "date_list = [g_date,b_date,c_date,d_date,e_date,f_date]\n",
    "body_list = [g_body,b_body,c_body,d_body,e_body,f_body]\n",
    "title_list = [g_title,b_title,c_title,d_title,e_title,f_title]\n",
    "final_set = {}\n",
    "final_set['date'] = []\n",
    "final_set['title'] = []\n",
    "final_set['body'] = []\n",
    "for i in range(len(date_list)) :\n",
    "    \n",
    "    final_set['date'].extend(date_list[i])\n",
    "    final_set['title'].extend(title_list[i])\n",
    "    final_set['body'].extend(body_list[i])\n",
    "    \n",
    "df_nyt = pd.DataFrame(final_set, columns =[\"date\", \"title\", \"body\"])"
   ]
  },
  {
   "cell_type": "code",
   "execution_count": 124,
   "metadata": {},
   "outputs": [],
   "source": [
    "bodies = final_set['body']"
   ]
  },
  {
   "cell_type": "code",
   "execution_count": 138,
   "metadata": {},
   "outputs": [],
   "source": [
    "def generate_by_weather(df_article) :\n",
    "    weather =[]\n",
    "    month = []\n",
    "    for i in range(len(df_article)) :\n",
    "    \n",
    "        if df_article.loc[i,'date'] is None :\n",
    "            weather.append('None')\n",
    "            month.append('None')\n",
    "        else :\n",
    "            if df_article.loc[i,\"date\"][4:6] == '03':\n",
    "                weather.append('spring')\n",
    "                month.append('march')\n",
    "            elif df_article.loc[i,\"date\"][4:6] == '04' :\n",
    "                weather.append('spring')\n",
    "                month.append('april')\n",
    "            elif df_article.loc[i,\"date\"][4:6] == '05' :\n",
    "                weather.append('spring')\n",
    "                month.append('may')\n",
    "            elif df_article.loc[i,\"date\"][4:6] == \"06\" :\n",
    "                weather.append('summer')\n",
    "                month.append('june')\n",
    "            elif df_article.loc[i,\"date\"][4:6] == \"07\" :\n",
    "                weather.append('summer')\n",
    "                month.append('july')\n",
    "            elif df_article.loc[i,\"date\"][4:6] == \"08\" :\n",
    "                weather.append('summer')\n",
    "                month.append('august')\n",
    "            elif df_article.loc[i,\"date\"][4:6] == \"09\" :\n",
    "                weather.append('fall')\n",
    "                month.append('september')\n",
    "            elif df_article.loc[i,\"date\"][4:6] == \"10\" :\n",
    "                weather.append('fall')\n",
    "                month.append('october')\n",
    "            elif df_article.loc[i,\"date\"][4:6] == \"11\" :\n",
    "                weather.append('fall')\n",
    "                month.append('november')\n",
    "            elif df_article.loc[i,\"date\"][4:6] == \"12\" :\n",
    "                weather.append('winter')\n",
    "                month.append('december')\n",
    "            elif df_article.loc[i,\"date\"][4:6] == \"01\" :\n",
    "                weather.append('winter')\n",
    "                month.append('january')\n",
    "            elif df_article.loc[i,\"date\"][4:6] == \"02\" :\n",
    "                weather.append('winter')\n",
    "                month.append('february')\n",
    "            else :\n",
    "                weatehr.append('error')\n",
    "\n",
    "    print(len(weather))\n",
    "    df_article.drop([\"weather\",\"month\"])\n",
    "    df_article.insert(3, \"weather\", weather)\n",
    "    df_article.insert(4, \"month\", month)\n",
    "    \n",
    "    return df_article"
   ]
  },
  {
   "cell_type": "code",
   "execution_count": 139,
   "metadata": {},
   "outputs": [
    {
     "data": {
      "text/html": [
       "<div>\n",
       "<style scoped>\n",
       "    .dataframe tbody tr th:only-of-type {\n",
       "        vertical-align: middle;\n",
       "    }\n",
       "\n",
       "    .dataframe tbody tr th {\n",
       "        vertical-align: top;\n",
       "    }\n",
       "\n",
       "    .dataframe thead th {\n",
       "        text-align: right;\n",
       "    }\n",
       "</style>\n",
       "<table border=\"1\" class=\"dataframe\">\n",
       "  <thead>\n",
       "    <tr style=\"text-align: right;\">\n",
       "      <th></th>\n",
       "      <th>date</th>\n",
       "      <th>title</th>\n",
       "      <th>body</th>\n",
       "      <th>weather</th>\n",
       "      <th>month</th>\n",
       "    </tr>\n",
       "  </thead>\n",
       "  <tbody>\n",
       "    <tr>\n",
       "      <th>0</th>\n",
       "      <td>20191230</td>\n",
       "      <td>After Death From Falling Debris, Violations Fo...</td>\n",
       "      <td>[advertisementsupported, bythe, infractions, ,...</td>\n",
       "      <td>winter</td>\n",
       "      <td>december</td>\n",
       "    </tr>\n",
       "    <tr>\n",
       "      <th>1</th>\n",
       "      <td>20191225</td>\n",
       "      <td>For Trump Organization, Office Skyscrapers Mak...</td>\n",
       "      <td>[advertisementsupported, byoffice, towers, new...</td>\n",
       "      <td>winter</td>\n",
       "      <td>december</td>\n",
       "    </tr>\n",
       "    <tr>\n",
       "      <th>2</th>\n",
       "      <td>20191225</td>\n",
       "      <td>Traffic Circles Are Everywhere in France. Not ...</td>\n",
       "      <td>[advertisementsupported, byfrance, dispatchtra...</td>\n",
       "      <td>winter</td>\n",
       "      <td>december</td>\n",
       "    </tr>\n",
       "    <tr>\n",
       "      <th>3</th>\n",
       "      <td>20191224</td>\n",
       "      <td>Why Ice Is Falling From Glass Skyscrapers - Th...</td>\n",
       "      <td>[advertisementsupported, bynew, york, today, a...</td>\n",
       "      <td>winter</td>\n",
       "      <td>december</td>\n",
       "    </tr>\n",
       "    <tr>\n",
       "      <th>4</th>\n",
       "      <td>20191224</td>\n",
       "      <td>A Trump Policy ‘Clarification’ All but Ends Pu...</td>\n",
       "      <td>[advertisementsupported, byby, lisa, friedmanw...</td>\n",
       "      <td>winter</td>\n",
       "      <td>december</td>\n",
       "    </tr>\n",
       "  </tbody>\n",
       "</table>\n",
       "</div>"
      ],
      "text/plain": [
       "       date                                              title  \\\n",
       "0  20191230  After Death From Falling Debris, Violations Fo...   \n",
       "1  20191225  For Trump Organization, Office Skyscrapers Mak...   \n",
       "2  20191225  Traffic Circles Are Everywhere in France. Not ...   \n",
       "3  20191224  Why Ice Is Falling From Glass Skyscrapers - Th...   \n",
       "4  20191224  A Trump Policy ‘Clarification’ All but Ends Pu...   \n",
       "\n",
       "                                                body weather     month  \n",
       "0  [advertisementsupported, bythe, infractions, ,...  winter  december  \n",
       "1  [advertisementsupported, byoffice, towers, new...  winter  december  \n",
       "2  [advertisementsupported, byfrance, dispatchtra...  winter  december  \n",
       "3  [advertisementsupported, bynew, york, today, a...  winter  december  \n",
       "4  [advertisementsupported, byby, lisa, friedmanw...  winter  december  "
      ]
     },
     "execution_count": 139,
     "metadata": {},
     "output_type": "execute_result"
    }
   ],
   "source": [
    "#df_arrange = generate_by_weather(df_nyt)\n",
    "\n",
    "df_arrange.head()"
   ]
  },
  {
   "cell_type": "markdown",
   "metadata": {},
   "source": [
    "### Basic Stats"
   ]
  },
  {
   "cell_type": "markdown",
   "metadata": {},
   "source": [
    "Distrubution of weather naively"
   ]
  },
  {
   "cell_type": "code",
   "execution_count": 140,
   "metadata": {},
   "outputs": [],
   "source": [
    "\n",
    "\n",
    "def get_dist_weather(df) :\n",
    "    spring_cnt = 0\n",
    "    summer_cnt =0\n",
    "    fall_cnt =0\n",
    "    winter_cnt = 0\n",
    "    none_cnt = 0\n",
    "    for i in range(len(df)) :\n",
    "        if df.loc[i,\"weather\"] =='spring' :\n",
    "            spring_cnt +=1\n",
    "        elif df.loc[i,\"weather\"] =='summer' :\n",
    "            summer_cnt +=1\n",
    "        elif df.loc[i,\"weather\"] =='fall' :\n",
    "            fall_cnt +=1\n",
    "        elif df.loc[i,\"weather\"] =='winter' :\n",
    "            winter_cnt +=1\n",
    "        else :\n",
    "            none_cnt +=1\n",
    "    \n",
    "    fin_set = {}\n",
    "    fin_set['spring'] = spring_cnt\n",
    "    fin_set['summer'] = summer_cnt\n",
    "    fin_set['fall'] = fall_cnt\n",
    "    fin_set['winter'] = winter_cnt\n",
    "    fin_set['none'] = none_cnt\n",
    "    \n",
    "    return fin_set\n"
   ]
  },
  {
   "cell_type": "code",
   "execution_count": 144,
   "metadata": {},
   "outputs": [
    {
     "data": {
      "image/png": "[encoded data removed]",
      "text/plain": [
       "<Figure size 432x288 with 1 Axes>"
      ]
     },
     "metadata": {
      "needs_background": "light"
     },
     "output_type": "display_data"
    }
   ],
   "source": [
    "dist_weather = get_dist_weather(df_arrange)\n",
    "\n",
    "\n",
    "fig, ax = plt.subplots()\n",
    "rect1 = ax.bar(list(dist_weather.keys())[:-1],list(dist_weather.values())[:-1],width = 0.5, color ='gray')\n",
    "ax.set_ylabel('frequency')\n",
    "ax.set_xlabel('weather')\n",
    "#ax.set_ylim(0,260)\n",
    "\n",
    "\n",
    "def autolabel(rects):\n",
    "    \"\"\"Attach a text label above each bar in *rects*, displaying its height.\"\"\"\n",
    "    for rect in rects:\n",
    "        height = rect.get_height()\n",
    "        ax.annotate('{}'.format(height),\n",
    "                    xy=(rect.get_x() + rect.get_width() / 2, height),\n",
    "                    xytext=(0, 3),  # 3 points vertical offset\n",
    "                    textcoords=\"offset points\",\n",
    "                    ha='center', va='bottom')\n",
    "\n",
    "\n",
    "autolabel(rect1)        \n",
    "        \n",
    "#plt.title(\"Frequency of keywords\")\n",
    "plt.title(\"total construction accident article by weather\")\n",
    "fig.tight_layout()\n",
    "\n",
    "\n",
    "plt.savefig('Figure/section2/weather_distribution.png')\n"
   ]
  },
  {
   "cell_type": "markdown",
   "metadata": {},
   "source": [
    "Distrubution of weather with fire"
   ]
  },
  {
   "cell_type": "code",
   "execution_count": 147,
   "metadata": {},
   "outputs": [],
   "source": [
    "def get_dist_weather_keyword(df,key) :\n",
    "    spring_cnt = 0\n",
    "    summer_cnt =0\n",
    "    fall_cnt =0\n",
    "    winter_cnt = 0\n",
    "    none_cnt = 0\n",
    "    for i in range(len(df)) :\n",
    "        if df.loc[i,\"weather\"] =='spring' :\n",
    "            #print(type(df.loc[i,\"bodies\"]))\n",
    "            if key in df.loc[i,\"body\"] :\n",
    "                spring_cnt +=1\n",
    "        elif df.loc[i,\"weather\"] =='summer' :\n",
    "            if key in df.loc[i,\"body\"] :\n",
    "                summer_cnt +=1\n",
    "        elif df.loc[i,\"weather\"] =='fall' :\n",
    "            if key in df.loc[i,\"body\"] :\n",
    "                fall_cnt +=1\n",
    "        elif df.loc[i,\"weather\"] =='winter' :\n",
    "            if key in df.loc[i,\"body\"] :\n",
    "                winter_cnt +=1\n",
    "        else :\n",
    "                none_cnt +=0\n",
    "    \n",
    "    fin_set_fire = {}\n",
    "    fin_set_fire['spring'] = spring_cnt\n",
    "    fin_set_fire['summer'] = summer_cnt\n",
    "    fin_set_fire['fall'] = fall_cnt\n",
    "    fin_set_fire['winter'] = winter_cnt\n",
    "    fin_set_fire['none'] = none_cnt\n",
    "    \n",
    "    return fin_set_fire\n"
   ]
  },
  {
   "cell_type": "code",
   "execution_count": 166,
   "metadata": {},
   "outputs": [
    {
     "data": {
      "text/plain": [
       "{'spring': 79, 'summer': 89, 'fall': 76, 'winter': 83, 'none': 0}"
      ]
     },
     "execution_count": 166,
     "metadata": {},
     "output_type": "execute_result"
    }
   ],
   "source": [
    "get_dist_weather_keyword(df_arrange,\"explosion\")\n"
   ]
  },
  {
   "cell_type": "code",
   "execution_count": 149,
   "metadata": {},
   "outputs": [],
   "source": [
    "def get_dist_month(df) :\n",
    "    jan_cnt = 0\n",
    "    feb_cnt = 0 \n",
    "    mar_cnt = 0\n",
    "    apr_cnt = 0 \n",
    "    may_cnt = 0 \n",
    "    jun_cnt = 0\n",
    "    jul_cnt = 0\n",
    "    aug_cnt = 0\n",
    "    sep_cnt = 0\n",
    "    ocb_cnt = 0\n",
    "    nov_cnt = 0\n",
    "    dec_cnt = 0\n",
    "    none_cnt = 0\n",
    "    for i in range(len(df)) :\n",
    "        if df.loc[i,\"month\"] =='january' :\n",
    "            #print(type(df.loc[i,\"bodies\"]))\n",
    "       \n",
    "            jan_cnt +=1\n",
    "        elif df.loc[i,\"month\"] =='february' :\n",
    "        \n",
    "            feb_cnt +=1\n",
    "        elif df.loc[i,\"month\"] =='march' :\n",
    "        \n",
    "            mar_cnt +=1\n",
    "        elif df.loc[i,\"month\"] =='april' :\n",
    "   \n",
    "            apr_cnt +=1\n",
    "        elif df.loc[i,\"month\"] =='may' :\n",
    "     \n",
    "            may_cnt +=1\n",
    "        elif df.loc[i,\"month\"] =='june' :\n",
    "            \n",
    "            jun_cnt +=1\n",
    "        elif df.loc[i,\"month\"] =='july' :\n",
    "          \n",
    "            jul_cnt +=1\n",
    "        elif df.loc[i,\"month\"] =='august' :\n",
    "           \n",
    "            aug_cnt +=1\n",
    "        elif df.loc[i,\"month\"] =='september' :\n",
    "          \n",
    "            sep_cnt +=1\n",
    "        elif df.loc[i,\"month\"] =='october' :\n",
    "           \n",
    "            ocb_cnt +=1\n",
    "        elif df.loc[i,\"month\"] =='november' :\n",
    "            \n",
    "            nov_cnt +=1\n",
    "        elif df.loc[i,\"month\"] =='december' :\n",
    "            \n",
    "            dec_cnt +=1\n",
    "        else :\n",
    "            none_cnt +=1\n",
    "    \n",
    "    fin_set_mon = {}\n",
    "    fin_set_mon['january'] = jan_cnt\n",
    "    fin_set_mon['february'] = feb_cnt\n",
    "    fin_set_mon['march'] = mar_cnt\n",
    "    fin_set_mon['april'] = apr_cnt\n",
    "    fin_set_mon['may'] = may_cnt\n",
    "    fin_set_mon['june'] = jun_cnt\n",
    "    fin_set_mon['july'] = jul_cnt\n",
    "    fin_set_mon['august'] = aug_cnt\n",
    "    fin_set_mon['september'] = sep_cnt\n",
    "    fin_set_mon['octoboer'] = ocb_cnt\n",
    "    fin_set_mon['november'] = nov_cnt\n",
    "    fin_set_mon['december'] = dec_cnt\n",
    "    fin_set_mon['none'] = none_cnt\n",
    "    \n",
    "    \n",
    "    return fin_set_mon\n"
   ]
  },
  {
   "cell_type": "code",
   "execution_count": 163,
   "metadata": {},
   "outputs": [
    {
     "data": {
      "image/png": "[encoded data removed]",
      "text/plain": [
       "<Figure size 432x288 with 1 Axes>"
      ]
     },
     "metadata": {
      "needs_background": "light"
     },
     "output_type": "display_data"
    }
   ],
   "source": [
    "dist_month = get_dist_month(df_arrange)\n",
    "\n",
    "fig, ax = plt.subplots()\n",
    "rect1 = ax.bar(list(dist_month.keys())[:-1],list(dist_month.values())[:-1],width = 0.5, color ='gray')\n",
    "ax.set_ylabel('frequency')\n",
    "ax.set_xlabel('month')\n",
    "\n",
    "ax.set_ylim(0,470)\n",
    "\n",
    "\n",
    "def autolabel(rects):\n",
    "    \"\"\"Attach a text label above each bar in *rects*, displaying its height.\"\"\"\n",
    "    for rect in rects:\n",
    "        height = rect.get_height()\n",
    "        ax.annotate('{}'.format(height),\n",
    "                    xy=(rect.get_x() + rect.get_width() / 2, height),\n",
    "                    xytext=(0, 3),  # 3 points vertical offset\n",
    "                    textcoords=\"offset points\",\n",
    "                    ha='center', va='bottom')\n",
    "\n",
    "\n",
    "autolabel(rect1)        \n",
    "        \n",
    "#plt.title(\"Frequency of keywords\")\n",
    "\n",
    "plt.xticks(list(dist_month.keys())[:-1], rotation= 45)\n",
    "plt.title(\"total construction accident article in month\")\n",
    "fig.tight_layout()\n",
    "plt.savefig('Figure/section2/month_distribution.png')\n",
    "plt.show()"
   ]
  },
  {
   "cell_type": "code",
   "execution_count": 153,
   "metadata": {},
   "outputs": [],
   "source": [
    "def get_dist_month_keyword(df,key) :\n",
    "    jan_cnt = 0\n",
    "    feb_cnt = 0 \n",
    "    mar_cnt = 0\n",
    "    apr_cnt = 0 \n",
    "    may_cnt = 0 \n",
    "    jun_cnt = 0\n",
    "    jul_cnt = 0\n",
    "    aug_cnt = 0\n",
    "    sep_cnt = 0\n",
    "    ocb_cnt = 0\n",
    "    nov_cnt = 0\n",
    "    dec_cnt = 0\n",
    "    none_cnt = 0\n",
    "    for i in range(len(df)) :\n",
    "        if df.loc[i,\"month\"] =='january' :\n",
    "            #print(type(df.loc[i,\"bodies\"]))\n",
    "            if key in df.loc[i,\"body\"] :\n",
    "                jan_cnt +=1\n",
    "        elif df.loc[i,\"month\"] =='february' :\n",
    "            if key in df.loc[i,\"body\"] :\n",
    "                feb_cnt +=1\n",
    "        elif df.loc[i,\"month\"] =='march' :\n",
    "            if key in df.loc[i,\"body\"] :\n",
    "                mar_cnt +=1\n",
    "        elif df.loc[i,\"month\"] =='april' :\n",
    "            if key in df.loc[i,\"body\"] :\n",
    "                apr_cnt +=1\n",
    "        elif df.loc[i,\"month\"] =='may' :\n",
    "            if key in df.loc[i,\"body\"] :\n",
    "                may_cnt +=1\n",
    "        elif df.loc[i,\"month\"] =='june' :\n",
    "            if key in df.loc[i,\"body\"] :\n",
    "                jun_cnt +=1\n",
    "        elif df.loc[i,\"month\"] =='july' :\n",
    "            if key in df.loc[i,\"body\"] :\n",
    "                jul_cnt +=1\n",
    "        elif df.loc[i,\"month\"] =='august' :\n",
    "            if key in df.loc[i,\"body\"] :\n",
    "                aug_cnt +=1\n",
    "        elif df.loc[i,\"month\"] =='september' :\n",
    "            if key in df.loc[i,\"body\"] :\n",
    "                sep_cnt +=1\n",
    "        elif df.loc[i,\"month\"] =='october' :\n",
    "            if key in df.loc[i,\"body\"] :\n",
    "                ocb_cnt +=1\n",
    "        elif df.loc[i,\"month\"] =='november' :\n",
    "            if key in df.loc[i,\"body\"] :\n",
    "                nov_cnt +=1\n",
    "        elif df.loc[i,\"month\"] =='december' :\n",
    "            if key in df.loc[i,\"body\"] :\n",
    "                dec_cnt +=1\n",
    "        else :\n",
    "                none_cnt +=0\n",
    "    \n",
    "    fin_set_mon = {}\n",
    "    fin_set_mon['january'] = jan_cnt\n",
    "    fin_set_mon['february'] = feb_cnt\n",
    "    fin_set_mon['march'] = mar_cnt\n",
    "    fin_set_mon['april'] = apr_cnt\n",
    "    fin_set_mon['may'] = may_cnt\n",
    "    fin_set_mon['june'] = jun_cnt\n",
    "    fin_set_mon['july'] = jul_cnt\n",
    "    fin_set_mon['august'] = aug_cnt\n",
    "    fin_set_mon['september'] = sep_cnt\n",
    "    fin_set_mon['octoboer'] = ocb_cnt\n",
    "    fin_set_mon['november'] = nov_cnt\n",
    "    fin_set_mon['december'] = dec_cnt\n",
    "    fin_set_mon['none'] = none_cnt\n",
    "    \n",
    "    \n",
    "    return fin_set_mon\n"
   ]
  },
  {
   "cell_type": "code",
   "execution_count": 154,
   "metadata": {},
   "outputs": [
    {
     "data": {
      "text/plain": [
       "{'january': 69,\n",
       " 'february': 82,\n",
       " 'march': 97,\n",
       " 'april': 80,\n",
       " 'may': 108,\n",
       " 'june': 92,\n",
       " 'july': 98,\n",
       " 'august': 93,\n",
       " 'september': 84,\n",
       " 'octoboer': 73,\n",
       " 'november': 83,\n",
       " 'december': 86,\n",
       " 'none': 0}"
      ]
     },
     "execution_count": 154,
     "metadata": {},
     "output_type": "execute_result"
    }
   ],
   "source": [
    "get_dist_month_keyword(df_arrange,'fire')"
   ]
  },
  {
   "cell_type": "code",
   "execution_count": 159,
   "metadata": {},
   "outputs": [
    {
     "data": {
      "image/png": "[encoded data removed]",
      "text/plain": [
       "<Figure size 432x288 with 1 Axes>"
      ]
     },
     "metadata": {
      "needs_background": "light"
     },
     "output_type": "display_data"
    }
   ],
   "source": [
    "dist_month_fire = get_dist_month_keyword(df_arrange,'fire')\n",
    "\n",
    "fig, ax = plt.subplots()\n",
    "rect1 = ax.bar(list(dist_month_fire.keys())[:-1],list(dist_month_fire.values())[:-1],width = 0.5, color ='gray')\n",
    "ax.set_ylabel('frequency')\n",
    "ax.set_xlabel('month')\n",
    "\n",
    "ax.set_ylim(0,120)\n",
    "\n",
    "\n",
    "def autolabel(rects):\n",
    "    \"\"\"Attach a text label above each bar in *rects*, displaying its height.\"\"\"\n",
    "    for rect in rects:\n",
    "        height = rect.get_height()\n",
    "        ax.annotate('{}'.format(height),\n",
    "                    xy=(rect.get_x() + rect.get_width() / 2, height),\n",
    "                    xytext=(0, 3),  # 3 points vertical offset\n",
    "                    textcoords=\"offset points\",\n",
    "                    ha='center', va='bottom')\n",
    "\n",
    "\n",
    "autolabel(rect1)        \n",
    "        \n",
    "#plt.title(\"Frequency of keywords\")\n",
    "\n",
    "plt.xticks(list(dist_month.keys())[:-1], rotation= 45)\n",
    "plt.title(\"fire occurence in month\")\n",
    "fig.tight_layout()\n",
    "plt.savefig('Figure/section2/month_fire_distribution.png')\n",
    "plt.show()"
   ]
  },
  {
   "cell_type": "markdown",
   "metadata": {},
   "source": [
    "### Start Tokenize words with nltk"
   ]
  },
  {
   "cell_type": "code",
   "execution_count": 122,
   "metadata": {},
   "outputs": [
    {
     "name": "stderr",
     "output_type": "stream",
     "text": [
      "[nltk_data] Downloading package averaged_perceptron_tagger to\n",
      "[nltk_data]     /Users/macbookpro/nltk_data...\n",
      "[nltk_data]   Package averaged_perceptron_tagger is already up-to-\n",
      "[nltk_data]       date!\n"
     ]
    },
    {
     "data": {
      "text/plain": [
       "True"
      ]
     },
     "execution_count": 122,
     "metadata": {},
     "output_type": "execute_result"
    }
   ],
   "source": [
    "from nltk.corpus import stopwords\n",
    "from nltk.tokenize import RegexpTokenizer,word_tokenize\n",
    "from nltk.probability import ConditionalFreqDist\n",
    "from gensim.models import Word2Vec\n",
    "import nltk\n",
    "nltk.download('averaged_perceptron_tagger')"
   ]
  },
  {
   "cell_type": "code",
   "execution_count": 125,
   "metadata": {},
   "outputs": [],
   "source": [
    "\n",
    "#1. make lower case, regulazation\n",
    "l_bodies=[]\n",
    "for body in bodies :\n",
    "    \n",
    "    body = str(body).lower()\n",
    "    l_bodies.append(body)\n",
    "\n",
    "    \n",
    "#2. removing stop words, tokenize\n",
    "stop_words = set(stopwords.words('english'))\n",
    "\n",
    "token_sentence = []\n",
    "for words in l_bodies:\n",
    "    word_tokens= word_tokenize(words)\n",
    "    filter_sentence = [fw for fw in word_tokens if not fw in stop_words]\n",
    "    \n",
    "    for n in range(len(filter_sentence)) :\n",
    "        if filter_sentence[n] == 'collapsed' :\n",
    "            filter_sentence[n]  = 'collapse'\n",
    "        elif filter_sentence[n] == 'buildings':\n",
    "            filter_sentence[n] = 'building'\n",
    "       \n",
    "    ## fall + fell => fall (less frequency of fall just go with fell) , collapsed +collapse => collapse\n",
    "    #filter_sentence = nltk.pos_tag(filter_sentence)\n",
    "    token_sentence.append(filter_sentence)\n",
    "    \n",
    "#token_sentence\n",
    "#print(l_bodies)\n",
    "\n"
   ]
  },
  {
   "cell_type": "code",
   "execution_count": 126,
   "metadata": {},
   "outputs": [
    {
     "name": "stdout",
     "output_type": "stream",
     "text": [
      "5090410\n",
      "4565\n",
      "4565\n"
     ]
    }
   ],
   "source": [
    "#check how many words I use \n",
    "\n",
    "len(token_sentence)\n",
    "total_word_count = 0\n",
    "for i in range(len(token_sentence)) :\n",
    "    \n",
    "    total_word_count += len(token_sentence[i])\n",
    "print(total_word_count)\n",
    "print(len(token_sentence))\n",
    "print(len(l_bodies))"
   ]
  },
  {
   "cell_type": "code",
   "execution_count": 128,
   "metadata": {
    "collapsed": true
   },
   "outputs": [
    {
     "data": {
      "text/html": [
       "<div>\n",
       "<style scoped>\n",
       "    .dataframe tbody tr th:only-of-type {\n",
       "        vertical-align: middle;\n",
       "    }\n",
       "\n",
       "    .dataframe tbody tr th {\n",
       "        vertical-align: top;\n",
       "    }\n",
       "\n",
       "    .dataframe thead th {\n",
       "        text-align: right;\n",
       "    }\n",
       "</style>\n",
       "<table border=\"1\" class=\"dataframe\">\n",
       "  <thead>\n",
       "    <tr style=\"text-align: right;\">\n",
       "      <th></th>\n",
       "      <th>date</th>\n",
       "      <th>title</th>\n",
       "      <th>body</th>\n",
       "    </tr>\n",
       "  </thead>\n",
       "  <tbody>\n",
       "    <tr>\n",
       "      <th>0</th>\n",
       "      <td>20191230</td>\n",
       "      <td>After Death From Falling Debris, Violations Fo...</td>\n",
       "      <td>[advertisementsupported, bythe, infractions, ,...</td>\n",
       "    </tr>\n",
       "    <tr>\n",
       "      <th>1</th>\n",
       "      <td>20191225</td>\n",
       "      <td>For Trump Organization, Office Skyscrapers Mak...</td>\n",
       "      <td>[advertisementsupported, byoffice, towers, new...</td>\n",
       "    </tr>\n",
       "    <tr>\n",
       "      <th>2</th>\n",
       "      <td>20191225</td>\n",
       "      <td>Traffic Circles Are Everywhere in France. Not ...</td>\n",
       "      <td>[advertisementsupported, byfrance, dispatchtra...</td>\n",
       "    </tr>\n",
       "    <tr>\n",
       "      <th>3</th>\n",
       "      <td>20191224</td>\n",
       "      <td>Why Ice Is Falling From Glass Skyscrapers - Th...</td>\n",
       "      <td>[advertisementsupported, bynew, york, today, a...</td>\n",
       "    </tr>\n",
       "    <tr>\n",
       "      <th>4</th>\n",
       "      <td>20191224</td>\n",
       "      <td>A Trump Policy ‘Clarification’ All but Ends Pu...</td>\n",
       "      <td>[advertisementsupported, byby, lisa, friedmanw...</td>\n",
       "    </tr>\n",
       "  </tbody>\n",
       "</table>\n",
       "</div>"
      ],
      "text/plain": [
       "       date                                              title  \\\n",
       "0  20191230  After Death From Falling Debris, Violations Fo...   \n",
       "1  20191225  For Trump Organization, Office Skyscrapers Mak...   \n",
       "2  20191225  Traffic Circles Are Everywhere in France. Not ...   \n",
       "3  20191224  Why Ice Is Falling From Glass Skyscrapers - Th...   \n",
       "4  20191224  A Trump Policy ‘Clarification’ All but Ends Pu...   \n",
       "\n",
       "                                                body  \n",
       "0  [advertisementsupported, bythe, infractions, ,...  \n",
       "1  [advertisementsupported, byoffice, towers, new...  \n",
       "2  [advertisementsupported, byfrance, dispatchtra...  \n",
       "3  [advertisementsupported, bynew, york, today, a...  \n",
       "4  [advertisementsupported, byby, lisa, friedmanw...  "
      ]
     },
     "execution_count": 128,
     "metadata": {},
     "output_type": "execute_result"
    }
   ],
   "source": [
    "final_set['body'] = token_sentence\n",
    "df_nyt = pd.DataFrame(final_set, columns=[\"date\",\"title\",\"body\"])\n",
    "df_nyt.head()"
   ]
  },
  {
   "cell_type": "code",
   "execution_count": 829,
   "metadata": {},
   "outputs": [
    {
     "name": "stdout",
     "output_type": "stream",
     "text": [
      "192 233 284\n",
      "861\n"
     ]
    },
    {
     "data": {
      "text/plain": [
       "int"
      ]
     },
     "execution_count": 829,
     "metadata": {},
     "output_type": "execute_result"
    }
   ],
   "source": [
    "#frequency of five keywords\n",
    "\n",
    "cnt_fire =0 \n",
    "cnt_fall =0\n",
    "cnt_collapse =0 \n",
    "cnt_people = 0\n",
    "cnt_building = 0\n",
    "for token in token_sentence :\n",
    "    if 'fire' in token :\n",
    "        cnt_fire +=1\n",
    "    if 'collapse' in token :\n",
    "        cnt_collapse +=1\n",
    "    if 'fell' in token :\n",
    "        cnt_fall +=1\n",
    "    if 'building' in token :\n",
    "        cnt_building +=1\n",
    "    if 'people' in token :\n",
    "        cnt_people +=1\n",
    "        \n",
    "freq_dict = {}\n",
    "freq_dict['fire'] = cnt_fire\n",
    "freq_dict['fell'] = cnt_fall\n",
    "freq_dict['collapse'] = cnt_collapse\n",
    "freq_dict['building'] = cnt_building\n",
    "freq_dict['people'] = cnt_people\n",
    "print(cnt_fire, cnt_fall, cnt_collapse)\n",
    "print(len(token_sentence))\n",
    "type(cnt_people)"
   ]
  },
  {
   "cell_type": "code",
   "execution_count": 1027,
   "metadata": {},
   "outputs": [
    {
     "name": "stdout",
     "output_type": "stream",
     "text": [
      "{'fire': 192, 'fell': 233, 'collapse': 284, 'building': 514, 'people': 492}\n"
     ]
    },
    {
     "data": {
      "image/png": "[encoded data removed]",
      "text/plain": [
       "<Figure size 432x288 with 1 Axes>"
      ]
     },
     "metadata": {
      "needs_background": "light"
     },
     "output_type": "display_data"
    }
   ],
   "source": [
    "#frequency histogram of five keywords\n",
    "\n",
    "import matplotlib.pyplot as plt\n",
    "print(freq_dict)\n",
    "plt.bar(list(freq_dict.keys()),freq_dict.values(),width = 0.5, color ='gray')\n",
    "plt.title(\"Frequency of keywords\")\n",
    "plt.savefig('frequency_keyword.pdf')"
   ]
  },
  {
   "cell_type": "code",
   "execution_count": 696,
   "metadata": {},
   "outputs": [],
   "source": [
    "#start word2vec\n",
    "\n",
    "model = Word2Vec(token_sentence, size = 400, window=5, min_count=200, workers=3, sg=0, iter=5)"
   ]
  },
  {
   "cell_type": "code",
   "execution_count": 907,
   "metadata": {
    "collapsed": true
   },
   "outputs": [
    {
     "name": "stdout",
     "output_type": "stream",
     "text": [
      "building and collapse 0.5535143\n",
      "building and fire 0.5253745\n",
      "building and people -0.1435263\n",
      "building and fell 0.44253662\n",
      "fire and collapse 0.69090945\n",
      "fire and fell 0.7277216\n",
      "fire and people 0.33135825\n",
      "collapse and fell 0.95054793\n",
      "collpase and people 0.5097592\n",
      "people and fell 0.4861988\n"
     ]
    },
    {
     "name": "stderr",
     "output_type": "stream",
     "text": [
      "/Users/macbookpro/anaconda3/lib/python3.7/site-packages/ipykernel_launcher.py:6: DeprecationWarning: Call to deprecated `similarity` (Method will be removed in 4.0.0, use self.wv.similarity() instead).\n",
      "  \n",
      "/Users/macbookpro/anaconda3/lib/python3.7/site-packages/ipykernel_launcher.py:7: DeprecationWarning: Call to deprecated `similarity` (Method will be removed in 4.0.0, use self.wv.similarity() instead).\n",
      "  import sys\n",
      "/Users/macbookpro/anaconda3/lib/python3.7/site-packages/ipykernel_launcher.py:8: DeprecationWarning: Call to deprecated `similarity` (Method will be removed in 4.0.0, use self.wv.similarity() instead).\n",
      "  \n",
      "/Users/macbookpro/anaconda3/lib/python3.7/site-packages/ipykernel_launcher.py:9: DeprecationWarning: Call to deprecated `similarity` (Method will be removed in 4.0.0, use self.wv.similarity() instead).\n",
      "  if __name__ == '__main__':\n",
      "/Users/macbookpro/anaconda3/lib/python3.7/site-packages/ipykernel_launcher.py:10: DeprecationWarning: Call to deprecated `similarity` (Method will be removed in 4.0.0, use self.wv.similarity() instead).\n",
      "  # Remove the CWD from sys.path while we load stuff.\n",
      "/Users/macbookpro/anaconda3/lib/python3.7/site-packages/ipykernel_launcher.py:11: DeprecationWarning: Call to deprecated `similarity` (Method will be removed in 4.0.0, use self.wv.similarity() instead).\n",
      "  # This is added back by InteractiveShellApp.init_path()\n",
      "/Users/macbookpro/anaconda3/lib/python3.7/site-packages/ipykernel_launcher.py:12: DeprecationWarning: Call to deprecated `similarity` (Method will be removed in 4.0.0, use self.wv.similarity() instead).\n",
      "  if sys.path[0] == '':\n",
      "/Users/macbookpro/anaconda3/lib/python3.7/site-packages/ipykernel_launcher.py:13: DeprecationWarning: Call to deprecated `similarity` (Method will be removed in 4.0.0, use self.wv.similarity() instead).\n",
      "  del sys.path[0]\n",
      "/Users/macbookpro/anaconda3/lib/python3.7/site-packages/ipykernel_launcher.py:14: DeprecationWarning: Call to deprecated `similarity` (Method will be removed in 4.0.0, use self.wv.similarity() instead).\n",
      "  \n",
      "/Users/macbookpro/anaconda3/lib/python3.7/site-packages/ipykernel_launcher.py:15: DeprecationWarning: Call to deprecated `similarity` (Method will be removed in 4.0.0, use self.wv.similarity() instead).\n",
      "  from ipykernel import kernelapp as app\n",
      "/Users/macbookpro/anaconda3/lib/python3.7/site-packages/ipykernel_launcher.py:17: DeprecationWarning: Call to deprecated `similarity` (Method will be removed in 4.0.0, use self.wv.similarity() instead).\n",
      "/Users/macbookpro/anaconda3/lib/python3.7/site-packages/ipykernel_launcher.py:18: DeprecationWarning: Call to deprecated `similarity` (Method will be removed in 4.0.0, use self.wv.similarity() instead).\n",
      "/Users/macbookpro/anaconda3/lib/python3.7/site-packages/ipykernel_launcher.py:19: DeprecationWarning: Call to deprecated `similarity` (Method will be removed in 4.0.0, use self.wv.similarity() instead).\n",
      "/Users/macbookpro/anaconda3/lib/python3.7/site-packages/ipykernel_launcher.py:20: DeprecationWarning: Call to deprecated `similarity` (Method will be removed in 4.0.0, use self.wv.similarity() instead).\n",
      "/Users/macbookpro/anaconda3/lib/python3.7/site-packages/ipykernel_launcher.py:21: DeprecationWarning: Call to deprecated `similarity` (Method will be removed in 4.0.0, use self.wv.similarity() instead).\n",
      "/Users/macbookpro/anaconda3/lib/python3.7/site-packages/ipykernel_launcher.py:22: DeprecationWarning: Call to deprecated `similarity` (Method will be removed in 4.0.0, use self.wv.similarity() instead).\n",
      "/Users/macbookpro/anaconda3/lib/python3.7/site-packages/ipykernel_launcher.py:23: DeprecationWarning: Call to deprecated `similarity` (Method will be removed in 4.0.0, use self.wv.similarity() instead).\n",
      "/Users/macbookpro/anaconda3/lib/python3.7/site-packages/ipykernel_launcher.py:24: DeprecationWarning: Call to deprecated `similarity` (Method will be removed in 4.0.0, use self.wv.similarity() instead).\n",
      "/Users/macbookpro/anaconda3/lib/python3.7/site-packages/ipykernel_launcher.py:25: DeprecationWarning: Call to deprecated `similarity` (Method will be removed in 4.0.0, use self.wv.similarity() instead).\n",
      "/Users/macbookpro/anaconda3/lib/python3.7/site-packages/ipykernel_launcher.py:26: DeprecationWarning: Call to deprecated `similarity` (Method will be removed in 4.0.0, use self.wv.similarity() instead).\n"
     ]
    }
   ],
   "source": [
    "#check similarty between 5 keywords (total 10)\n",
    "#fire - collapse, fire - fell, fire - people, fire - building\n",
    "#collapse - fell, collapse - people , collapse - building\n",
    "#fell - people , fell - building\n",
    "#building - people \n",
    "sb1 = model.similarity('building','collapse')\n",
    "sb2 = model.similarity('building','fire')\n",
    "sb3 = model.similarity('building','people')\n",
    "sb4 = model.similarity('building','fell')\n",
    "sb5 = model.similarity('fire','collapse')\n",
    "sb6 = model.similarity('fire','fell')\n",
    "sb7 = model.similarity('fire','people')\n",
    "sb8 = model.similarity('collapse','fell')\n",
    "sb9 = model.similarity('collapse','people')\n",
    "sb10 = model.similarity('people','fell')\n",
    "\n",
    "print('building and collapse', model.similarity('building','collapse'))  ## similarity between words\n",
    "print('building and fire', model.similarity('building','fire')) \n",
    "print('building and people', model.similarity('building','people')) \n",
    "print('building and fell', model.similarity('building','fell'))\n",
    "print('fire and collapse', model.similarity('fire','collapse'))\n",
    "print('fire and fell', model.similarity('fire','fell'))\n",
    "print('fire and people', model.similarity('fire','people'))\n",
    "print('collapse and fell', model.similarity('collapse','fell'))\n",
    "print('collpase and people', model.similarity('collapse','people'))\n",
    "print('people and fell', model.similarity('people','fell'))\n",
    "\n",
    "sim_between = [('building and collapse' , \"%.3f\" % sb1),('building and fire',\"%.3f\" % sb2), \n",
    "               ('building and people ',\"%.3f\" % sb3), \n",
    "               ('building and fell',\"%.3f\" % sb4),('collapse and fell', \"%.3f\" % sb8), \n",
    "               ('collapse and people',\"%.3f\" % sb9),('fire and collapse',\"%.3f\" % sb5), \n",
    "               ('fire and fell', \"%.3f\" % sb6), ('fire and people',\"%.3f\" % sb7),\n",
    "              ('people and fell', \"%.3f\" % sb10)]\n",
    "df_sim_between = pd.DataFrame(sim_between, columns=['Words', 'Similarity'])\n",
    "df_sim_between.to_csv('Figure/sim_between_0521.csv')"
   ]
  },
  {
   "cell_type": "code",
   "execution_count": 698,
   "metadata": {},
   "outputs": [
    {
     "name": "stderr",
     "output_type": "stream",
     "text": [
      "/Users/macbookpro/anaconda3/lib/python3.7/site-packages/ipykernel_launcher.py:1: DeprecationWarning: Call to deprecated `similarity` (Method will be removed in 4.0.0, use self.wv.similarity() instead).\n",
      "  \"\"\"Entry point for launching an IPython kernel.\n"
     ]
    },
    {
     "data": {
      "text/plain": [
       "0.5253745"
      ]
     },
     "execution_count": 698,
     "metadata": {},
     "output_type": "execute_result"
    }
   ],
   "source": [
    "model.similarity('building','fire') "
   ]
  },
  {
   "cell_type": "code",
   "execution_count": 871,
   "metadata": {},
   "outputs": [],
   "source": [
    "# generate similar word with threshold and graph \n",
    "\n",
    "key_list = ['fire','fell','collapse','building','people']\n",
    "def network_gen(key_list,thres,sav_name) :\n",
    "    set_of_g={}\n",
    "    for key in key_list :\n",
    "        \n",
    "        \n",
    "        sim_list = model.similar_by_vector(key, topn=100, restrict_vocab=None)\n",
    "        network = [sim_list[i][0] for i in range(len(sim_list)) if sim_list[i][1] >= thres]\n",
    "        network_df = [sim_list[i] for i in range(len(sim_list)) if sim_list[i][1] >= thres]\n",
    "  \n",
    "        \n",
    "        set_of_g[key] = network\n",
    "      \n",
    "        df_word = pd.DataFrame(network_df, columns= ['Word', 'Similarity'])\n",
    "        df_word.to_csv('Similar_words_100/'+key+str(thres)+'.csv')\n",
    "    \n",
    "    #generate graph\n",
    "    #print(set_of_g)\n",
    "    G = nx.Graph(set_of_g)\n",
    "    nx.write_gml(G, \"Network/\"+sav_name+\".gml\")\n",
    "    \n",
    "    return \"Success!\"\n",
    "    "
   ]
  },
  {
   "cell_type": "code",
   "execution_count": 872,
   "metadata": {
    "collapsed": true
   },
   "outputs": [
    {
     "name": "stdout",
     "output_type": "stream",
     "text": [
      "{'fire': ['said.the', 'police', 'scene', 'taken', 'cause', 'investigators', 'authorities', 'hospital', 'injuries', 'chief', 'night', 'floor', 'spokesman', 'man', 'dead', 'monday', 'friday', 'driver', 'investigation', 'later', 'truck', 'found', 'yesterday', 'officials', 'death', 'worker', 'fell', 'working', 'said', 'tuesday', 'site', 'crash', 'morning', 'debris', 'side', 'left', 'collapse', 'thursday', 'across', 'center', 'top', 'accident', 'avenue', 'office', 'district', 'told', 'second', 'took', 'official', 'street', 'mr.', 'ground', 'occurred', 'concrete', 'injured', 'began', 'brooklyn', 'charges', 'west', 'away', 'area', 'car', 'j.', 'east', 'steel', 'mayor', 'news', 'ms.', 'wall', 'department', 'several', 'hours', 'involved', 'manhattan', 'house', 'came', 'building', 'place', 'right', 'commissioner'], 'fell': ['west', 'collapse', 'side', 'east', 'floor', 'debris', 'ground', 'street', 'across', 'friday', 'second', 'avenue', 'occurred', 'death', 'morning', 'worker', 'yesterday', 'injuries', 'monday', 'injured', 'left', 'dead', 'brooklyn', 'wall', 'authorities', 'near', 'taken', 'came', 'steel', 'march', 'tuesday', 'crash', 'said.the', 'died', 'manhattan', 'seven', 'man', 'men', 'truck', 'hours', 'night', 'feet', 'site', 'later', 'hospital', 'killed', 'top', 'working', 'fire', 'thursday', 'police', 'scene', 'tower', 'driver', 'began', 'cars', 'around', 'caused', 'workers', 'one', 'day', 'several', 'took', 'another', '15', 'accident', 'cause', 'away', 'along', 'car', 'two', 'concrete', 'crane', 'house', 'others', 'center', 'area', 'charges', 'five', 'days', 'district', '30', 'investigators', 'least', 'six', 'train', 'bridge', 'south'], 'collapse': ['fell', 'debris', 'east', 'floor', 'ground', 'occurred', 'west', 'steel', 'street', 'across', 'death', 'side', 'site', 'friday', 'second', 'march', 'wall', 'injuries', 'authorities', 'monday', 'avenue', 'seven', 'tower', 'tuesday', 'yesterday', 'injured', 'top', 'worker', 'several', 'near', 'died', 'workers', 'killed', 'dead', 'said.the', 'caused', 'morning', 'began', 'left', 'brooklyn', 'manhattan', 'concrete', 'came', 'crash', 'thursday', 'two', 'fire', 'taken', 'hours', 'crane', 'feet', 'working', '15', 'men', 'around', 'accident', 'equipment', 'later', 'night', 'investigators', 'truck', 'cause', 'scene', 'man', 'hospital', 'five', 'six', '30', 'least', 'others', 'police', 'one', 'building', 'another', 'charges', 'south', 'days', 'known', 'cars', 'four', 'officials', '\\x97', 'district', 'driver', 'residents', 'including', 'people', 'cranes', 'involved', 'area', 'found'], 'building': ['department', 'inspectors', 'issued', 'commissioner', 'city', 'cranes', 'involved', 'contractor', 'violations', 'tower', 'crane', 'investigation', 'j.', 'office', 'equipment', 'site', 'found', 'district', 'charges', 'investigators', 'former', 'company', 'several', 'officials', 'mayor', 'contractors', 'engineers', 'sites', 'construction', 'including', 'began', 'chief', 'top', 'according', 'manhattan', 'york', 'steel', 'safety', 'concrete', 'times', 'collapse', 'official', 'east', 'death', 'work', 'fire', 'used', 'friday', 'across', 'floor'], 'people': ['others', 'died', 'injured', 'one', 'killed', 'around', 'men', 'caused', 'accident', 'another', 'came', 'days', 'least', 'authorities', 'debris', 'train', 'injuries', 'dead', 'occurred', 'workers', 'two', 'four', 'ground', 'near', 'hours', 'three', 'seven', 'monday', 'away', 'crash', 'left', 'march', 'residents', 'five', 'members', 'tuesday', 'thursday', 'cars', 'taken', 'news', 'hospital', 'death', 'car', 'morning', 'collapse', 'man', 'worker', 'wall', 'day', 'scene']}\n"
     ]
    },
    {
     "name": "stderr",
     "output_type": "stream",
     "text": [
      "/Users/macbookpro/anaconda3/lib/python3.7/site-packages/ipykernel_launcher.py:9: DeprecationWarning: Call to deprecated `similar_by_vector` (Method will be removed in 4.0.0, use self.wv.similar_by_vector() instead).\n",
      "  if __name__ == '__main__':\n"
     ]
    },
    {
     "data": {
      "text/plain": [
       "'Success!'"
      ]
     },
     "execution_count": 872,
     "metadata": {},
     "output_type": "execute_result"
    }
   ],
   "source": [
    "network_gen(key_list, 0.5,'network1')"
   ]
  },
  {
   "cell_type": "code",
   "execution_count": 873,
   "metadata": {},
   "outputs": [
    {
     "name": "stderr",
     "output_type": "stream",
     "text": [
      "/Users/macbookpro/anaconda3/lib/python3.7/site-packages/ipykernel_launcher.py:4: DeprecationWarning: Call to deprecated `similar_by_vector` (Method will be removed in 4.0.0, use self.wv.similar_by_vector() instead).\n",
      "  after removing the cwd from sys.path.\n",
      "/Users/macbookpro/anaconda3/lib/python3.7/site-packages/ipykernel_launcher.py:5: DeprecationWarning: Call to deprecated `similar_by_vector` (Method will be removed in 4.0.0, use self.wv.similar_by_vector() instead).\n",
      "  \"\"\"\n",
      "/Users/macbookpro/anaconda3/lib/python3.7/site-packages/ipykernel_launcher.py:6: DeprecationWarning: Call to deprecated `similar_by_vector` (Method will be removed in 4.0.0, use self.wv.similar_by_vector() instead).\n",
      "  \n",
      "/Users/macbookpro/anaconda3/lib/python3.7/site-packages/ipykernel_launcher.py:7: DeprecationWarning: Call to deprecated `similar_by_vector` (Method will be removed in 4.0.0, use self.wv.similar_by_vector() instead).\n",
      "  import sys\n",
      "/Users/macbookpro/anaconda3/lib/python3.7/site-packages/ipykernel_launcher.py:8: DeprecationWarning: Call to deprecated `similar_by_vector` (Method will be removed in 4.0.0, use self.wv.similar_by_vector() instead).\n",
      "  \n"
     ]
    }
   ],
   "source": [
    "# top 20 data for graph coloring, top 50 data for showing, top 100 data for make network graph\n",
    "\n",
    "\n",
    "sim_list_fire = model.similar_by_vector('fire', topn=20, restrict_vocab=None)\n",
    "sim_list_fall = model.similar_by_vector('fell', topn=20, restrict_vocab=None)\n",
    "sim_list_collapse = model.similar_by_vector('collapse', topn=20, restrict_vocab=None)\n",
    "sim_list_building = model.similar_by_vector('building', topn=20, restrict_vocab=None)\n",
    "sim_list_people = model.similar_by_vector('people', topn=20, restrict_vocab= None)\n",
    "\n"
   ]
  },
  {
   "cell_type": "code",
   "execution_count": 903,
   "metadata": {},
   "outputs": [],
   "source": [
    "# list of similiar 20 words -> generating color in UMAP\n",
    "\n",
    "sim_fire_word = []\n",
    "for i in range(len(sim_list_fire)) :\n",
    "    sim_fire_word.append(sim_list_fire[i][0])\n",
    "#print(sim_fire_word)\n",
    "sim_fell_word = []\n",
    "for i in range(len(sim_list_fall)) :\n",
    "    sim_fell_word.append(sim_list_fall[i][0])\n",
    "#print(sim_fall_word)\n",
    "sim_collapse_word =[]\n",
    "for i in range(len(sim_list_collapse)):\n",
    "    sim_collapse_word.append(sim_list_collapse[i][0])\n",
    "#print(sim_collapse_word)\n",
    "sim_building_word = []\n",
    "for i in range(len(sim_list_building)):\n",
    "    sim_building_word.append(sim_list_building[i][0])\n",
    "#print(sim_building_word)\n",
    "sim_people_word = []\n",
    "for i in range(len(sim_list_people)):\n",
    "    sim_people_word.append(sim_list_people[i][0])\n",
    "#print(sim_people_word)\n",
    "\n",
    "keywords = ['fire','fell','collapse','building','people']\n",
    "keyword_dict = {}\n",
    "\n",
    "for keyword in keywords :\n",
    "    a = 'sim_%s_word'%(keyword)\n",
    "    ##local varible same name with a\n",
    "    \n",
    "    keyword_dict[keyword] = locals()[a]\n",
    "    \n",
    "df_keyword = pd.DataFrame.from_dict(keyword_dict)\n",
    "#df_keyword.to_csv('keyword_simlist.csv')\n",
    "\n"
   ]
  },
  {
   "cell_type": "code",
   "execution_count": 898,
   "metadata": {
    "collapsed": true
   },
   "outputs": [
    {
     "data": {
      "image/png": "[encoded data removed]",
      "text/plain": [
       "<Figure size 864x288 with 1 Axes>"
      ]
     },
     "metadata": {
      "needs_background": "light"
     },
     "output_type": "display_data"
    }
   ],
   "source": [
    "from matplotlib.backends.backend_pdf import PdfPages\n",
    "fig, ax = plt.subplots(figsize=(12,4))\n",
    "ax.axis('tight')\n",
    "ax.axis('off')\n",
    "the_table = ax.table(cellText = df_keyword.values, colLabels = df_keyword.columns, loc = 'center')\n",
    "pp = PdfPages(\"simlist.pdf\")\n",
    "pp.savefig(fig,bbox_inches = 'tight')"
   ]
  },
  {
   "cell_type": "code",
   "execution_count": 899,
   "metadata": {
    "collapsed": true
   },
   "outputs": [
    {
     "data": {
      "text/html": [
       "<div>\n",
       "<style scoped>\n",
       "    .dataframe tbody tr th:only-of-type {\n",
       "        vertical-align: middle;\n",
       "    }\n",
       "\n",
       "    .dataframe tbody tr th {\n",
       "        vertical-align: top;\n",
       "    }\n",
       "\n",
       "    .dataframe thead th {\n",
       "        text-align: right;\n",
       "    }\n",
       "</style>\n",
       "<table border=\"1\" class=\"dataframe\">\n",
       "  <thead>\n",
       "    <tr style=\"text-align: right;\">\n",
       "      <th></th>\n",
       "      <th>fire</th>\n",
       "      <th>fell</th>\n",
       "      <th>collapse</th>\n",
       "      <th>building</th>\n",
       "      <th>people</th>\n",
       "    </tr>\n",
       "  </thead>\n",
       "  <tbody>\n",
       "    <tr>\n",
       "      <th>0</th>\n",
       "      <td>said.the</td>\n",
       "      <td>west</td>\n",
       "      <td>fell</td>\n",
       "      <td>department</td>\n",
       "      <td>others</td>\n",
       "    </tr>\n",
       "    <tr>\n",
       "      <th>1</th>\n",
       "      <td>police</td>\n",
       "      <td>collapse</td>\n",
       "      <td>debris</td>\n",
       "      <td>inspectors</td>\n",
       "      <td>died</td>\n",
       "    </tr>\n",
       "    <tr>\n",
       "      <th>2</th>\n",
       "      <td>scene</td>\n",
       "      <td>side</td>\n",
       "      <td>east</td>\n",
       "      <td>issued</td>\n",
       "      <td>injured</td>\n",
       "    </tr>\n",
       "    <tr>\n",
       "      <th>3</th>\n",
       "      <td>taken</td>\n",
       "      <td>east</td>\n",
       "      <td>floor</td>\n",
       "      <td>commissioner</td>\n",
       "      <td>one</td>\n",
       "    </tr>\n",
       "    <tr>\n",
       "      <th>4</th>\n",
       "      <td>cause</td>\n",
       "      <td>floor</td>\n",
       "      <td>ground</td>\n",
       "      <td>city</td>\n",
       "      <td>killed</td>\n",
       "    </tr>\n",
       "    <tr>\n",
       "      <th>5</th>\n",
       "      <td>investigators</td>\n",
       "      <td>debris</td>\n",
       "      <td>occurred</td>\n",
       "      <td>cranes</td>\n",
       "      <td>around</td>\n",
       "    </tr>\n",
       "    <tr>\n",
       "      <th>6</th>\n",
       "      <td>authorities</td>\n",
       "      <td>ground</td>\n",
       "      <td>west</td>\n",
       "      <td>involved</td>\n",
       "      <td>men</td>\n",
       "    </tr>\n",
       "    <tr>\n",
       "      <th>7</th>\n",
       "      <td>hospital</td>\n",
       "      <td>street</td>\n",
       "      <td>steel</td>\n",
       "      <td>contractor</td>\n",
       "      <td>caused</td>\n",
       "    </tr>\n",
       "    <tr>\n",
       "      <th>8</th>\n",
       "      <td>injuries</td>\n",
       "      <td>across</td>\n",
       "      <td>street</td>\n",
       "      <td>violations</td>\n",
       "      <td>accident</td>\n",
       "    </tr>\n",
       "    <tr>\n",
       "      <th>9</th>\n",
       "      <td>chief</td>\n",
       "      <td>friday</td>\n",
       "      <td>across</td>\n",
       "      <td>tower</td>\n",
       "      <td>another</td>\n",
       "    </tr>\n",
       "    <tr>\n",
       "      <th>10</th>\n",
       "      <td>night</td>\n",
       "      <td>second</td>\n",
       "      <td>death</td>\n",
       "      <td>crane</td>\n",
       "      <td>came</td>\n",
       "    </tr>\n",
       "    <tr>\n",
       "      <th>11</th>\n",
       "      <td>floor</td>\n",
       "      <td>avenue</td>\n",
       "      <td>side</td>\n",
       "      <td>investigation</td>\n",
       "      <td>days</td>\n",
       "    </tr>\n",
       "    <tr>\n",
       "      <th>12</th>\n",
       "      <td>spokesman</td>\n",
       "      <td>occurred</td>\n",
       "      <td>site</td>\n",
       "      <td>j.</td>\n",
       "      <td>least</td>\n",
       "    </tr>\n",
       "    <tr>\n",
       "      <th>13</th>\n",
       "      <td>man</td>\n",
       "      <td>death</td>\n",
       "      <td>friday</td>\n",
       "      <td>office</td>\n",
       "      <td>authorities</td>\n",
       "    </tr>\n",
       "    <tr>\n",
       "      <th>14</th>\n",
       "      <td>dead</td>\n",
       "      <td>morning</td>\n",
       "      <td>second</td>\n",
       "      <td>equipment</td>\n",
       "      <td>debris</td>\n",
       "    </tr>\n",
       "    <tr>\n",
       "      <th>15</th>\n",
       "      <td>monday</td>\n",
       "      <td>worker</td>\n",
       "      <td>march</td>\n",
       "      <td>site</td>\n",
       "      <td>train</td>\n",
       "    </tr>\n",
       "    <tr>\n",
       "      <th>16</th>\n",
       "      <td>friday</td>\n",
       "      <td>yesterday</td>\n",
       "      <td>wall</td>\n",
       "      <td>found</td>\n",
       "      <td>injuries</td>\n",
       "    </tr>\n",
       "    <tr>\n",
       "      <th>17</th>\n",
       "      <td>driver</td>\n",
       "      <td>injuries</td>\n",
       "      <td>injuries</td>\n",
       "      <td>district</td>\n",
       "      <td>dead</td>\n",
       "    </tr>\n",
       "    <tr>\n",
       "      <th>18</th>\n",
       "      <td>investigation</td>\n",
       "      <td>monday</td>\n",
       "      <td>authorities</td>\n",
       "      <td>charges</td>\n",
       "      <td>occurred</td>\n",
       "    </tr>\n",
       "    <tr>\n",
       "      <th>19</th>\n",
       "      <td>later</td>\n",
       "      <td>injured</td>\n",
       "      <td>monday</td>\n",
       "      <td>investigators</td>\n",
       "      <td>workers</td>\n",
       "    </tr>\n",
       "  </tbody>\n",
       "</table>\n",
       "</div>"
      ],
      "text/plain": [
       "             fire       fell     collapse       building       people\n",
       "0        said.the       west         fell     department       others\n",
       "1          police   collapse       debris     inspectors         died\n",
       "2           scene       side         east         issued      injured\n",
       "3           taken       east        floor   commissioner          one\n",
       "4           cause      floor       ground           city       killed\n",
       "5   investigators     debris     occurred         cranes       around\n",
       "6     authorities     ground         west       involved          men\n",
       "7        hospital     street        steel     contractor       caused\n",
       "8        injuries     across       street     violations     accident\n",
       "9           chief     friday       across          tower      another\n",
       "10          night     second        death          crane         came\n",
       "11          floor     avenue         side  investigation         days\n",
       "12      spokesman   occurred         site             j.        least\n",
       "13            man      death       friday         office  authorities\n",
       "14           dead    morning       second      equipment       debris\n",
       "15         monday     worker        march           site        train\n",
       "16         friday  yesterday         wall          found     injuries\n",
       "17         driver   injuries     injuries       district         dead\n",
       "18  investigation     monday  authorities        charges     occurred\n",
       "19          later    injured       monday  investigators      workers"
      ]
     },
     "execution_count": 899,
     "metadata": {},
     "output_type": "execute_result"
    }
   ],
   "source": [
    "df_keyword"
   ]
  },
  {
   "cell_type": "code",
   "execution_count": 702,
   "metadata": {},
   "outputs": [],
   "source": [
    "import numpy as np\n",
    "import matplotlib.pyplot as plt\n",
    "import seaborn as sns\n",
    "import pandas as pd\n",
    "%matplotlib inline\n",
    "from umap import UMAP"
   ]
  },
  {
   "cell_type": "code",
   "execution_count": 703,
   "metadata": {},
   "outputs": [],
   "source": [
    "reducer = UMAP(n_neighbors =5, min_dist =0.1, n_components = 2, verbose = True)"
   ]
  },
  {
   "cell_type": "code",
   "execution_count": 704,
   "metadata": {},
   "outputs": [
    {
     "data": {
      "text/plain": [
       "861"
      ]
     },
     "execution_count": 704,
     "metadata": {},
     "output_type": "execute_result"
    }
   ],
   "source": [
    "len(token_sentence)"
   ]
  },
  {
   "cell_type": "code",
   "execution_count": 762,
   "metadata": {},
   "outputs": [
    {
     "name": "stderr",
     "output_type": "stream",
     "text": [
      "/Users/macbookpro/anaconda3/lib/python3.7/site-packages/ipykernel_launcher.py:1: DeprecationWarning: Call to deprecated `__getitem__` (Method will be removed in 4.0.0, use self.wv.__getitem__() instead).\n",
      "  \"\"\"Entry point for launching an IPython kernel.\n"
     ]
    }
   ],
   "source": [
    "X = model[model.wv.vocab]"
   ]
  },
  {
   "cell_type": "code",
   "execution_count": 763,
   "metadata": {},
   "outputs": [
    {
     "name": "stdout",
     "output_type": "stream",
     "text": [
      "285\n"
     ]
    }
   ],
   "source": [
    "#list of word\n",
    "X_l = list(model.wv.vocab)\n",
    "print(len(X_l))\n",
    "#print(X_l)"
   ]
  },
  {
   "cell_type": "code",
   "execution_count": 764,
   "metadata": {},
   "outputs": [
    {
     "data": {
      "text/plain": [
       "(285, 400)"
      ]
     },
     "execution_count": 764,
     "metadata": {},
     "output_type": "execute_result"
    }
   ],
   "source": [
    "X.shape"
   ]
  },
  {
   "cell_type": "code",
   "execution_count": 765,
   "metadata": {},
   "outputs": [
    {
     "name": "stdout",
     "output_type": "stream",
     "text": [
      "UMAP(a=None, angular_rp_forest=False, b=None, init='spectral',\n",
      "     learning_rate=1.0, local_connectivity=1.0, metric='euclidean',\n",
      "     metric_kwds=None, min_dist=0.1, n_components=2, n_epochs=None,\n",
      "     n_neighbors=5, negative_sample_rate=5, random_state=None,\n",
      "     repulsion_strength=1.0, set_op_mix_ratio=1.0, spread=1.0,\n",
      "     target_metric='categorical', target_metric_kwds=None,\n",
      "     target_n_neighbors=-1, target_weight=0.5, transform_queue_size=4.0,\n",
      "     transform_seed=42, verbose=True)\n",
      "Construct fuzzy simplicial set\n",
      "Thu Apr  9 13:27:07 2020 Finding Nearest Neighbors\n",
      "Thu Apr  9 13:27:07 2020 Finished Nearest Neighbor Search\n",
      "Thu Apr  9 13:27:07 2020 Construct embedding\n",
      "\tcompleted  0  /  500 epochs\n",
      "\tcompleted  50  /  500 epochs\n",
      "\tcompleted  100  /  500 epochs\n",
      "\tcompleted  150  /  500 epochs\n",
      "\tcompleted  200  /  500 epochs\n",
      "\tcompleted  250  /  500 epochs\n",
      "\tcompleted  300  /  500 epochs\n",
      "\tcompleted  350  /  500 epochs\n",
      "\tcompleted  400  /  500 epochs\n",
      "\tcompleted  450  /  500 epochs\n",
      "Thu Apr  9 13:27:07 2020 Finished embedding\n"
     ]
    },
    {
     "data": {
      "text/plain": [
       "<matplotlib.collections.PathCollection at 0x12e4c8278>"
      ]
     },
     "execution_count": 765,
     "metadata": {},
     "output_type": "execute_result"
    },
    {
     "data": {
      "image/png": "[encoded data removed]",
      "text/plain": [
       "<Figure size 720x648 with 1 Axes>"
      ]
     },
     "metadata": {
      "needs_background": "light"
     },
     "output_type": "display_data"
    }
   ],
   "source": [
    "cluster_embedding = reducer.fit_transform(X)\n",
    "\n",
    "plt.figure(figsize=(10,9))\n",
    "plt.scatter(cluster_embedding[:,0], cluster_embedding[:,1],s=5,cmap='tab10')"
   ]
  },
  {
   "cell_type": "code",
   "execution_count": 766,
   "metadata": {},
   "outputs": [],
   "source": [
    "df = pd.DataFrame(cluster_embedding)"
   ]
  },
  {
   "cell_type": "code",
   "execution_count": 767,
   "metadata": {},
   "outputs": [
    {
     "data": {
      "text/html": [
       "<div>\n",
       "<style scoped>\n",
       "    .dataframe tbody tr th:only-of-type {\n",
       "        vertical-align: middle;\n",
       "    }\n",
       "\n",
       "    .dataframe tbody tr th {\n",
       "        vertical-align: top;\n",
       "    }\n",
       "\n",
       "    .dataframe thead th {\n",
       "        text-align: right;\n",
       "    }\n",
       "</style>\n",
       "<table border=\"1\" class=\"dataframe\">\n",
       "  <thead>\n",
       "    <tr style=\"text-align: right;\">\n",
       "      <th></th>\n",
       "      <th>0</th>\n",
       "      <th>1</th>\n",
       "    </tr>\n",
       "  </thead>\n",
       "  <tbody>\n",
       "    <tr>\n",
       "      <th>0</th>\n",
       "      <td>-0.807685</td>\n",
       "      <td>1.462215</td>\n",
       "    </tr>\n",
       "    <tr>\n",
       "      <th>1</th>\n",
       "      <td>4.197803</td>\n",
       "      <td>1.868301</td>\n",
       "    </tr>\n",
       "    <tr>\n",
       "      <th>2</th>\n",
       "      <td>2.138629</td>\n",
       "      <td>-3.408409</td>\n",
       "    </tr>\n",
       "    <tr>\n",
       "      <th>3</th>\n",
       "      <td>1.486671</td>\n",
       "      <td>-2.618109</td>\n",
       "    </tr>\n",
       "    <tr>\n",
       "      <th>4</th>\n",
       "      <td>2.795085</td>\n",
       "      <td>-3.027621</td>\n",
       "    </tr>\n",
       "    <tr>\n",
       "      <th>...</th>\n",
       "      <td>...</td>\n",
       "      <td>...</td>\n",
       "    </tr>\n",
       "    <tr>\n",
       "      <th>280</th>\n",
       "      <td>-2.277071</td>\n",
       "      <td>-0.721042</td>\n",
       "    </tr>\n",
       "    <tr>\n",
       "      <th>281</th>\n",
       "      <td>-2.621548</td>\n",
       "      <td>-0.886539</td>\n",
       "    </tr>\n",
       "    <tr>\n",
       "      <th>282</th>\n",
       "      <td>1.106151</td>\n",
       "      <td>2.491671</td>\n",
       "    </tr>\n",
       "    <tr>\n",
       "      <th>283</th>\n",
       "      <td>-2.652903</td>\n",
       "      <td>-0.914760</td>\n",
       "    </tr>\n",
       "    <tr>\n",
       "      <th>284</th>\n",
       "      <td>-1.104840</td>\n",
       "      <td>0.171526</td>\n",
       "    </tr>\n",
       "  </tbody>\n",
       "</table>\n",
       "<p>285 rows × 2 columns</p>\n",
       "</div>"
      ],
      "text/plain": [
       "            0         1\n",
       "0   -0.807685  1.462215\n",
       "1    4.197803  1.868301\n",
       "2    2.138629 -3.408409\n",
       "3    1.486671 -2.618109\n",
       "4    2.795085 -3.027621\n",
       "..        ...       ...\n",
       "280 -2.277071 -0.721042\n",
       "281 -2.621548 -0.886539\n",
       "282  1.106151  2.491671\n",
       "283 -2.652903 -0.914760\n",
       "284 -1.104840  0.171526\n",
       "\n",
       "[285 rows x 2 columns]"
      ]
     },
     "execution_count": 767,
     "metadata": {},
     "output_type": "execute_result"
    }
   ],
   "source": [
    "#coordinate of words\n",
    "\n",
    "df"
   ]
  },
  {
   "cell_type": "code",
   "execution_count": 912,
   "metadata": {},
   "outputs": [
    {
     "name": "stderr",
     "output_type": "stream",
     "text": [
      "/Users/macbookpro/anaconda3/lib/python3.7/site-packages/matplotlib/backends/_backend_pdf_ps.py:62: RuntimeWarning: Glyph 151 missing from current font.\n",
      "  font.set_text(s, 0.0, flags=ft2font.LOAD_NO_HINTING)\n",
      "/Users/macbookpro/anaconda3/lib/python3.7/site-packages/matplotlib/backends/backend_agg.py:214: RuntimeWarning: Glyph 151 missing from current font.\n",
      "  font.set_text(s, 0.0, flags=flags)\n",
      "/Users/macbookpro/anaconda3/lib/python3.7/site-packages/matplotlib/backends/backend_agg.py:183: RuntimeWarning: Glyph 151 missing from current font.\n",
      "  font.set_text(s, 0, flags=flags)\n"
     ]
    },
    {
     "data": {
      "image/png": "[encoded data removed]",
      "text/plain": [
       "<Figure size 3600x2160 with 1 Axes>"
      ]
     },
     "metadata": {
      "needs_background": "light"
     },
     "output_type": "display_data"
    }
   ],
   "source": [
    "fig = plt.figure()\n",
    "fig.set_size_inches(50,30)\n",
    "ax = fig.add_subplot(1,1,1)\n",
    "\n",
    "ax.scatter(df[0],df[1])\n",
    "\n",
    "for i, txt in enumerate(X_l):\n",
    "    \n",
    "    if txt == 'fire' :\n",
    "        ax.annotate(txt, (df.loc[i][0],df.loc[i][1]), color = 'red', fontsize=30)\n",
    "    elif txt in sim_fire_word :\n",
    "        ax.annotate(txt, (df.loc[i][0],df.loc[i][1]), color ='red', fontsize=8)\n",
    "        \n",
    "\n",
    "        \n",
    "   #elif txt =='fell' :\n",
    "        #ax.annotate(txt, (df.loc[i][0],df.loc[i][1]),color='green', fontsize=30)\n",
    "        \n",
    "    #elif txt in sim_fall_word :\n",
    "        #ax.annotate(txt, (df.loc[i][0],df.loc[i][1]), color ='green', fontsize=8)  \n",
    "        \n",
    "    elif txt =='collapse' :\n",
    "        ax.annotate(txt, (df.loc[i][0],df.loc[i][1]), color = 'blue', fontsize=30)\n",
    "    elif txt in sim_collapse_word :\n",
    "        ax.annotate(txt, (df.loc[i][0],df.loc[i][1]), color ='blue', fontsize=8)\n",
    "    \n",
    "    elif txt =='building' :\n",
    "        ax.annotate(txt, (df.loc[i][0],df.loc[i][1]), color ='orange', fontsize=30)\n",
    "    elif txt in sim_building_word :\n",
    "        ax.annotate(txt, (df.loc[i][0],df.loc[i][1]), color ='orange', fontsize=8)\n",
    "\n",
    "      \n",
    "    \n",
    "    elif txt =='people' :\n",
    "        ax.annotate(txt, (df.loc[i][0],df.loc[i][1]),color = 'purple', fontsize=30)\n",
    "    elif txt in sim_people_word :\n",
    "        ax.annotate(txt, (df.loc[i][0],df.loc[i][1]), color ='purple', fontsize=8)\n",
    "    else :\n",
    "        ax.annotate(txt, (df.loc[i][0],df.loc[i][1]), fontsize=8)\n",
    "plt.title (\"Word Embdding results with UMAP\", fontsize = 20)\n",
    "plt.savefig('fire_word2vec_0521_best_fell.pdf')"
   ]
  },
  {
   "cell_type": "code",
   "execution_count": null,
   "metadata": {},
   "outputs": [],
   "source": []
  },
  {
   "cell_type": "code",
   "execution_count": null,
   "metadata": {},
   "outputs": [],
   "source": []
  },
  {
   "cell_type": "code",
   "execution_count": null,
   "metadata": {},
   "outputs": [],
   "source": []
  },
  {
   "cell_type": "code",
   "execution_count": null,
   "metadata": {},
   "outputs": [],
   "source": []
  },
  {
   "cell_type": "code",
   "execution_count": null,
   "metadata": {},
   "outputs": [],
   "source": []
  },
  {
   "cell_type": "code",
   "execution_count": null,
   "metadata": {},
   "outputs": [],
   "source": []
  },
  {
   "cell_type": "code",
   "execution_count": null,
   "metadata": {},
   "outputs": [],
   "source": []
  },
  {
   "cell_type": "code",
   "execution_count": null,
   "metadata": {},
   "outputs": [],
   "source": []
  },
  {
   "cell_type": "code",
   "execution_count": null,
   "metadata": {},
   "outputs": [],
   "source": []
  },
  {
   "cell_type": "code",
   "execution_count": null,
   "metadata": {},
   "outputs": [],
   "source": []
  },
  {
   "cell_type": "code",
   "execution_count": null,
   "metadata": {},
   "outputs": [],
   "source": []
  },
  {
   "cell_type": "code",
   "execution_count": null,
   "metadata": {},
   "outputs": [],
   "source": []
  },
  {
   "cell_type": "code",
   "execution_count": null,
   "metadata": {},
   "outputs": [],
   "source": []
  },
  {
   "cell_type": "code",
   "execution_count": null,
   "metadata": {},
   "outputs": [],
   "source": [
    "\n"
   ]
  }
 ],
 "metadata": {
  "kernelspec": {
   "display_name": "Python 3",
   "language": "python",
   "name": "python3"
  },
  "language_info": {
   "codemirror_mode": {
    "name": "ipython",
    "version": 3
   },
   "file_extension": ".py",
   "mimetype": "text/x-python",
   "name": "python",
   "nbconvert_exporter": "python",
   "pygments_lexer": "ipython3",
   "version": "3.7.3"
  }
 },
 "nbformat": 4,
 "nbformat_minor": 2
}
