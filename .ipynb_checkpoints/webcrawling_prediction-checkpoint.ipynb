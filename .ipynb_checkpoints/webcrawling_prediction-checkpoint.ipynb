{
 "cells": [
  {
   "cell_type": "code",
   "execution_count": 170,
   "metadata": {},
   "outputs": [],
   "source": [
    "import requests\n",
    "from html.parser import HTMLParser\n",
    "from bs4 import BeautifulSoup\n",
    "import urllib.request\n",
    "from selenium import webdriver\n",
    "import pandas as pd\n",
    "import csv\n",
    "import time\n",
    "import operator\n",
    "import re\n",
    "import random\n",
    "import networkx as nx\n",
    "import numpy as np\n",
    "import matplotlib.pyplot as plt\n",
    "%matplotlib inline"
   ]
  },
  {
   "cell_type": "code",
   "execution_count": 2,
   "metadata": {},
   "outputs": [],
   "source": [
    "random.seed(50)"
   ]
  },
  {
   "cell_type": "code",
   "execution_count": 53,
   "metadata": {},
   "outputs": [],
   "source": [
    "#main sourcde url \n",
    "#construction accident -> search keyword\n",
    "m_url =\"https://www.nytimes.com/search?dropmab=false&endDate=20191231&query=%22construction%22%20accident&sort=newest&startDate=20000101\"\n",
    "#m_url =\"https://www.nytimes.com/search?dropmab=false&endDate=20140702&query=%22construction%22%20accident&sort=newest&startDate=20000101\"\n",
    "#m_url = \"https://www.nytimes.com/search?dropmab=false&endDate=20100207&query=%22construction%22%20accident&sort=newest&startDate=20000101\"\n",
    "#m_url = \"https://www.nytimes.com/search?dropmab=false&endDate=20070626&query=%22construction%22%20accident&sort=newest&startDate=20000101\"\n",
    "#m_url = \"https://www.nytimes.com/search?dropmab=false&endDate=20040524&query=%22construction%22%20accident&sort=newest&startDate=20000101\"\n",
    "#m_url =\"https://www.nytimes.com/search?dropmab=false&endDate=20000605&query=%22construction%22%20accident&sort=newest&startDate=20000101\""
   ]
  },
  {
   "cell_type": "code",
   "execution_count": 54,
   "metadata": {},
   "outputs": [],
   "source": [
    "session = requests.Session()\n",
    "req=session.get(m_url) #default is s_url\n",
    "soup = BeautifulSoup(req.text, 'html.parser')\n",
    "\n",
    "#stream-panel > div.css-13mho3u > ol > li:nth-child(2) > div > div.css-1l4spti > a\n",
    "#stream-panel > div.css-13mho3u > ol > li:nth-child(1) > div > div.css-1l4spti > a\n"
   ]
  },
  {
   "cell_type": "code",
   "execution_count": 55,
   "metadata": {},
   "outputs": [],
   "source": [
    "\n",
    "chrome_options = webdriver.ChromeOptions\n",
    "#chrome_options.add_argument(\"--incognito\")\n",
    "driver = webdriver.Chrome(executable_path='/Users/macbookpro/Project_construction/chromedriver')\n",
    "\n",
    "link = []\n",
    "driver.get(m_url)\n",
    "time.sleep(3)\n",
    "for i in range(110) :\n",
    "    a = driver.page_source\n",
    "    b = BeautifulSoup(a, 'html.parser')\n",
    "    #stream-panel > div.css-13mho3u > ol > li:nth-child(1) > div > div.css-1l4spti > a\n",
    "    #stream-panel > div.css-13mho3u > ol > li > div > div.css-1l4spti > a\n",
    "    #site-content > div > div:nth-child(2) > div.css-46b038 > ol > li:nth-child(1) > div > div > div > a\n",
    "    c = b.select('#site-content > div >div>div> ol >li> div > div > div > a')\n",
    "    \n",
    "    for j in range(len(c)) :\n",
    "        if c[j].attrs['href'] not in link :\n",
    "            link.append(c[j].attrs['href'])\n",
    "        else :\n",
    "            pass\n",
    "    \n",
    "    driver.find_element_by_xpath('//*[@id=\"site-content\"]/div/div[2]/div[2]/div/button').click()\n",
    "    time.sleep(3)\n",
    "\n",
    "#link"
   ]
  },
  {
   "cell_type": "code",
   "execution_count": 56,
   "metadata": {},
   "outputs": [
    {
     "data": {
      "text/plain": [
       "1010"
      ]
     },
     "execution_count": 56,
     "metadata": {},
     "output_type": "execute_result"
    }
   ],
   "source": [
    "#link_source = link \n",
    "#a_link = link\n",
    "#b_link = link\n",
    "#c_link = link\n",
    "#d_link = link\n",
    "#e_link = link\n",
    "#f_link = link\n",
    "#print(len(f_link))\n",
    "g_link = link\n",
    "len(g_link)"
   ]
  },
  {
   "cell_type": "code",
   "execution_count": 73,
   "metadata": {},
   "outputs": [],
   "source": [
    "total_link = []\n",
    "total_link.extend(g_link)\n",
    "total_link.extend(b_link)\n",
    "total_link.extend(c_link)\n",
    "total_link.extend(d_link)\n",
    "total_link.extend(e_link)\n",
    "total_link.extend(f_link)\n"
   ]
  },
  {
   "cell_type": "code",
   "execution_count": 74,
   "metadata": {},
   "outputs": [
    {
     "data": {
      "text/plain": [
       "5132"
      ]
     },
     "execution_count": 74,
     "metadata": {},
     "output_type": "execute_result"
    }
   ],
   "source": [
    "total_link\n",
    "len(total_link)"
   ]
  },
  {
   "cell_type": "code",
   "execution_count": 76,
   "metadata": {},
   "outputs": [],
   "source": [
    "res = []\n",
    "for a in total_link :\n",
    "    if a not in res :\n",
    "        res.append(a)\n"
   ]
  },
  {
   "cell_type": "code",
   "execution_count": 78,
   "metadata": {},
   "outputs": [
    {
     "data": {
      "text/plain": [
       "5132"
      ]
     },
     "execution_count": 78,
     "metadata": {},
     "output_type": "execute_result"
    }
   ],
   "source": [
    "len(res)"
   ]
  },
  {
   "cell_type": "code",
   "execution_count": 95,
   "metadata": {},
   "outputs": [],
   "source": [
    "def removing_url(s_link):\n",
    "\n",
    "    diff_link = []\n",
    "\n",
    "#delete unsupported news \n",
    "    for i in range (len(s_link)) :\n",
    "        #print(a_link[i])\n",
    "        if s_link[i][1] != '2':\n",
    "        \n",
    "            diff_link.append(s_link[i])\n",
    "            \n",
    "\n",
    "    for j in range(len(diff_link)):\n",
    "        if diff_link[j] in s_link:\n",
    "            s_link.remove(diff_link[j])\n",
    "        \n",
    "    return s_link\n"
   ]
  },
  {
   "cell_type": "code",
   "execution_count": 110,
   "metadata": {},
   "outputs": [],
   "source": [
    "new_f =removing_url(f_link)"
   ]
  },
  {
   "cell_type": "code",
   "execution_count": 119,
   "metadata": {},
   "outputs": [
    {
     "name": "stdout",
     "output_type": "stream",
     "text": [
      "4565\n",
      "this is the number of unsupportive link 567\n"
     ]
    }
   ],
   "source": [
    "print(len(total_link))\n",
    "print(\"this is the number of unsupportive link \" + str(len(diff_link)))"
   ]
  },
  {
   "cell_type": "code",
   "execution_count": 86,
   "metadata": {},
   "outputs": [],
   "source": [
    "## This is main source for analyzing article\n",
    "\n",
    "class ArticleInfo():\n",
    "    \n",
    "    def __init__(self, s_url) :\n",
    "        \n",
    "        session = requests.Session()\n",
    "        req=session.get(s_url)\n",
    "        self.soup = BeautifulSoup(req.text, 'html.parser')\n",
    "    \n",
    "    \n",
    "    def article_body(self) :\n",
    "        body = self.soup.find('div', {'class' : 'StoryBodyCompanionColumn'})\n",
    "        finalContent =''\n",
    "    \n",
    "        if body is not None :\n",
    "            for itcontents in self.soup.findAll('p'):\n",
    "                if itcontents == None :\n",
    "                    continue\n",
    "                content = itcontents.getText()\n",
    "                content = re.sub(r\"\\n+\", \"\", content)\n",
    "                finalContent +=content\n",
    "        else :\n",
    "            return False\n",
    "        \n",
    "        return finalContent\n",
    "\n",
    "    def article_title(self):\n",
    "        titles = self.soup.select('title',{\"data-rh\":\"true\"})\n",
    "        for title in titles:\n",
    "            title = title.getText()\n",
    "            break\n",
    "        return title\n",
    "\n",
    "    def article_date(self) :\n",
    "  \n",
    "        date = self.soup.find('li',{'class':'date'})\n",
    "        if date != None :\n",
    "            date = date.getText()\n",
    "            \n",
    "        else :\n",
    "            date = self.soup.find('meta',{'name':'pdate'})\n",
    "            if date !=None :\n",
    "                date = date.get('content')\n",
    "                if date !=None :\n",
    "                    date = str(date)\n",
    "                else:\n",
    "                    none= \"none\"\n",
    "                    datelist.append(none)\n",
    "                \n",
    "        return date\n",
    "\n",
    " "
   ]
  },
  {
   "cell_type": "code",
   "execution_count": 91,
   "metadata": {},
   "outputs": [],
   "source": [
    "def scraping(source_link):\n",
    "    titles =[]\n",
    "    bodies =[]\n",
    "    datelist=[]\n",
    "\n",
    "    for s_url in source_link :\n",
    "        s_url = 'https://www.nytimes.com'+s_url\n",
    "        ob = ArticleInfo(s_url)\n",
    "    \n",
    "        body =ob.article_body()\n",
    "        bodies.append(body)\n",
    "    \n",
    "        date = ob.article_date()\n",
    "        datelist.append(date)\n",
    "    \n",
    "        title = ob.article_title()\n",
    "        titles.append(title)\n",
    "    return bodies, datelist, titles"
   ]
  },
  {
   "cell_type": "code",
   "execution_count": 111,
   "metadata": {},
   "outputs": [],
   "source": [
    "#body, date, title = scraping(new_f)\n",
    "#g_body = body\n",
    "#g_date = date\n",
    "#g_title = title\n",
    "\n",
    "#b_body = body\n",
    "#b_date = date\n",
    "#b_title = title\n",
    "\n",
    "#c_body = body\n",
    "#c_date = date\n",
    "#c_title = title\n",
    "\n",
    "#d_body = body\n",
    "#d_date = date\n",
    "#d_title = title\n",
    "\n",
    "#e_body = body\n",
    "#e_date = date\n",
    "#e_title = title\n",
    "\n",
    "#f_body = body\n",
    "#f_date = date\n",
    "#f_title = title"
   ]
  },
  {
   "cell_type": "code",
   "execution_count": null,
   "metadata": {},
   "outputs": [],
   "source": [
    "date_list = [g_date,b_date,c_date,d_date,e_date,f_date]\n",
    "body_list = [g_body,b_body,c_body,d_body,e_body,f_body]\n",
    "title_list = [g_title,b_title,c_title,d_title,e_title,f_title]\n",
    "final_set = {}\n",
    "final_set['date'] = []\n",
    "final_set['title'] = []\n",
    "final_set['body'] = []\n",
    "for i in range(len(date_list)) :\n",
    "    \n",
    "    final_set['date'].extend(date_list[i])\n",
    "    final_set['title'].extend(title_list[i])\n",
    "    final_set['body'].extend(body_list[i])\n",
    "    \n",
    "df_nyt = pd.DataFrame(final_set, columns =[\"date\", \"title\", \"body\"])"
   ]
  },
  {
   "cell_type": "markdown",
   "metadata": {},
   "source": [
    "### Start Tokenize words with nltk"
   ]
  },
  {
   "cell_type": "code",
   "execution_count": 122,
   "metadata": {},
   "outputs": [
    {
     "name": "stderr",
     "output_type": "stream",
     "text": [
      "[nltk_data] Downloading package averaged_perceptron_tagger to\n",
      "[nltk_data]     /Users/macbookpro/nltk_data...\n",
      "[nltk_data]   Package averaged_perceptron_tagger is already up-to-\n",
      "[nltk_data]       date!\n"
     ]
    },
    {
     "data": {
      "text/plain": [
       "True"
      ]
     },
     "execution_count": 122,
     "metadata": {},
     "output_type": "execute_result"
    }
   ],
   "source": [
    "from nltk.corpus import stopwords\n",
    "from nltk.tokenize import RegexpTokenizer,word_tokenize\n",
    "from nltk.probability import ConditionalFreqDist\n",
    "from gensim.models import Word2Vec\n",
    "import nltk\n",
    "nltk.download('averaged_perceptron_tagger')"
   ]
  },
  {
   "cell_type": "code",
   "execution_count": 124,
   "metadata": {},
   "outputs": [],
   "source": [
    "bodies = final_set['body']"
   ]
  },
  {
   "cell_type": "code",
   "execution_count": 125,
   "metadata": {},
   "outputs": [],
   "source": [
    "\n",
    "#1. make lower case, regulazation\n",
    "l_bodies=[]\n",
    "for body in bodies :\n",
    "    \n",
    "    body = str(body).lower()\n",
    "    l_bodies.append(body)\n",
    "\n",
    "    \n",
    "#2. removing stop words, tokenize\n",
    "stop_words = set(stopwords.words('english'))\n",
    "\n",
    "token_sentence = []\n",
    "for words in l_bodies:\n",
    "    word_tokens= word_tokenize(words)\n",
    "    filter_sentence = [fw for fw in word_tokens if not fw in stop_words]\n",
    "    \n",
    "    for n in range(len(filter_sentence)) :\n",
    "        if filter_sentence[n] == 'collapsed' :\n",
    "            filter_sentence[n]  = 'collapse'\n",
    "        elif filter_sentence[n] == 'buildings':\n",
    "            filter_sentence[n] = 'building'\n",
    "       \n",
    "    ## fall + fell => fall (less frequency of fall just go with fell) , collapsed +collapse => collapse\n",
    "    #filter_sentence = nltk.pos_tag(filter_sentence)\n",
    "    token_sentence.append(filter_sentence)\n",
    "    \n",
    "#token_sentence\n",
    "#print(l_bodies)"
   ]
  },
  {
   "cell_type": "code",
   "execution_count": 126,
   "metadata": {},
   "outputs": [
    {
     "name": "stdout",
     "output_type": "stream",
     "text": [
      "5090410\n",
      "4565\n",
      "4565\n"
     ]
    }
   ],
   "source": [
    "#check how many words I use \n",
    "\n",
    "len(token_sentence)\n",
    "total_word_count = 0\n",
    "for i in range(len(token_sentence)) :\n",
    "    \n",
    "    total_word_count += len(token_sentence[i])\n",
    "print(total_word_count)\n",
    "print(len(token_sentence))\n",
    "print(len(l_bodies))"
   ]
  },
  {
   "cell_type": "code",
   "execution_count": 128,
   "metadata": {},
   "outputs": [
    {
     "data": {
      "text/html": [
       "<div>\n",
       "<style scoped>\n",
       "    .dataframe tbody tr th:only-of-type {\n",
       "        vertical-align: middle;\n",
       "    }\n",
       "\n",
       "    .dataframe tbody tr th {\n",
       "        vertical-align: top;\n",
       "    }\n",
       "\n",
       "    .dataframe thead th {\n",
       "        text-align: right;\n",
       "    }\n",
       "</style>\n",
       "<table border=\"1\" class=\"dataframe\">\n",
       "  <thead>\n",
       "    <tr style=\"text-align: right;\">\n",
       "      <th></th>\n",
       "      <th>date</th>\n",
       "      <th>title</th>\n",
       "      <th>body</th>\n",
       "    </tr>\n",
       "  </thead>\n",
       "  <tbody>\n",
       "    <tr>\n",
       "      <th>0</th>\n",
       "      <td>20191230</td>\n",
       "      <td>After Death From Falling Debris, Violations Fo...</td>\n",
       "      <td>[advertisementsupported, bythe, infractions, ,...</td>\n",
       "    </tr>\n",
       "    <tr>\n",
       "      <th>1</th>\n",
       "      <td>20191225</td>\n",
       "      <td>For Trump Organization, Office Skyscrapers Mak...</td>\n",
       "      <td>[advertisementsupported, byoffice, towers, new...</td>\n",
       "    </tr>\n",
       "    <tr>\n",
       "      <th>2</th>\n",
       "      <td>20191225</td>\n",
       "      <td>Traffic Circles Are Everywhere in France. Not ...</td>\n",
       "      <td>[advertisementsupported, byfrance, dispatchtra...</td>\n",
       "    </tr>\n",
       "    <tr>\n",
       "      <th>3</th>\n",
       "      <td>20191224</td>\n",
       "      <td>Why Ice Is Falling From Glass Skyscrapers - Th...</td>\n",
       "      <td>[advertisementsupported, bynew, york, today, a...</td>\n",
       "    </tr>\n",
       "    <tr>\n",
       "      <th>4</th>\n",
       "      <td>20191224</td>\n",
       "      <td>A Trump Policy ‘Clarification’ All but Ends Pu...</td>\n",
       "      <td>[advertisementsupported, byby, lisa, friedmanw...</td>\n",
       "    </tr>\n",
       "  </tbody>\n",
       "</table>\n",
       "</div>"
      ],
      "text/plain": [
       "       date                                              title  \\\n",
       "0  20191230  After Death From Falling Debris, Violations Fo...   \n",
       "1  20191225  For Trump Organization, Office Skyscrapers Mak...   \n",
       "2  20191225  Traffic Circles Are Everywhere in France. Not ...   \n",
       "3  20191224  Why Ice Is Falling From Glass Skyscrapers - Th...   \n",
       "4  20191224  A Trump Policy ‘Clarification’ All but Ends Pu...   \n",
       "\n",
       "                                                body  \n",
       "0  [advertisementsupported, bythe, infractions, ,...  \n",
       "1  [advertisementsupported, byoffice, towers, new...  \n",
       "2  [advertisementsupported, byfrance, dispatchtra...  \n",
       "3  [advertisementsupported, bynew, york, today, a...  \n",
       "4  [advertisementsupported, byby, lisa, friedmanw...  "
      ]
     },
     "execution_count": 128,
     "metadata": {},
     "output_type": "execute_result"
    }
   ],
   "source": [
    "final_set['body'] = token_sentence\n",
    "df_nyt = pd.DataFrame(final_set, columns=[\"date\",\"title\",\"body\"])\n",
    "df_nyt.head()"
   ]
  },
  {
   "cell_type": "markdown",
   "metadata": {},
   "source": [
    "### Basic Stats"
   ]
  },
  {
   "cell_type": "markdown",
   "metadata": {},
   "source": [
    "frequency of keywords"
   ]
  },
  {
   "cell_type": "code",
   "execution_count": 239,
   "metadata": {},
   "outputs": [
    {
     "name": "stdout",
     "output_type": "stream",
     "text": [
      "1045 820 839\n",
      "4565\n"
     ]
    },
    {
     "data": {
      "text/plain": [
       "int"
      ]
     },
     "execution_count": 239,
     "metadata": {},
     "output_type": "execute_result"
    }
   ],
   "source": [
    "#frequency of five keywords\n",
    "\n",
    "cnt_fire =0 \n",
    "cnt_fall =0\n",
    "cnt_collapse =0 \n",
    "cnt_people = 0\n",
    "cnt_building = 0\n",
    "for token in token_sentence :\n",
    "    if 'fire' in token :\n",
    "        cnt_fire +=1\n",
    "    if 'collapse' in token :\n",
    "        cnt_collapse +=1\n",
    "    if 'fell' in token :\n",
    "        cnt_fall +=1\n",
    "    if 'building' in token :\n",
    "        cnt_building +=1\n",
    "    if 'people' in token :\n",
    "        cnt_people +=1\n",
    "        \n",
    "freq_dict = {}\n",
    "freq_dict['fire'] = cnt_fire\n",
    "freq_dict['fell'] = cnt_fall\n",
    "freq_dict['collapsed'] = cnt_collapse\n",
    "freq_dict['building'] = cnt_building\n",
    "freq_dict['people'] = cnt_people\n",
    "print(cnt_fire, cnt_fall, cnt_collapse)\n",
    "print(len(token_sentence))\n",
    "type(cnt_people)"
   ]
  },
  {
   "cell_type": "code",
   "execution_count": 240,
   "metadata": {},
   "outputs": [
    {
     "name": "stdout",
     "output_type": "stream",
     "text": [
      "{'fire': 1045, 'fell': 820, 'collapsed': 839, 'building': 2291, 'people': 3068}\n"
     ]
    },
    {
     "data": {
      "image/png": "[encoded data removed]",
      "text/plain": [
       "<Figure size 432x288 with 1 Axes>"
      ]
     },
     "metadata": {
      "needs_background": "light"
     },
     "output_type": "display_data"
    }
   ],
   "source": [
    "#frequency histogram of five keywords\n",
    "\n",
    "import matplotlib.pyplot as plt\n",
    "print(freq_dict)\n",
    "\n",
    "fig, ax = plt.subplots()\n",
    "rect = ax.bar(list(freq_dict.keys()),freq_dict.values(),width = 0.5, color ='gray')\n",
    "ax.set_ylabel('frequency', fontsize = 13)\n",
    "ax.set_xlabel('keywords', fontsize =13)\n",
    "ax.set_ylim(0,3350)\n",
    "\n",
    "autolabel(rect)\n",
    "\n",
    "\n",
    "plt.title(\"Frequency of keywords\")\n",
    "fig.tight_layout()\n",
    "plt.savefig('figure/prediction/frequency_keyword.png')"
   ]
  },
  {
   "cell_type": "markdown",
   "metadata": {},
   "source": [
    "## frequency of day"
   ]
  },
  {
   "cell_type": "code",
   "execution_count": 237,
   "metadata": {},
   "outputs": [
    {
     "name": "stdout",
     "output_type": "stream",
     "text": [
      "{'monday': 616, 'tuesday': 581, 'wednesday': 549, 'thursday': 581, 'friday': 672, 'saturday': 538, 'sunday': 636}\n"
     ]
    }
   ],
   "source": [
    "#frequency of five keywords\n",
    "\n",
    "cnt_mon =0 \n",
    "cnt_tue =0\n",
    "cnt_wed =0 \n",
    "cnt_thr = 0\n",
    "cnt_fri = 0\n",
    "cnt_sat = 0\n",
    "cnt_sun = 0\n",
    "\n",
    "for token in token_sentence :\n",
    "    if 'monday' in token :\n",
    "        cnt_mon +=1\n",
    "    if 'tuesday' in token :\n",
    "        cnt_tue +=1\n",
    "    if 'wednesday' in token :\n",
    "        cnt_wed +=1\n",
    "    if 'thursday' in token :\n",
    "        cnt_thr +=1\n",
    "    if 'friday' in token :\n",
    "        cnt_fri +=1\n",
    "    if 'saturday' in token :\n",
    "        cnt_sat +=1\n",
    "    if 'sunday' in token :\n",
    "        cnt_sun +=1\n",
    "        \n",
    "        \n",
    "freq_day_dict = {}\n",
    "freq_day_dict['monday'] = cnt_mon\n",
    "freq_day_dict['tuesday'] = cnt_tue\n",
    "freq_day_dict['wednesday'] = cnt_wed\n",
    "freq_day_dict['thursday'] = cnt_thr\n",
    "freq_day_dict['friday'] = cnt_fri\n",
    "freq_day_dict['saturday'] = cnt_sat\n",
    "freq_day_dict['sunday'] = cnt_sun\n",
    "\n",
    "print(freq_day_dict)\n"
   ]
  },
  {
   "cell_type": "code",
   "execution_count": 238,
   "metadata": {},
   "outputs": [
    {
     "data": {
      "image/png": "[encoded data removed]",
      "text/plain": [
       "<Figure size 432x288 with 1 Axes>"
      ]
     },
     "metadata": {
      "needs_background": "light"
     },
     "output_type": "display_data"
    }
   ],
   "source": [
    "#frequency histogram of days keywords\n",
    "\n",
    "\n",
    "fig, ax = plt.subplots()\n",
    "rect = ax.bar(list(freq_day_dict.keys()),freq_day_dict.values(),width = 0.5, color ='gray')\n",
    "ax.set_ylabel('frequency', fontsize = 13)\n",
    "ax.set_xlabel('days', fontsize =13)\n",
    "ax.set_ylim(0,750)\n",
    "\n",
    "autolabel(rect)\n",
    "\n",
    "\n",
    "plt.title(\"Frequency of keywords\")\n",
    "fig.tight_layout()\n",
    "plt.savefig('figure/prediction/frequency_day.png')"
   ]
  },
  {
   "cell_type": "code",
   "execution_count": 138,
   "metadata": {},
   "outputs": [],
   "source": [
    "def generate_by_weather(df_article) :\n",
    "    weather =[]\n",
    "    month = []\n",
    "    for i in range(len(df_article)) :\n",
    "    \n",
    "        if df_article.loc[i,'date'] is None :\n",
    "            weather.append('None')\n",
    "            month.append('None')\n",
    "        else :\n",
    "            if df_article.loc[i,\"date\"][4:6] == '03':\n",
    "                weather.append('spring')\n",
    "                month.append('march')\n",
    "            elif df_article.loc[i,\"date\"][4:6] == '04' :\n",
    "                weather.append('spring')\n",
    "                month.append('april')\n",
    "            elif df_article.loc[i,\"date\"][4:6] == '05' :\n",
    "                weather.append('spring')\n",
    "                month.append('may')\n",
    "            elif df_article.loc[i,\"date\"][4:6] == \"06\" :\n",
    "                weather.append('summer')\n",
    "                month.append('june')\n",
    "            elif df_article.loc[i,\"date\"][4:6] == \"07\" :\n",
    "                weather.append('summer')\n",
    "                month.append('july')\n",
    "            elif df_article.loc[i,\"date\"][4:6] == \"08\" :\n",
    "                weather.append('summer')\n",
    "                month.append('august')\n",
    "            elif df_article.loc[i,\"date\"][4:6] == \"09\" :\n",
    "                weather.append('fall')\n",
    "                month.append('september')\n",
    "            elif df_article.loc[i,\"date\"][4:6] == \"10\" :\n",
    "                weather.append('fall')\n",
    "                month.append('october')\n",
    "            elif df_article.loc[i,\"date\"][4:6] == \"11\" :\n",
    "                weather.append('fall')\n",
    "                month.append('november')\n",
    "            elif df_article.loc[i,\"date\"][4:6] == \"12\" :\n",
    "                weather.append('winter')\n",
    "                month.append('december')\n",
    "            elif df_article.loc[i,\"date\"][4:6] == \"01\" :\n",
    "                weather.append('winter')\n",
    "                month.append('january')\n",
    "            elif df_article.loc[i,\"date\"][4:6] == \"02\" :\n",
    "                weather.append('winter')\n",
    "                month.append('february')\n",
    "            else :\n",
    "                weatehr.append('error')\n",
    "\n",
    "    print(len(weather))\n",
    "    df_article.drop([\"weather\",\"month\"])\n",
    "    df_article.insert(3, \"weather\", weather)\n",
    "    df_article.insert(4, \"month\", month)\n",
    "    \n",
    "    return df_article"
   ]
  },
  {
   "cell_type": "code",
   "execution_count": 139,
   "metadata": {},
   "outputs": [
    {
     "data": {
      "text/html": [
       "<div>\n",
       "<style scoped>\n",
       "    .dataframe tbody tr th:only-of-type {\n",
       "        vertical-align: middle;\n",
       "    }\n",
       "\n",
       "    .dataframe tbody tr th {\n",
       "        vertical-align: top;\n",
       "    }\n",
       "\n",
       "    .dataframe thead th {\n",
       "        text-align: right;\n",
       "    }\n",
       "</style>\n",
       "<table border=\"1\" class=\"dataframe\">\n",
       "  <thead>\n",
       "    <tr style=\"text-align: right;\">\n",
       "      <th></th>\n",
       "      <th>date</th>\n",
       "      <th>title</th>\n",
       "      <th>body</th>\n",
       "      <th>weather</th>\n",
       "      <th>month</th>\n",
       "    </tr>\n",
       "  </thead>\n",
       "  <tbody>\n",
       "    <tr>\n",
       "      <th>0</th>\n",
       "      <td>20191230</td>\n",
       "      <td>After Death From Falling Debris, Violations Fo...</td>\n",
       "      <td>[advertisementsupported, bythe, infractions, ,...</td>\n",
       "      <td>winter</td>\n",
       "      <td>december</td>\n",
       "    </tr>\n",
       "    <tr>\n",
       "      <th>1</th>\n",
       "      <td>20191225</td>\n",
       "      <td>For Trump Organization, Office Skyscrapers Mak...</td>\n",
       "      <td>[advertisementsupported, byoffice, towers, new...</td>\n",
       "      <td>winter</td>\n",
       "      <td>december</td>\n",
       "    </tr>\n",
       "    <tr>\n",
       "      <th>2</th>\n",
       "      <td>20191225</td>\n",
       "      <td>Traffic Circles Are Everywhere in France. Not ...</td>\n",
       "      <td>[advertisementsupported, byfrance, dispatchtra...</td>\n",
       "      <td>winter</td>\n",
       "      <td>december</td>\n",
       "    </tr>\n",
       "    <tr>\n",
       "      <th>3</th>\n",
       "      <td>20191224</td>\n",
       "      <td>Why Ice Is Falling From Glass Skyscrapers - Th...</td>\n",
       "      <td>[advertisementsupported, bynew, york, today, a...</td>\n",
       "      <td>winter</td>\n",
       "      <td>december</td>\n",
       "    </tr>\n",
       "    <tr>\n",
       "      <th>4</th>\n",
       "      <td>20191224</td>\n",
       "      <td>A Trump Policy ‘Clarification’ All but Ends Pu...</td>\n",
       "      <td>[advertisementsupported, byby, lisa, friedmanw...</td>\n",
       "      <td>winter</td>\n",
       "      <td>december</td>\n",
       "    </tr>\n",
       "  </tbody>\n",
       "</table>\n",
       "</div>"
      ],
      "text/plain": [
       "       date                                              title  \\\n",
       "0  20191230  After Death From Falling Debris, Violations Fo...   \n",
       "1  20191225  For Trump Organization, Office Skyscrapers Mak...   \n",
       "2  20191225  Traffic Circles Are Everywhere in France. Not ...   \n",
       "3  20191224  Why Ice Is Falling From Glass Skyscrapers - Th...   \n",
       "4  20191224  A Trump Policy ‘Clarification’ All but Ends Pu...   \n",
       "\n",
       "                                                body weather     month  \n",
       "0  [advertisementsupported, bythe, infractions, ,...  winter  december  \n",
       "1  [advertisementsupported, byoffice, towers, new...  winter  december  \n",
       "2  [advertisementsupported, byfrance, dispatchtra...  winter  december  \n",
       "3  [advertisementsupported, bynew, york, today, a...  winter  december  \n",
       "4  [advertisementsupported, byby, lisa, friedmanw...  winter  december  "
      ]
     },
     "execution_count": 139,
     "metadata": {},
     "output_type": "execute_result"
    }
   ],
   "source": [
    "#df_arrange = generate_by_weather(df_nyt)\n",
    "\n",
    "df_arrange.head()"
   ]
  },
  {
   "cell_type": "markdown",
   "metadata": {},
   "source": [
    "Distrubution of weather naively"
   ]
  },
  {
   "cell_type": "code",
   "execution_count": 140,
   "metadata": {},
   "outputs": [],
   "source": [
    "\n",
    "\n",
    "def get_dist_weather(df) :\n",
    "    spring_cnt = 0\n",
    "    summer_cnt =0\n",
    "    fall_cnt =0\n",
    "    winter_cnt = 0\n",
    "    none_cnt = 0\n",
    "    for i in range(len(df)) :\n",
    "        if df.loc[i,\"weather\"] =='spring' :\n",
    "            spring_cnt +=1\n",
    "        elif df.loc[i,\"weather\"] =='summer' :\n",
    "            summer_cnt +=1\n",
    "        elif df.loc[i,\"weather\"] =='fall' :\n",
    "            fall_cnt +=1\n",
    "        elif df.loc[i,\"weather\"] =='winter' :\n",
    "            winter_cnt +=1\n",
    "        else :\n",
    "            none_cnt +=1\n",
    "    \n",
    "    fin_set = {}\n",
    "    fin_set['spring'] = spring_cnt\n",
    "    fin_set['summer'] = summer_cnt\n",
    "    fin_set['fall'] = fall_cnt\n",
    "    fin_set['winter'] = winter_cnt\n",
    "    fin_set['none'] = none_cnt\n",
    "    \n",
    "    return fin_set\n"
   ]
  },
  {
   "cell_type": "code",
   "execution_count": 174,
   "metadata": {},
   "outputs": [
    {
     "data": {
      "image/png": "[encoded data removed]",
      "text/plain": [
       "<Figure size 432x288 with 1 Axes>"
      ]
     },
     "metadata": {
      "needs_background": "light"
     },
     "output_type": "display_data"
    }
   ],
   "source": [
    "dist_weather = get_dist_weather(df_arrange)\n",
    "\n",
    "\n",
    "fig, ax = plt.subplots()\n",
    "rect1 = ax.bar(list(dist_weather.keys())[:-1],list(dist_weather.values())[:-1],width = 0.5, color ='gray')\n",
    "ax.set_ylabel('frequency')\n",
    "ax.set_xlabel('weather')\n",
    "ax.set_ylim(0,1350)\n",
    "\n",
    "\n",
    "def autolabel(rects):\n",
    "\n",
    "    for rect in rects:\n",
    "        height = rect.get_height()\n",
    "        ax.annotate('{}'.format(height),\n",
    "                    xy=(rect.get_x() + rect.get_width() / 2, height),\n",
    "                    xytext=(0, 3),  # 3 points vertical offset\n",
    "                    textcoords=\"offset points\",\n",
    "                    ha='center', va='bottom')\n",
    "\n",
    "\n",
    "autolabel(rect1)        \n",
    "        \n",
    "#plt.title(\"Frequency of keywords\")\n",
    "plt.title(\"total construction accident article by weather\")\n",
    "fig.tight_layout()\n",
    "\n",
    "\n",
    "plt.savefig('Figure/prediction/weather_distribution.png')\n"
   ]
  },
  {
   "cell_type": "markdown",
   "metadata": {},
   "source": [
    "Distrubution of weather with fire"
   ]
  },
  {
   "cell_type": "code",
   "execution_count": 147,
   "metadata": {},
   "outputs": [],
   "source": [
    "def get_dist_weather_keyword(df,key) :\n",
    "    spring_cnt = 0\n",
    "    summer_cnt =0\n",
    "    fall_cnt =0\n",
    "    winter_cnt = 0\n",
    "    none_cnt = 0\n",
    "    for i in range(len(df)) :\n",
    "        if df.loc[i,\"weather\"] =='spring' :\n",
    "            #print(type(df.loc[i,\"bodies\"]))\n",
    "            if key in df.loc[i,\"body\"] :\n",
    "                spring_cnt +=1\n",
    "        elif df.loc[i,\"weather\"] =='summer' :\n",
    "            if key in df.loc[i,\"body\"] :\n",
    "                summer_cnt +=1\n",
    "        elif df.loc[i,\"weather\"] =='fall' :\n",
    "            if key in df.loc[i,\"body\"] :\n",
    "                fall_cnt +=1\n",
    "        elif df.loc[i,\"weather\"] =='winter' :\n",
    "            if key in df.loc[i,\"body\"] :\n",
    "                winter_cnt +=1\n",
    "        else :\n",
    "                none_cnt +=0\n",
    "    \n",
    "    fin_set_fire = {}\n",
    "    fin_set_fire['spring'] = spring_cnt\n",
    "    fin_set_fire['summer'] = summer_cnt\n",
    "    fin_set_fire['fall'] = fall_cnt\n",
    "    fin_set_fire['winter'] = winter_cnt\n",
    "    fin_set_fire['none'] = none_cnt\n",
    "    \n",
    "    return fin_set_fire\n"
   ]
  },
  {
   "cell_type": "code",
   "execution_count": 166,
   "metadata": {},
   "outputs": [
    {
     "data": {
      "text/plain": [
       "{'spring': 79, 'summer': 89, 'fall': 76, 'winter': 83, 'none': 0}"
      ]
     },
     "execution_count": 166,
     "metadata": {},
     "output_type": "execute_result"
    }
   ],
   "source": [
    "get_dist_weather_keyword(df_arrange,\"explosion\")\n"
   ]
  },
  {
   "cell_type": "code",
   "execution_count": 149,
   "metadata": {},
   "outputs": [],
   "source": [
    "def get_dist_month(df) :\n",
    "    jan_cnt = 0\n",
    "    feb_cnt = 0 \n",
    "    mar_cnt = 0\n",
    "    apr_cnt = 0 \n",
    "    may_cnt = 0 \n",
    "    jun_cnt = 0\n",
    "    jul_cnt = 0\n",
    "    aug_cnt = 0\n",
    "    sep_cnt = 0\n",
    "    ocb_cnt = 0\n",
    "    nov_cnt = 0\n",
    "    dec_cnt = 0\n",
    "    none_cnt = 0\n",
    "    for i in range(len(df)) :\n",
    "        if df.loc[i,\"month\"] =='january' :\n",
    "            #print(type(df.loc[i,\"bodies\"]))\n",
    "       \n",
    "            jan_cnt +=1\n",
    "        elif df.loc[i,\"month\"] =='february' :\n",
    "        \n",
    "            feb_cnt +=1\n",
    "        elif df.loc[i,\"month\"] =='march' :\n",
    "        \n",
    "            mar_cnt +=1\n",
    "        elif df.loc[i,\"month\"] =='april' :\n",
    "   \n",
    "            apr_cnt +=1\n",
    "        elif df.loc[i,\"month\"] =='may' :\n",
    "     \n",
    "            may_cnt +=1\n",
    "        elif df.loc[i,\"month\"] =='june' :\n",
    "            \n",
    "            jun_cnt +=1\n",
    "        elif df.loc[i,\"month\"] =='july' :\n",
    "          \n",
    "            jul_cnt +=1\n",
    "        elif df.loc[i,\"month\"] =='august' :\n",
    "           \n",
    "            aug_cnt +=1\n",
    "        elif df.loc[i,\"month\"] =='september' :\n",
    "          \n",
    "            sep_cnt +=1\n",
    "        elif df.loc[i,\"month\"] =='october' :\n",
    "           \n",
    "            ocb_cnt +=1\n",
    "        elif df.loc[i,\"month\"] =='november' :\n",
    "            \n",
    "            nov_cnt +=1\n",
    "        elif df.loc[i,\"month\"] =='december' :\n",
    "            \n",
    "            dec_cnt +=1\n",
    "        else :\n",
    "            none_cnt +=1\n",
    "    \n",
    "    fin_set_mon = {}\n",
    "    fin_set_mon['january'] = jan_cnt\n",
    "    fin_set_mon['february'] = feb_cnt\n",
    "    fin_set_mon['march'] = mar_cnt\n",
    "    fin_set_mon['april'] = apr_cnt\n",
    "    fin_set_mon['may'] = may_cnt\n",
    "    fin_set_mon['june'] = jun_cnt\n",
    "    fin_set_mon['july'] = jul_cnt\n",
    "    fin_set_mon['august'] = aug_cnt\n",
    "    fin_set_mon['september'] = sep_cnt\n",
    "    fin_set_mon['octoboer'] = ocb_cnt\n",
    "    fin_set_mon['november'] = nov_cnt\n",
    "    fin_set_mon['december'] = dec_cnt\n",
    "    fin_set_mon['none'] = none_cnt\n",
    "    \n",
    "    \n",
    "    return fin_set_mon\n"
   ]
  },
  {
   "cell_type": "code",
   "execution_count": 218,
   "metadata": {},
   "outputs": [
    {
     "data": {
      "image/png": "[encoded data removed]",
      "text/plain": [
       "<Figure size 432x288 with 1 Axes>"
      ]
     },
     "metadata": {
      "needs_background": "light"
     },
     "output_type": "display_data"
    }
   ],
   "source": [
    "dist_month = get_dist_month(df_arrange)\n",
    "\n",
    "fig, ax = plt.subplots()\n",
    "rect1 = ax.bar(list(dist_month.keys())[:-1],list(dist_month.values())[:-1],width = 0.5, color ='gray')\n",
    "ax.set_ylabel('frequency')\n",
    "ax.set_xlabel('month')\n",
    "\n",
    "ax.set_ylim(0,470)\n",
    "\n",
    "\n",
    "def autolabel(rects):\n",
    "    \"\"\"Attach a text label above each bar in *rects*, displaying its height.\"\"\"\n",
    "    for rect in rects:\n",
    "        height = rect.get_height()\n",
    "        ax.annotate('{}'.format(height),\n",
    "                    xy=(rect.get_x() + rect.get_width() / 2, height),\n",
    "                    xytext=(0, 3),  # 3 points vertical offset\n",
    "                    textcoords=\"offset points\",\n",
    "                    ha='center', va='bottom')\n",
    "\n",
    "\n",
    "autolabel(rect1)        \n",
    "        \n",
    "#plt.title(\"Frequency of keywords\")\n",
    "\n",
    "plt.xticks(list(dist_month.keys())[:-1], rotation= 45)\n",
    "plt.title(\"total construction accident article in month\")\n",
    "plt.tight_layout()\n",
    "plt.savefig('Figure/prediction/month_distribution.png')\n",
    "plt.show()"
   ]
  },
  {
   "cell_type": "code",
   "execution_count": 153,
   "metadata": {},
   "outputs": [],
   "source": [
    "def get_dist_month_keyword(df,key) :\n",
    "    jan_cnt = 0\n",
    "    feb_cnt = 0 \n",
    "    mar_cnt = 0\n",
    "    apr_cnt = 0 \n",
    "    may_cnt = 0 \n",
    "    jun_cnt = 0\n",
    "    jul_cnt = 0\n",
    "    aug_cnt = 0\n",
    "    sep_cnt = 0\n",
    "    ocb_cnt = 0\n",
    "    nov_cnt = 0\n",
    "    dec_cnt = 0\n",
    "    none_cnt = 0\n",
    "    for i in range(len(df)) :\n",
    "        if df.loc[i,\"month\"] =='january' :\n",
    "            #print(type(df.loc[i,\"bodies\"]))\n",
    "            if key in df.loc[i,\"body\"] :\n",
    "                jan_cnt +=1\n",
    "        elif df.loc[i,\"month\"] =='february' :\n",
    "            if key in df.loc[i,\"body\"] :\n",
    "                feb_cnt +=1\n",
    "        elif df.loc[i,\"month\"] =='march' :\n",
    "            if key in df.loc[i,\"body\"] :\n",
    "                mar_cnt +=1\n",
    "        elif df.loc[i,\"month\"] =='april' :\n",
    "            if key in df.loc[i,\"body\"] :\n",
    "                apr_cnt +=1\n",
    "        elif df.loc[i,\"month\"] =='may' :\n",
    "            if key in df.loc[i,\"body\"] :\n",
    "                may_cnt +=1\n",
    "        elif df.loc[i,\"month\"] =='june' :\n",
    "            if key in df.loc[i,\"body\"] :\n",
    "                jun_cnt +=1\n",
    "        elif df.loc[i,\"month\"] =='july' :\n",
    "            if key in df.loc[i,\"body\"] :\n",
    "                jul_cnt +=1\n",
    "        elif df.loc[i,\"month\"] =='august' :\n",
    "            if key in df.loc[i,\"body\"] :\n",
    "                aug_cnt +=1\n",
    "        elif df.loc[i,\"month\"] =='september' :\n",
    "            if key in df.loc[i,\"body\"] :\n",
    "                sep_cnt +=1\n",
    "        elif df.loc[i,\"month\"] =='october' :\n",
    "            if key in df.loc[i,\"body\"] :\n",
    "                ocb_cnt +=1\n",
    "        elif df.loc[i,\"month\"] =='november' :\n",
    "            if key in df.loc[i,\"body\"] :\n",
    "                nov_cnt +=1\n",
    "        elif df.loc[i,\"month\"] =='december' :\n",
    "            if key in df.loc[i,\"body\"] :\n",
    "                dec_cnt +=1\n",
    "        else :\n",
    "                none_cnt +=0\n",
    "    \n",
    "    fin_set_mon = {}\n",
    "    fin_set_mon['january'] = jan_cnt\n",
    "    fin_set_mon['february'] = feb_cnt\n",
    "    fin_set_mon['march'] = mar_cnt\n",
    "    fin_set_mon['april'] = apr_cnt\n",
    "    fin_set_mon['may'] = may_cnt\n",
    "    fin_set_mon['june'] = jun_cnt\n",
    "    fin_set_mon['july'] = jul_cnt\n",
    "    fin_set_mon['august'] = aug_cnt\n",
    "    fin_set_mon['september'] = sep_cnt\n",
    "    fin_set_mon['octoboer'] = ocb_cnt\n",
    "    fin_set_mon['november'] = nov_cnt\n",
    "    fin_set_mon['december'] = dec_cnt\n",
    "    fin_set_mon['none'] = none_cnt\n",
    "    \n",
    "    \n",
    "    return fin_set_mon\n"
   ]
  },
  {
   "cell_type": "code",
   "execution_count": 154,
   "metadata": {},
   "outputs": [
    {
     "data": {
      "text/plain": [
       "{'january': 69,\n",
       " 'february': 82,\n",
       " 'march': 97,\n",
       " 'april': 80,\n",
       " 'may': 108,\n",
       " 'june': 92,\n",
       " 'july': 98,\n",
       " 'august': 93,\n",
       " 'september': 84,\n",
       " 'octoboer': 73,\n",
       " 'november': 83,\n",
       " 'december': 86,\n",
       " 'none': 0}"
      ]
     },
     "execution_count": 154,
     "metadata": {},
     "output_type": "execute_result"
    }
   ],
   "source": [
    "get_dist_month_keyword(df_arrange,'fire')"
   ]
  },
  {
   "cell_type": "code",
   "execution_count": 211,
   "metadata": {},
   "outputs": [
    {
     "data": {
      "image/png": "[encoded data removed]",
      "text/plain": [
       "<Figure size 432x288 with 1 Axes>"
      ]
     },
     "metadata": {
      "needs_background": "light"
     },
     "output_type": "display_data"
    }
   ],
   "source": [
    "dist_month_fire = get_dist_month_keyword(df_arrange,'fire')\n",
    "\n",
    "fig, ax = plt.subplots()\n",
    "rect1 = ax.bar(list(dist_month_fire.keys())[:-1],list(dist_month_fire.values())[:-1],width = 0.5, color ='gray')\n",
    "ax.set_ylabel('frequency')\n",
    "ax.set_xlabel('month')\n",
    "\n",
    "ax.set_ylim(0,120)\n",
    "\n",
    "\n",
    "autolabel(rect1)        \n",
    "        \n",
    "#plt.title(\"Frequency of keywords\")\n",
    "\n",
    "plt.xticks(list(dist_month.keys())[:-1], rotation= 45)\n",
    "plt.title(\"fire occurence in month\")\n",
    "fig.tight_layout()\n",
    "plt.savefig('Figure/prediction/month_fire_distribution.png')\n",
    "plt.show()"
   ]
  },
  {
   "cell_type": "code",
   "execution_count": 198,
   "metadata": {},
   "outputs": [
    {
     "data": {
      "image/png": "[encoded data removed]",
      "text/plain": [
       "<Figure size 432x288 with 1 Axes>"
      ]
     },
     "metadata": {
      "needs_background": "light"
     },
     "output_type": "display_data"
    }
   ],
   "source": [
    "dist_month_fell = get_dist_month_keyword(df_arrange,'fell')\n",
    "\n",
    "fig, ax = plt.subplots()\n",
    "rect1 = ax.bar(list(dist_month_fell.keys())[:-1],list(dist_month_fell.values())[:-1],width = 0.5, color ='gray')\n",
    "ax.set_ylabel('frequency')\n",
    "ax.set_xlabel('month')\n",
    "\n",
    "ax.set_ylim(0,95)\n",
    "\n",
    "\n",
    "autolabel(rect1)        \n",
    "        \n",
    "#plt.title(\"Frequency of keywords\")\n",
    "\n",
    "plt.xticks(list(dist_month.keys())[:-1], rotation= 45)\n",
    "plt.title(\"fell occurence in month\")\n",
    "fig.tight_layout()\n",
    "plt.savefig('Figure/prediction/month_fell_distribution.png')\n",
    "plt.show()"
   ]
  },
  {
   "cell_type": "code",
   "execution_count": 197,
   "metadata": {},
   "outputs": [
    {
     "data": {
      "image/png": "[encoded data removed]",
      "text/plain": [
       "<Figure size 432x288 with 1 Axes>"
      ]
     },
     "metadata": {
      "needs_background": "light"
     },
     "output_type": "display_data"
    }
   ],
   "source": [
    "dist_month_collapse = get_dist_month_keyword(df_arrange,'collapse')\n",
    "\n",
    "fig, ax = plt.subplots()\n",
    "rect1 = ax.bar(list(dist_month_collapse.keys())[:-1],list(dist_month_collapse.values())[:-1],width = 0.5, color ='gray')\n",
    "ax.set_ylabel('frequency')\n",
    "ax.set_xlabel('month')\n",
    "\n",
    "ax.set_ylim(0,95)\n",
    "\n",
    "\n",
    "autolabel(rect1)        \n",
    "        \n",
    "#plt.title(\"Frequency of keywords\")\n",
    "\n",
    "plt.xticks(list(dist_month.keys())[:-1], rotation= 45)\n",
    "plt.title(\"collapsed occurence in month\")\n",
    "fig.tight_layout()\n",
    "plt.savefig('Figure/prediction/month_collapse_distribution.png')\n",
    "plt.show()"
   ]
  },
  {
   "cell_type": "code",
   "execution_count": 233,
   "metadata": {},
   "outputs": [
    {
     "data": {
      "image/png": "[encoded data removed]",
      "text/plain": [
       "<Figure size 432x288 with 1 Axes>"
      ]
     },
     "metadata": {
      "needs_background": "light"
     },
     "output_type": "display_data"
    }
   ],
   "source": [
    "\n",
    "\n",
    "\n",
    "plt.figure()\n",
    "\n",
    "plt.plot(list(dist_month_fire.keys())[:-1],list(dist_month_fire.values())[:-1],color ='blue', label = \"fire\")\n",
    "plt.plot(list(dist_month_collapse.keys())[:-1], list(dist_month_collapse.values())[:-1], color = 'red',label=\"collapsed\")\n",
    "plt.plot(list(dist_month_fell.keys())[:-1],list(dist_month_fell.values())[:-1],color ='darkred', label =\"fell\")\n",
    "\n",
    "plt.ylim(0,120)\n",
    "\n",
    "\n",
    "plt.legend()\n",
    "plt.xlabel(\"Month\",fontsize = 13)\n",
    "plt.ylabel(\"Frequency\", fontsize = 13)\n",
    "plt.xticks(list(dist_month.keys())[:-1], rotation= 45)\n",
    "plt.title('keywords comparison')\n",
    "plt.tight_layout()\n",
    "plt.savefig('Figure/prediction/keywords_comparison_by_month.png')"
   ]
  },
  {
   "cell_type": "code",
   "execution_count": 200,
   "metadata": {},
   "outputs": [
    {
     "data": {
      "text/plain": [
       "{'january': 59,\n",
       " 'february': 57,\n",
       " 'march': 85,\n",
       " 'april': 71,\n",
       " 'may': 87,\n",
       " 'june': 85,\n",
       " 'july': 77,\n",
       " 'august': 82,\n",
       " 'september': 61,\n",
       " 'octoboer': 71,\n",
       " 'november': 46,\n",
       " 'december': 58,\n",
       " 'none': 0}"
      ]
     },
     "execution_count": 200,
     "metadata": {},
     "output_type": "execute_result"
    }
   ],
   "source": [
    "dist_month_collapse"
   ]
  },
  {
   "cell_type": "code",
   "execution_count": null,
   "metadata": {},
   "outputs": [],
   "source": []
  }
 ],
 "metadata": {
  "kernelspec": {
   "display_name": "Python 3",
   "language": "python",
   "name": "python3"
  },
  "language_info": {
   "codemirror_mode": {
    "name": "ipython",
    "version": 3
   },
   "file_extension": ".py",
   "mimetype": "text/x-python",
   "name": "python",
   "nbconvert_exporter": "python",
   "pygments_lexer": "ipython3",
   "version": "3.7.3"
  }
 },
 "nbformat": 4,
 "nbformat_minor": 2
}
