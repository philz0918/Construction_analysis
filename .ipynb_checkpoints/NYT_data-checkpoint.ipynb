{
 "cells": [
  {
   "cell_type": "code",
   "execution_count": 5,
   "metadata": {},
   "outputs": [],
   "source": [
    "import requests\n",
    "from html.parser import HTMLParser\n",
    "from bs4 import BeautifulSoup\n",
    "import urllib.request\n",
    "from selenium import webdriver\n",
    "import pandas as pd\n",
    "import csv\n",
    "import time\n",
    "import operator\n",
    "import re"
   ]
  },
  {
   "cell_type": "code",
   "execution_count": 6,
   "metadata": {},
   "outputs": [],
   "source": [
    "#m_url =\"https://www.nytimes.com/topic/subject/construction-accidents\"\n",
    "m_url =\"https://www.nytimes.com/search?dropmab=false&endDate=20200229&query=%22construction%22%20accident&sort=best&startDate=20000101\""
   ]
  },
  {
   "cell_type": "code",
   "execution_count": 7,
   "metadata": {},
   "outputs": [],
   "source": [
    "session = requests.Session()\n",
    "req=session.get(m_url) #default is s_url\n",
    "soup = BeautifulSoup(req.text, 'html.parser')\n",
    "\n",
    "#stream-panel > div.css-13mho3u > ol > li:nth-child(2) > div > div.css-1l4spti > a\n",
    "#stream-panel > div.css-13mho3u > ol > li:nth-child(1) > div > div.css-1l4spti > a\n"
   ]
  },
  {
   "cell_type": "code",
   "execution_count": 8,
   "metadata": {},
   "outputs": [],
   "source": [
    "\n",
    "chrome_options = webdriver.ChromeOptions\n",
    "#chrome_options.add_argument(\"--incognito\")\n",
    "driver = webdriver.Chrome(executable_path='/Users/macbookpro/Desktop/Project/Construction_analysis/chromedriver')\n",
    "\n",
    "link = []\n",
    "driver.get(m_url)\n",
    "time.sleep(3)\n",
    "for i in range(30) :\n",
    "    a = driver.page_source\n",
    "    b = BeautifulSoup(a, 'html.parser')\n",
    "    #stream-panel > div.css-13mho3u > ol > li:nth-child(1) > div > div.css-1l4spti > a\n",
    "    #stream-panel > div.css-13mho3u > ol > li > div > div.css-1l4spti > a\n",
    "    #site-content > div > div:nth-child(2) > div.css-46b038 > ol > li:nth-child(1) > div > div > div > a\n",
    "    c = b.select('#site-content > div >div>div> ol >li> div > div > div > a')\n",
    "    \n",
    "    for j in range(len(c)) :\n",
    "        if c[j].attrs['href'] not in link :\n",
    "            link.append(c[j].attrs['href'])\n",
    "        else :\n",
    "            pass\n",
    "    \n",
    "    driver.find_element_by_xpath('//*[@id=\"site-content\"]/div/div[2]/div[2]/div/button').click()\n",
    "    time.sleep(3)\n",
    "\n",
    "#link"
   ]
  },
  {
   "cell_type": "code",
   "execution_count": 9,
   "metadata": {},
   "outputs": [
    {
     "name": "stdout",
     "output_type": "stream",
     "text": [
      "300\n"
     ]
    }
   ],
   "source": [
    "link_source = link \n",
    "\n",
    "a_link = link\n",
    "\n",
    "print(len(a_link))\n"
   ]
  },
  {
   "cell_type": "code",
   "execution_count": 10,
   "metadata": {},
   "outputs": [
    {
     "name": "stdout",
     "output_type": "stream",
     "text": [
      "/2020/02/17/nyregion/construction-deaths-latinos-nyc.html?searchResultPosition=1\n",
      "/2020/01/30/nyregion/nyc-scaffolding-building-facades.html?searchResultPosition=2\n",
      "/2019/11/22/nyregion/nyc-dob-surprise-inspectors.html?searchResultPosition=3\n",
      "/2019/11/29/us/hard-rock-hotel-worker-immigration.html?searchResultPosition=4\n",
      "/2007/09/13/nyregion/13mbrfs-DEATHS.html?searchResultPosition=5\n",
      "/2015/06/03/nyregion/fatal-construction-accidents-are-rising-in-new-york.html?searchResultPosition=6\n",
      "/2006/11/22/nyregion/fatal-construction-accidents-in-the-city-rise-sharply-over-12.html?searchResultPosition=7\n",
      "/2006/11/22/nyregion/22construct.html?searchResultPosition=8\n",
      "/2007/05/05/nyregion/05cave.html?searchResultPosition=9\n",
      "https://cityroom.blogs.nytimes.com/2008/04/29/more-construction-accidents-2-workers-critically-injured/?searchResultPosition=10\n",
      "/2002/08/27/nyregion/city-allows-work-to-resume-at-construction-accident-site.html?searchResultPosition=11\n",
      "https://cityroom.blogs.nytimes.com/2007/08/23/new-scaffold-collapse-reported-at-deutsche-bank-building/?searchResultPosition=12\n",
      "/2004/06/08/nyregion/construction-accident-in-queens-kills-worker-and-injures-2.html?searchResultPosition=13\n",
      "/2008/06/12/nyregion/11cnd-contractor.html?searchResultPosition=14\n",
      "/2016/11/22/nyregion/2-workers-killed-in-construction-accident-in-queens.html?searchResultPosition=15\n",
      "/2019/10/12/us/hard-rock-new-orleans-hotel-collapse.html?searchResultPosition=16\n",
      "/2019/08/27/nyregion/bronx-building-collapse.html?searchResultPosition=17\n",
      "/2019/09/09/nyregion/building-violations-fines-debt.html?searchResultPosition=18\n",
      "/2000/12/28/nyregion/two-workers-fall-to-their-deaths-in-construction-site-accidents.html?searchResultPosition=19\n",
      "/2015/04/25/nyregion/worker-killed-at-manhattan-hotel-construction-site.html?searchResultPosition=20\n",
      "/2014/09/24/nyregion/man-dies-in-construction-accident-in-midtown-manhattan.html?searchResultPosition=21\n",
      "/2000/07/28/nyregion/construction-site-accident-snarls-subways-in-midtown.html?searchResultPosition=22\n",
      "http://cityroom.blogs.nytimes.com/2008/09/04/blogs/04cityroom-one-work3819.html?searchResultPosition=23\n",
      "https://cityroom.blogs.nytimes.com/2008/09/04/one-worker-is-dead-in-west-side-accident/?searchResultPosition=24\n",
      "/2008/06/05/nyregion/05safety.html?searchResultPosition=25\n",
      "/2008/01/29/world/asia/29beijing.html?searchResultPosition=26\n",
      "/2008/01/29/world/asia/29iht-29beijing.9568978.html?searchResultPosition=27\n",
      "/2000/02/08/nyregion/construction-worker-is-killed-in-world-trade-center-accident.html?searchResultPosition=28\n",
      "/2014/11/04/nyregion/falling-tape-measure-kills-man-at-jersey-city-construction-site.html?searchResultPosition=29\n",
      "/2008/05/19/nyregion/19inspect.html?searchResultPosition=30\n",
      "/2007/10/19/nyregion/19fall.html?searchResultPosition=31\n",
      "/2008/06/01/world/americas/01iht-crane.1.13363987.html?searchResultPosition=32\n",
      "https://cityroom.blogs.nytimes.com/2007/12/14/worker-injured-in-crane-accident-downtown/?searchResultPosition=33\n",
      "/2013/11/28/world/americas/deadly-accident-at-stadium-raises-worry-on-brazils-world-cup-aims.html?searchResultPosition=34\n",
      "/2002/12/07/nyregion/steelworker-killed-in-fall-at-mid-manhattan-construction-site.html?searchResultPosition=35\n",
      "/2008/05/30/world/americas/30iht-30crane.13341493.html?searchResultPosition=36\n",
      "/2008/05/07/nyregion/07fall.html?searchResultPosition=37\n",
      "/2002/03/21/nyregion/metro-briefing-new-york-brooklyn-worker-dies-in-subway-accident.html?searchResultPosition=38\n",
      "/2009/07/14/world/asia/14india.html?searchResultPosition=39\n",
      "/2016/06/11/nyregion/construction-company-guilty-of-manslaughter-in-immigrant-workers-death.html?searchResultPosition=40\n",
      "https://cityroom.blogs.nytimes.com/2011/10/30/building-collapse-kills-construction-worker/?searchResultPosition=41\n",
      "/2000/08/18/nyregion/crane-boom-buckles-nyu-construction-site-sending-one-ton-slab-crashing-ground.html?searchResultPosition=42\n",
      "https://cityroom.blogs.nytimes.com/2008/07/01/new-construction-codes-take-effect/?searchResultPosition=43\n",
      "/2011/01/11/nyregion/11collapse.html?searchResultPosition=44\n",
      "/2008/09/20/nyregion/20shutdown.html?searchResultPosition=45\n",
      "/2004/04/25/nyregion/now-for-permanent-fix-at-accident-site.html?searchResultPosition=46\n",
      "/2006/11/22/nyregion/worker-unhurt-in-latest-scaffold-accident.html?searchResultPosition=47\n",
      "/2008/04/29/nyregion/29mass.html?searchResultPosition=48\n",
      "/2019/04/28/us/seattle-crane-collapse-accident.html?searchResultPosition=49\n",
      "/2006/11/22/nyregion/22scaffold.html?searchResultPosition=50\n",
      "/2005/10/18/nyregion/study-finds-lax-safety-standards-at-construction-sites.html?searchResultPosition=51\n",
      "/2001/06/08/nyregion/businesses-shut-by-accidents-ruled-ineligible-for-damages.html?searchResultPosition=52\n",
      "/2007/01/04/nyregion/04mbrfs-worker.html?searchResultPosition=53\n",
      "/2015/05/06/nyregion/worker-at-manhattan-construction-site-falls-down-elevator-shaft-and-dies.html?searchResultPosition=54\n",
      "https://theboard.blogs.nytimes.com/2008/03/21/the-surprising-arrest-in-new-yorks-deadly-crane-accident/?searchResultPosition=55\n",
      "/2002/05/02/nyregion/accident-cuts-phone-service-to-thousands.html?searchResultPosition=56\n",
      "/2008/03/13/nyregion/13collapse.html?searchResultPosition=57\n",
      "/2008/04/15/nyregion/15fall.html?searchResultPosition=58\n",
      "/2001/08/17/nyregion/loose-construction-scaffold-stops-traffic-near-times-sq.html?searchResultPosition=59\n",
      "/2002/12/20/nyregion/metro-briefing-new-york-staten-island-construction-worker-dies.html?searchResultPosition=60\n",
      "/2007/12/08/nyregion/08hole.html?searchResultPosition=61\n",
      "/2008/06/25/nyregion/25crane.html?searchResultPosition=62\n",
      "https://cityroom.blogs.nytimes.com/2007/10/17/crane-accident-reported-in-midtown/?searchResultPosition=63\n",
      "/2017/05/10/nyregion/brooklyn-construction-worker-death-criminal-charges.html?searchResultPosition=64\n",
      "/2016/07/14/nyregion/construction-firm-found-guilty-in-queens-workers-death-defies-sentence.html?searchResultPosition=65\n",
      "/2006/10/03/nyregion/more-citations-in-east-village-crane-accident-that-injured-5.html?searchResultPosition=66\n",
      "/2001/05/09/nyregion/a-site-that-was-an-accident-waiting-to-happen-it-did.html?searchResultPosition=67\n",
      "https://cityroom.blogs.nytimes.com/2011/02/08/two-construction-workers-killed-on-upper-west-side/?searchResultPosition=68\n",
      "http://cityroom.blogs.nytimes.com/2009/02/03/blogs/03cityroom-city-ann6421.html?searchResultPosition=69\n",
      "/2017/09/01/nyregion/construction-workers-safety-bill.html?searchResultPosition=70\n",
      "/2006/10/03/nyregion/03crane.html?searchResultPosition=71\n",
      "/2008/05/07/nyregion/07safety.html?searchResultPosition=72\n",
      "/2006/05/22/nyregion/23mbrfs-brief-005.5.html?searchResultPosition=73\n",
      "/2016/05/03/nyregion/as-construction-deaths-rise-a-mass-for-fallen-workers-grows.html?searchResultPosition=74\n",
      "/2008/06/02/nyregion/02collapse.html?searchResultPosition=75\n",
      "/2009/03/19/nyregion/19fall.html?searchResultPosition=76\n",
      "/2015/12/11/nyregion/council-bills-seek-to-make-construction-less-perilous-in-new-york-city.html?searchResultPosition=77\n",
      "/2015/08/26/nyregion/construction-worker-falls-to-his-death-in-manhattan-elevator-shaft.html?searchResultPosition=78\n",
      "/2004/02/18/nyregion/two-cranes-collapse-at-the-sikorsky-bridge-killing-a-construction-worker.html?searchResultPosition=79\n",
      "/video/multimedia/100000002871242/worker-killed-in-electrical-accident-at-brazil-world-cup-stadium.html?searchResultPosition=80\n",
      "/2002/08/20/nyregion/metro-briefing-new-york-manhattan-construction-worker-killed.html?searchResultPosition=81\n",
      "/2008/01/30/nyregion/30cnd-fall.html?searchResultPosition=82\n",
      "https://cityroom.blogs.nytimes.com/2008/01/14/scaffold-collapse-at-trump-soho-tower-kills-1/?searchResultPosition=83\n",
      "/2008/01/15/nyregion/15scaffold.html?searchResultPosition=84\n",
      "/2016/11/24/world/asia/china-collapse-jiangxi-fengcheng-power-plant.html?searchResultPosition=85\n",
      "https://cityroom.blogs.nytimes.com/2008/06/24/new-safety-policy-for-construction-cranes/?searchResultPosition=86\n",
      "/2008/09/05/nyregion/05accident.html?searchResultPosition=87\n",
      "/2015/04/08/nyregion/workers-injured-at-midtown-manhattan-construction-site.html?searchResultPosition=88\n",
      "https://cityroom.blogs.nytimes.com/2009/02/03/city-announces-overhaul-of-high-risk-construction/?searchResultPosition=89\n",
      "/2006/05/23/nyregion/metro-briefing-new-york-manhattan-workers-injured-at-construction.html?searchResultPosition=90\n",
      "/2008/04/30/nyregion/30fall.html?searchResultPosition=91\n",
      "/2002/08/24/nyregion/2-workers-die-at-construction-site-when-elevator-plunges-19-floors.html?searchResultPosition=92\n",
      "/2015/09/05/nyregion/man-killed-in-brooklyn-wall-collapse-had-warned-of-problems.html?searchResultPosition=93\n",
      "/2008/05/30/world/americas/30iht-30crane2.13342383.html?searchResultPosition=94\n",
      "/2004/07/27/us/high-accident-risk-is-seen-in-atomic-waste-project.html?searchResultPosition=95\n",
      "/2006/05/03/nyregion/pipe-falls-at-new-york-times-construction-site-injuring-3-in-car.html?searchResultPosition=96\n",
      "/2017/01/16/opinion/2-years-31-dead-construction-workers-new-york-can-do-better.html?searchResultPosition=97\n",
      "https://cityroom.blogs.nytimes.com/2007/12/07/man-dies-in-gruesome-bronx-construction-accident/?searchResultPosition=98\n",
      "/2015/08/06/nyregion/construction-managers-to-face-manslaughter-charges-in-death-of-queens-worker.html?searchResultPosition=99\n",
      "/2008/02/05/nyregion/05construction.html?searchResultPosition=100\n",
      "/2014/11/29/nyregion/construction-worker-dies-after-roof-collapse-at-staten-island-car-dealership.html?searchResultPosition=101\n",
      "/2016/04/02/world/asia/kolkata-collapse-india-overpass.html?searchResultPosition=102\n",
      "/2008/04/22/nyregion/22lancaster.html?searchResultPosition=103\n",
      "/2006/05/03/nyregion/03accident.html?searchResultPosition=104\n",
      "https://cityroom.blogs.nytimes.com/2013/01/09/several-injured-after-crane-collapse-in-queens/?searchResultPosition=105\n",
      "/2007/02/08/nyregion/08build.html?searchResultPosition=106\n",
      "/2000/02/03/nyregion/two-workers-killed-in-collapse-of-plant-under-construction.html?searchResultPosition=107\n",
      "/2006/10/11/nyregion/brooklyn-workers-injured-in-lift-accident.html?searchResultPosition=108\n",
      "/2016/12/09/nyregion/fatal-manhattan-crane-accident-crane-operator.html?searchResultPosition=109\n",
      "/2008/03/19/nyregion/19about.html?searchResultPosition=110\n",
      "https://cityroom.blogs.nytimes.com/2008/06/05/bloomberg-says-city-not-washington-can-look-into-cranes/?searchResultPosition=111\n",
      "/2012/04/05/nyregion/mta-halts-work-on-manhattan-subway-extension-after-a-crane-collapse.html?searchResultPosition=112\n",
      "/2006/10/11/nyregion/11mbrfs-003.html?searchResultPosition=113\n",
      "/2008/07/23/world/middleeast/23israel.html?searchResultPosition=114\n",
      "/2015/05/14/upshot/amtrak-crash-and-americas-declining-construction-spending.html?searchResultPosition=115\n",
      "/2017/09/27/nyregion/with-construction-worker-deaths-up-city-council-tightens-regulations.html?searchResultPosition=116\n",
      "/2016/12/09/nyregion/worker-dies-in-fall-at-old-domino-sugar-site-in-brooklyn.html?searchResultPosition=117\n",
      "/2002/07/30/nyregion/metro-briefing-new-jersey-belmar-crane-accident.html?searchResultPosition=118\n",
      "https://cityroom.blogs.nytimes.com/2008/07/16/incompetence-and-corruption-haunt-construction-industry/?searchResultPosition=119\n",
      "https://learning.blogs.nytimes.com/2012/03/28/march-28-1979-nuclear-accident-occurs-at-three-mile-island-plant/?searchResultPosition=120\n",
      "/2000/08/25/nyregion/woman-suffers-minor-injuries-when-brick-falls-63rd-street-apartment-construction.html?searchResultPosition=121\n",
      "/2008/06/01/nyregion/31cnd-crane.html?searchResultPosition=122\n",
      "/2008/05/31/nyregion/31crane.html?searchResultPosition=123\n",
      "/2007/09/16/nyregion/thecity/16pipe.html?searchResultPosition=124\n",
      "/2007/09/17/world/europe/17iht-chernobyl.4.7537024.html?searchResultPosition=125\n",
      "/2008/03/26/us/26crane.html?searchResultPosition=126\n",
      "/2011/09/28/world/asia/shanghai-subway-accident-injures-hundreds.html?searchResultPosition=127\n",
      "/2006/11/23/nyregion/where-even-construction-is-an-opportunity-for-art.html?searchResultPosition=128\n",
      "/2001/05/06/nyregion/day-laborer-s-death-in-brooklyn-collapse-prompts-investigations.html?searchResultPosition=129\n",
      "/2012/04/04/nyregion/one-killed-and-four-hurt-in-crane-collapse-on-west-side.html?searchResultPosition=130\n",
      "https://cityroom.blogs.nytimes.com/2008/03/15/bloomberg-intense-city-effort-at-place-of-carnage/?searchResultPosition=131\n",
      "/2006/04/19/nyregion/metro-briefing-new-york-brooklyn-worker-killed-in-fall.html?searchResultPosition=132\n",
      "/2008/06/11/opinion/11wed4.html?searchResultPosition=133\n",
      "/2006/11/02/nyregion/construction-worker-dies-in-15story-fall-in-manhattan.html?searchResultPosition=134\n",
      "/2012/04/27/nyregion/james-lomma-acquitted-of-all-charges-in-crane-collapse.html?searchResultPosition=135\n",
      "https://sinosphere.blogs.nytimes.com/2015/04/10/chinas-statement-on-its-construction-in-the-south-china-sea/?searchResultPosition=136\n",
      "/2008/05/31/nyregion/31victim.html?searchResultPosition=137\n",
      "/2008/04/24/nyregion/24buildings.html?searchResultPosition=138\n",
      "/2007/07/03/nyregion/03mbrfs-fall.html?searchResultPosition=139\n",
      "/2007/10/20/nyregion/20about.html?searchResultPosition=140\n",
      "https://cityroom.blogs.nytimes.com/2012/09/12/car-plunges-into-brooklyn-construction-site-after-driver-loses-control/?searchResultPosition=141\n",
      "/2009/07/13/world/asia/13india.html?searchResultPosition=142\n",
      "/2013/07/06/nyregion/staten-island-man-55-is-killed-by-a-falling-15-foot-pipe.html?searchResultPosition=143\n",
      "/2014/07/01/world/asia/more-bodies-pulled-from-collapsed-building-in-Chennai-india.html?searchResultPosition=144\n",
      "/2008/04/23/nyregion/23lancaster.html?searchResultPosition=145\n",
      "/2007/07/06/us/06brfs-ROOFCOLLAPSE_BRF.html?searchResultPosition=146\n",
      "https://cityroom.blogs.nytimes.com/2008/03/31/city-allows-work-to-resume-on-trump-condo-hotel/?searchResultPosition=147\n",
      "/2008/01/31/nyregion/31fall.html?searchResultPosition=148\n",
      "/2001/12/31/nyregion/metro-briefing-new-york-queens-2-seriously-injured-in-work-accident.html?searchResultPosition=149\n",
      "/2004/09/28/news/collapse-at-airport-injures-dozen-others-5-are-killed-as-wall-in-dubai.html?searchResultPosition=150\n",
      "/2008/05/02/nyregion/02lives.html?searchResultPosition=151\n",
      "/2008/06/01/nyregion/01towers.html?searchResultPosition=152\n",
      "https://cityroom.blogs.nytimes.com/2009/03/18/worker-falls-to-death-at-hotel-projec/?searchResultPosition=153\n",
      "/2017/09/10/us/crane-collapse-miami-irma.html?searchResultPosition=154\n",
      "/2008/03/15/nyregion/15cnd-crane.html?searchResultPosition=155\n",
      "https://cityroom.blogs.nytimes.com/2012/06/27/two-days-of-trouble-follow-a-milestone-at-4-world-trade-center/?searchResultPosition=156\n",
      "/2008/03/18/nyregion/18crane.html?searchResultPosition=157\n",
      "/2000/03/17/nyregion/city-halts-work-at-hospital-after-falling-concrete-injures-3.html?searchResultPosition=158\n",
      "/2008/01/25/nyregion/25netting.html?searchResultPosition=159\n",
      "/2006/11/23/nyregion/23blocks.html?searchResultPosition=160\n",
      "/2005/02/16/world/europe/paris-airport-weak-points.html?searchResultPosition=161\n",
      "/2004/03/14/nyregion/worth-noting-speeding-cited-for-mishaps-near-exit-27-in-bridgeport.html?searchResultPosition=162\n",
      "/2007/08/23/nyregion/23cnd-deutsche.html?searchResultPosition=163\n",
      "/2008/04/02/nyregion/02glass.html?searchResultPosition=164\n",
      "/2004/02/22/nyregion/worth-noting-accident-that-killed-man-won-t-delay-new-bridge.html?searchResultPosition=165\n",
      "/2008/09/24/nyregion/24crane.html?searchResultPosition=166\n",
      "/2008/08/02/opinion/02sat3.html?searchResultPosition=167\n",
      "/2004/11/24/nyregion/plank-hits-passerby-at-midtown-building-site.html?searchResultPosition=168\n",
      "/2006/11/02/nyregion/02fall.html?searchResultPosition=169\n",
      "/2011/02/10/nyregion/10fall.html?searchResultPosition=170\n",
      "/2008/06/14/nyregion/14sue.html?searchResultPosition=171\n",
      "/2008/06/06/nyregion/06fathers.html?searchResultPosition=172\n",
      "https://cityroom.blogs.nytimes.com/2008/05/30/crane-collapses-on-upper-east-side/?searchResultPosition=173\n",
      "/2008/06/01/world/americas/01iht-01collapse.13367650.html?searchResultPosition=174\n",
      "/2008/06/01/nyregion/01collapse.html?searchResultPosition=175\n",
      "/2005/09/18/nyregion/concrete-worker-is-killed-in-brooklyn.html?searchResultPosition=176\n",
      "/2003/01/25/nyregion/fatal-crash-is-linked-to-slick-road-with-no-light.html?searchResultPosition=177\n",
      "/2015/11/27/nyregion/rise-in-new-york-construction-deaths-strikes-the-poor-and-undocumented.html?searchResultPosition=178\n",
      "/2014/05/19/world/asia/north-korea-building-collapse.html?searchResultPosition=179\n",
      "/2008/07/16/nyregion/16crane.html?searchResultPosition=180\n",
      "/2006/09/02/nyregion/nyregionspecial2/03licommute.html?searchResultPosition=181\n",
      "/2008/08/02/nyregion/02crane.html?searchResultPosition=182\n",
      "/2000/02/13/nyregion/company-cited-in-fatal-collapse.html?searchResultPosition=183\n",
      "/2008/03/29/opinion/29broderick.html?searchResultPosition=184\n",
      "/2015/01/23/nyregion/edgewater-fire-leaves-homeless-tenants-distraught.html?searchResultPosition=185\n",
      "/2015/03/13/world/asia/bangladesh-factory-collapse.html?searchResultPosition=186\n",
      "/2005/03/18/world/europe/paris-airport-will-rebuild-roof-that-collapsed.html?searchResultPosition=187\n",
      "/2008/01/16/nyregion/16building.html?searchResultPosition=188\n",
      "/2019/04/08/nyregion/construction-worker-death-nyc-midtown-east.html?searchResultPosition=189\n",
      "/2014/06/30/world/asia/new-delhi-india-illegally-constructed-buildings-collapse-killing-and-trapping-people-builders-arrested.html?searchResultPosition=190\n",
      "/2006/04/11/us/national-briefing-new-england-massachusetts-worker-error-cited-in.html?searchResultPosition=191\n",
      "/2005/11/03/nyregion/metro-briefing-new-york-brooklyn-worker-falls-to-death.html?searchResultPosition=192\n",
      "/2006/09/03/nyregion/on-commuting-route-110-plan-worries-some-merchants.html?searchResultPosition=193\n",
      "/2009/01/10/nyregion/10sewage.html?searchResultPosition=194\n",
      "/2012/03/31/nyregion/worker-falls-off-throgs-neck-bridge.html?searchResultPosition=195\n",
      "/2008/09/06/nyregion/06crane.html?searchResultPosition=196\n",
      "/2008/07/16/nyregion/16crash.html?searchResultPosition=197\n",
      "/2003/08/24/nyregion/slow-down-construction-ahead.html?searchResultPosition=198\n",
      "/2003/10/31/nyregion/a-catastrophe-in-a-project-meant-to-reach-lavish-levels-of-pleasure.html?searchResultPosition=199\n",
      "/2007/09/26/nyregion/26hit.html?searchResultPosition=200\n",
      "/2019/10/22/us/bridge-collapse-florida-international-university-NTSB.html?searchResultPosition=201\n",
      "/2008/05/30/world/americas/30iht-30accident.13343675.html?searchResultPosition=202\n",
      "https://sinosphere.blogs.nytimes.com/2013/12/10/seven-sentenced-to-prison-over-deadly-bridge-collapse/?searchResultPosition=203\n",
      "/2008/05/20/nyregion/20inspect.html?searchResultPosition=204\n",
      "https://india.blogs.nytimes.com/2014/03/14/several-feared-trapped-in-mumbai-building-collapse/?searchResultPosition=205\n",
      "/2005/09/06/world/europe/9-die-in-austrian-cablecar-accident.html?searchResultPosition=206\n",
      "/2002/09/25/world/21-chinese-children-die-in-school-accident.html?searchResultPosition=207\n",
      "/2008/05/04/nyregion/thecity/04cons.html?searchResultPosition=208\n",
      "/2016/02/05/nyregion/construction-worker-62-dies-in-fall-from-east-harlem-building.html?searchResultPosition=209\n",
      "/2006/12/27/nyregion/roof-collapses-killing-a-worker-and-injuring-two.html?searchResultPosition=210\n",
      "/2000/05/03/nyregion/nepotism-admitted-in-hiring-of-supervisor-at-site-where-brick-killed-girl.html?searchResultPosition=211\n",
      "/2007/10/18/nyregion/18accident.html?searchResultPosition=212\n",
      "/2006/12/27/nyregion/27collapse.html?searchResultPosition=213\n",
      "/2008/05/31/nyregion/31collapse.html?searchResultPosition=214\n",
      "/2008/04/23/opinion/23wed3.html?searchResultPosition=215\n",
      "/2009/07/14/world/asia/14briefs-India.html?searchResultPosition=216\n",
      "/2008/03/21/nyregion/21crane.html?searchResultPosition=217\n",
      "/2011/04/20/business/energy-environment/20nuke.html?searchResultPosition=218\n",
      "/2015/12/21/world/asia/landslide-hits-southern-city-sending-hundreds-fleeing-china-reports.html?searchResultPosition=219\n",
      "/2008/02/08/nyregion/08shock.html?searchResultPosition=220\n",
      "https://economix.blogs.nytimes.com/2013/05/29/recessions-save-lives/?searchResultPosition=221\n",
      "/2008/11/09/world/europe/09iht-russia.1.17660906.html?searchResultPosition=222\n",
      "/2004/05/25/world/new-cracks-stop-search-at-terminal-after-collapse.html?searchResultPosition=223\n",
      "/2011/11/09/nyregion/unfinished-brooklyn-building-falls-on-construction-workers.html?searchResultPosition=224\n",
      "/2008/06/12/nyregion/12indict.html?searchResultPosition=225\n",
      "/2011/11/19/nyregion/sandhog-killed-in-railroad-tunnel-accident.html?searchResultPosition=226\n",
      "/2002/10/02/nyregion/two-builders-are-indicted-in-fatality-at-work-site.html?searchResultPosition=227\n",
      "/2003/01/26/nyregion/following-i-95-crash-agencies-study-barriers.html?searchResultPosition=228\n",
      "/2008/05/30/world/americas/30iht-30crane.13346308.html?searchResultPosition=229\n",
      "/2007/12/15/nyregion/15accident.html?searchResultPosition=230\n",
      "/2010/05/13/nyregion/13verdict.html?searchResultPosition=231\n",
      "/2008/03/26/nyregion/26accident.html?searchResultPosition=232\n",
      "/2011/07/21/world/europe/21briefs-France.html?searchResultPosition=233\n",
      "https://cityroom.blogs.nytimes.com/2011/01/10/queens-wall-collapse-kills-worker-injures-3-others/?searchResultPosition=234\n",
      "/2016/04/20/world/asia/china-front-end-loaders-fight.html?searchResultPosition=235\n",
      "/2006/11/03/nyregion/city-forms-task-force-to-improve-safety-of-workers-on-scaffolding.html?searchResultPosition=236\n",
      "/2004/04/05/nyregion/high-winds-blow-metal-sheets-off-skyscraper.html?searchResultPosition=237\n",
      "https://cityroom.blogs.nytimes.com/2008/04/14/construction-worker-dies-in-fall-from-building/?searchResultPosition=238\n",
      "/2009/06/18/nyregion/18hardhat.html?searchResultPosition=239\n",
      "/2001/09/12/us/day-terror-voices-personal-accounts-morning-rush-that-became-unthinkable-147940.html?searchResultPosition=240\n",
      "/2004/05/24/world/roof-collapses-at-paris-airport-killing-5.html?searchResultPosition=241\n",
      "/2004/10/28/nyregion/education/metro-briefing-new-jersey-franklin-township-six-hurt-in.html?searchResultPosition=242\n",
      "/2007/04/29/nyregion/30train.html?searchResultPosition=243\n",
      "/2002/09/12/nyregion/debris-flies-and-a-boater-is-drowned-in-high-wind.html?searchResultPosition=244\n",
      "/2006/04/13/business/worldbusiness/russia-covets-china-nuclear-deals.html?searchResultPosition=245\n",
      "/2007/08/01/us/01collapse.html?searchResultPosition=246\n",
      "/2003/04/18/nyregion/broken-crane-halts-rail-traffic-and-closes-streets-in-jersey-city.html?searchResultPosition=247\n",
      "/2008/04/20/nyregion/20safety.html?searchResultPosition=248\n",
      "/2013/06/21/movies/three-worlds-explores-the-aftermath-of-a-hit-and-run.html?searchResultPosition=249\n",
      "/2008/09/12/nyregion/12construction.html?searchResultPosition=250\n",
      "/2006/07/12/us/accident-in-bostons-big-dig-kills-woman-in-car.html?searchResultPosition=251\n",
      "/2000/05/24/nyregion/metro-news-briefs-new-york-suit-to-be-filed-in-laborer-s-death.html?searchResultPosition=252\n",
      "/2008/08/13/nyregion/13glass.html?searchResultPosition=253\n",
      "/2006/07/12/us/12tunnel.html?searchResultPosition=254\n",
      "/2016/07/20/nyregion/crane-collapse-tappan-zee-bridge.html?searchResultPosition=255\n",
      "/2008/08/18/nyregion/18fall.html?searchResultPosition=256\n",
      "/2000/05/21/nyregion/neighborhood-report-bedford-park-bad-traffic-no-brainer-for-bronx-science.html?searchResultPosition=257\n",
      "/2004/06/09/nyregion/chinese-builder-s-death-reveals-anonymous-web-of-risky-labor.html?searchResultPosition=258\n",
      "/2013/06/19/nyregion/queens-worker-pulled-from-mud-after-fall-into-trench.html?searchResultPosition=259\n",
      "/2006/07/15/us/governor-declines-to-say-when-tunnel-might-reopen.html?searchResultPosition=260\n",
      "/2015/11/26/opinion/beware-of-chinas-safety-record.html?searchResultPosition=261\n",
      "/2018/03/16/us/florida-bridge-cracks.html?searchResultPosition=262\n",
      "/2007/09/15/nyregion/15fall.html?searchResultPosition=263\n",
      "/2005/12/23/world/asia/tunnel-blast-in-china-raises-industrial-toll.html?searchResultPosition=264\n",
      "/2013/07/28/nyregion/woman-is-presumed-dead-in-boat-crash.html?searchResultPosition=265\n",
      "/2008/06/03/nyregion/03crane.html?searchResultPosition=266\n",
      "/2012/10/25/business/global/china-reduces-target-for-construction-nuclear-power-plants.html?searchResultPosition=267\n",
      "/2012/03/24/nyregion/contractor-offers-explanation-for-building-collapse-in-west-harlem.html?searchResultPosition=268\n",
      "/2011/03/17/business/global/17atomic.html?searchResultPosition=269\n",
      "/2017/11/15/world/middleeast/iran-earthquake-construction-corruption.html?searchResultPosition=270\n",
      "/2006/08/11/nyregion/11mbrfs-001.html?searchResultPosition=271\n",
      "/2009/03/24/world/asia/24briefs-brfChina.html?searchResultPosition=272\n",
      "/2004/05/23/international/europe/roof-collapses-at-paris-airport-killing-5.html?searchResultPosition=273\n",
      "/2006/09/29/nyregion/manhattan-worker-killed-in-fall.html?searchResultPosition=274\n",
      "/2007/01/31/nyregion/31mbrfs-fatality.html?searchResultPosition=275\n",
      "/2000/08/10/arts/jerome-smith-47-of-k-c-and-the-sunshine-band-the-hit-disco-group.html?searchResultPosition=276\n",
      "/2007/12/16/nyregion/16crane.html?searchResultPosition=277\n",
      "https://cityroom.blogs.nytimes.com/2008/06/02/can-we-build-a-better-crane/?searchResultPosition=278\n",
      "/2004/04/30/nyregion/osha-cites-4-companies-in-parking-garage-collapse.html?searchResultPosition=279\n",
      "/2006/09/29/nyregion/29mbrfs-004.html?searchResultPosition=280\n",
      "/2006/11/03/nyregion/03construct.html?searchResultPosition=281\n",
      "/2011/10/11/business/energy-environment/china-marches-on-with-nuclear-energy-in-spite-of-fukushima.html?searchResultPosition=282\n",
      "https://economix.blogs.nytimes.com/2010/05/19/for-the-moment-men-regain-the-majority/?searchResultPosition=283\n",
      "https://cityroom.blogs.nytimes.com/2012/03/22/construction-worker-killed-in-building-collapse-in-manhattan/?searchResultPosition=284\n",
      "https://cityroom.blogs.nytimes.com/2012/02/16/steel-plunges-from-crane-at-ground-zero-site-but-no-one-is-injured/?searchResultPosition=285\n",
      "https://cityroom.blogs.nytimes.com/2012/04/03/construction-worker-critically-injured-in-brooklyn-collapse/?searchResultPosition=286\n",
      "/2006/03/08/nyregion/worker-in-brooklyn-dies-as-a-wall-falls.html?searchResultPosition=287\n",
      "/2010/07/27/business/global/27iht-renepr.html?searchResultPosition=288\n",
      "/2006/07/15/us/15tunnel.html?searchResultPosition=289\n",
      "/2012/11/07/nyregion/drama-behind-securing-crippled-crane-in-manhattan.html?searchResultPosition=290\n",
      "/2006/11/03/nyregion/03construct.html?searchResultPosition=291\n",
      "/2011/10/11/business/energy-environment/china-marches-on-with-nuclear-energy-in-spite-of-fukushima.html?searchResultPosition=292\n",
      "https://economix.blogs.nytimes.com/2010/05/19/for-the-moment-men-regain-the-majority/?searchResultPosition=293\n",
      "https://cityroom.blogs.nytimes.com/2012/03/22/construction-worker-killed-in-building-collapse-in-manhattan/?searchResultPosition=294\n",
      "https://cityroom.blogs.nytimes.com/2012/02/16/steel-plunges-from-crane-at-ground-zero-site-but-no-one-is-injured/?searchResultPosition=295\n",
      "https://cityroom.blogs.nytimes.com/2012/04/03/construction-worker-critically-injured-in-brooklyn-collapse/?searchResultPosition=296\n",
      "/2006/03/08/nyregion/worker-in-brooklyn-dies-as-a-wall-falls.html?searchResultPosition=297\n",
      "/2010/07/27/business/global/27iht-renepr.html?searchResultPosition=298\n",
      "/2006/07/15/us/15tunnel.html?searchResultPosition=299\n",
      "/2012/11/07/nyregion/drama-behind-securing-crippled-crane-in-manhattan.html?searchResultPosition=300\n"
     ]
    }
   ],
   "source": [
    "diff_link = []\n",
    "\n",
    "#delete unsupported news \n",
    "for i in range (len(a_link)) :\n",
    "    print(a_link[i])\n",
    "    if a_link[i][1] != '2':\n",
    "        \n",
    "        diff_link.append(a_link[i])\n",
    "            \n",
    "    else : \n",
    "        continue\n",
    "\n",
    "for j in range(len(diff_link)):\n",
    "    if diff_link[j] in a_link:\n",
    "        a_link.remove(diff_link[j])\n",
    "        \n",
    "#a_link\n"
   ]
  },
  {
   "cell_type": "code",
   "execution_count": 11,
   "metadata": {},
   "outputs": [],
   "source": [
    "## This is main source for analyzing article\n",
    "\n",
    "class ArticleInfo():\n",
    "    \n",
    "    def __init__(self, s_url) :\n",
    "        \n",
    "        session = requests.Session()\n",
    "        req=session.get(s_url)\n",
    "        self.soup = BeautifulSoup(req.text, 'html.parser')\n",
    "    \n",
    "    \n",
    "    def article_body(self) :\n",
    "        body = self.soup.find('div', {'class' : 'StoryBodyCompanionColumn'})\n",
    "        finalContent =''\n",
    "    \n",
    "        if body is not None :\n",
    "            for itcontents in self.soup.findAll('p'):\n",
    "                if itcontents == None :\n",
    "                    continue\n",
    "                content = itcontents.getText()\n",
    "                content = re.sub(r\"\\n+\", \"\", content)\n",
    "                finalContent +=content\n",
    "        else :\n",
    "            return False\n",
    "        \n",
    "        return finalContent\n",
    "\n",
    "##reference: https://github.com/subhendusethi/nytimes-article-crawler/blob/master/crawler/nytimescrawler.py    \n",
    "\n",
    "    def article_title(self):\n",
    "        titles = self.soup.select('title',{\"data-rh\":\"true\"})\n",
    "        for title in titles:\n",
    "            title = title.getText()\n",
    "            break\n",
    "        return title\n",
    "\n",
    "    def article_date(self) :\n",
    "  \n",
    "        date = self.soup.find('li',{'class':'date'})\n",
    "        if date != None :\n",
    "            date = date.getText()\n",
    "            \n",
    "        else :\n",
    "            date = self.soup.find('meta',{'name':'pdate'})\n",
    "            if date !=None :\n",
    "                date = date.get('content')\n",
    "                if date !=None :\n",
    "                    date = str(date)\n",
    "                else:\n",
    "                    none= \"none\"\n",
    "                    datelist.append(none)\n",
    "                \n",
    "        return date\n",
    "\n",
    " "
   ]
  },
  {
   "cell_type": "code",
   "execution_count": 12,
   "metadata": {},
   "outputs": [],
   "source": [
    "titles =[]\n",
    "bodies =[]\n",
    "datelist=[]\n",
    "\n",
    "for s_url in a_link :\n",
    "    s_url = 'https://www.nytimes.com'+s_url\n",
    "    ob = ArticleInfo(s_url)\n",
    "    \n",
    "    body =ob.article_body()\n",
    "    bodies.append(body)\n",
    "    \n",
    "    date = ob.article_date()\n",
    "    datelist.append(date)\n",
    "    \n",
    "    title = ob.article_title()\n",
    "    titles.append(title)"
   ]
  },
  {
   "cell_type": "code",
   "execution_count": 15,
   "metadata": {},
   "outputs": [],
   "source": [
    "#datelist"
   ]
  },
  {
   "cell_type": "markdown",
   "metadata": {},
   "source": [
    "### Start Tokenize words with nltk"
   ]
  },
  {
   "cell_type": "code",
   "execution_count": 13,
   "metadata": {},
   "outputs": [],
   "source": [
    "from nltk.corpus import stopwords\n",
    "from nltk.tokenize import RegexpTokenizer,word_tokenize\n",
    "from nltk.probability import ConditionalFreqDist\n",
    "from gensim.models import Word2Vec\n"
   ]
  },
  {
   "cell_type": "code",
   "execution_count": 14,
   "metadata": {},
   "outputs": [],
   "source": [
    "\n",
    "#1. make lower case, regulazation\n",
    "l_bodies=[]\n",
    "for body in bodies :\n",
    "    body = body.lower()\n",
    "    l_bodies.append(body)\n",
    "\n",
    "    \n",
    "#2. removing stop words, tokenize with postagging\n",
    "stop_words = set(stopwords.words('english'))\n",
    "\n",
    "token_sentence = []\n",
    "for words in l_bodies:\n",
    "    word_tokens= word_tokenize(words)\n",
    "    filter_sentence = [fw for fw in word_tokens if not fw in stop_words]\n",
    "    #filter_sentence = nltk.pos_tag(filter_sentence)\n",
    "    token_sentence.append(filter_sentence)\n",
    "    \n",
    "#token_sentence\n",
    "\n",
    "\n"
   ]
  },
  {
   "cell_type": "code",
   "execution_count": 15,
   "metadata": {},
   "outputs": [],
   "source": [
    "\n",
    "model = Word2Vec(token_sentence, size = 100, window=2, min_count=7, workers=3, sg=1)"
   ]
  },
  {
   "cell_type": "code",
   "execution_count": 29,
   "metadata": {},
   "outputs": [
    {
     "name": "stderr",
     "output_type": "stream",
     "text": [
      "/Users/macbookpro/anaconda3/lib/python3.7/site-packages/ipykernel_launcher.py:1: DeprecationWarning: Call to deprecated `similarity` (Method will be removed in 4.0.0, use self.wv.similarity() instead).\n",
      "  \"\"\"Entry point for launching an IPython kernel.\n"
     ]
    },
    {
     "data": {
      "text/plain": [
       "0.9356468"
      ]
     },
     "execution_count": 29,
     "metadata": {},
     "output_type": "execute_result"
    }
   ],
   "source": [
    "model.similarity('accident','collapse')  ## similarity between words"
   ]
  },
  {
   "cell_type": "code",
   "execution_count": 27,
   "metadata": {},
   "outputs": [
    {
     "name": "stderr",
     "output_type": "stream",
     "text": [
      "/Users/macbookpro/anaconda3/lib/python3.7/site-packages/ipykernel_launcher.py:1: DeprecationWarning: Call to deprecated `most_similar` (Method will be removed in 4.0.0, use self.wv.most_similar() instead).\n",
      "  \"\"\"Entry point for launching an IPython kernel.\n"
     ]
    },
    {
     "data": {
      "text/plain": [
       "[('sunday', 0.9884597659111023),\n",
       " ('afternoon', 0.9880573153495789),\n",
       " ('others', 0.9863746762275696),\n",
       " ('identified', 0.9856827259063721),\n",
       " ('thursday', 0.984592854976654),\n",
       " ('crash', 0.9843496084213257),\n",
       " ('came', 0.9840596914291382),\n",
       " ('saturday', 0.9836990833282471),\n",
       " ('crushed', 0.9835145473480225),\n",
       " ('injuries', 0.9822856187820435)]"
      ]
     },
     "execution_count": 27,
     "metadata": {},
     "output_type": "execute_result"
    }
   ],
   "source": [
    "model.most_similar('death')[:20]"
   ]
  },
  {
   "cell_type": "code",
   "execution_count": 142,
   "metadata": {},
   "outputs": [],
   "source": [
    "data ={\"Date\":datelist, \"Title\": titles, \"Body\":bodies,\"Link\" :a_link}\n",
    "df= pd.DataFrame(data)\n",
    "\n",
    "df['Date']=pd.to_datetime(df.Date)\n",
    "df.sort_values(by='Date')\n",
    "df.to_excel('result_0301.xlsx')\n",
    "df.to_csv('/Users/macbookpro/Desktop/Project/Cosntruction_article/reslut_0301.csv', index= False,)\n"
   ]
  },
  {
   "cell_type": "code",
   "execution_count": 38,
   "metadata": {},
   "outputs": [
    {
     "name": "stderr",
     "output_type": "stream",
     "text": [
      "[nltk_data] Downloading package averaged_perceptron_tagger to\n",
      "[nltk_data]     /Users/macbookpro/nltk_data...\n",
      "[nltk_data]   Package averaged_perceptron_tagger is already up-to-\n",
      "[nltk_data]       date!\n"
     ]
    },
    {
     "data": {
      "text/plain": [
       "True"
      ]
     },
     "execution_count": 38,
     "metadata": {},
     "output_type": "execute_result"
    }
   ],
   "source": [
    "import nltk\n",
    "nltk.download('averaged_perceptron_tagger')"
   ]
  },
  {
   "cell_type": "code",
   "execution_count": 2,
   "metadata": {},
   "outputs": [],
   "source": [
    "import numpy as np\n",
    "import matplotlib.pyplot as plt\n",
    "import seaborn as sns\n",
    "import pandas as pd\n",
    "%matplotlib inline\n",
    "from umap import UMAP"
   ]
  },
  {
   "cell_type": "code",
   "execution_count": 3,
   "metadata": {},
   "outputs": [],
   "source": [
    "reducer = UMAP(n_neighbors = 20, min_dist =0.25, n_components = 2, verbose = True)"
   ]
  },
  {
   "cell_type": "code",
   "execution_count": 31,
   "metadata": {},
   "outputs": [
    {
     "data": {
      "text/plain": [
       "259"
      ]
     },
     "execution_count": 31,
     "metadata": {},
     "output_type": "execute_result"
    }
   ],
   "source": [
    "len(token_sentence)"
   ]
  },
  {
   "cell_type": "code",
   "execution_count": 32,
   "metadata": {},
   "outputs": [
    {
     "data": {
      "text/plain": [
       "<gensim.models.word2vec.Word2Vec at 0x12b1ca9b0>"
      ]
     },
     "execution_count": 32,
     "metadata": {},
     "output_type": "execute_result"
    }
   ],
   "source": [
    "model"
   ]
  },
  {
   "cell_type": "code",
   "execution_count": 35,
   "metadata": {},
   "outputs": [],
   "source": [
    "agg_sen =[]\n",
    "sentences =[]\n",
    "for sen in token_sentence:\n",
    "    sentences += sen\n",
    "    \n",
    "    "
   ]
  },
  {
   "cell_type": "code",
   "execution_count": null,
   "metadata": {},
   "outputs": [],
   "source": []
  }
 ],
 "metadata": {
  "kernelspec": {
   "display_name": "Python 3",
   "language": "python",
   "name": "python3"
  },
  "language_info": {
   "codemirror_mode": {
    "name": "ipython",
    "version": 3
   },
   "file_extension": ".py",
   "mimetype": "text/x-python",
   "name": "python",
   "nbconvert_exporter": "python",
   "pygments_lexer": "ipython3",
   "version": "3.7.3"
  }
 },
 "nbformat": 4,
 "nbformat_minor": 2
}
