{
 "cells": [
  {
   "cell_type": "code",
   "execution_count": null,
   "metadata": {},
   "outputs": [],
   "source": [
    "# top 100 similiar word\n",
    "\n",
    "sim_list_fire_100 = model.similar_by_vector('fire', topn=100, restrict_vocab=None)\n",
    "sim_list_fall_100 = model.similar_by_vector('fell', topn=100, restrict_vocab=None)\n",
    "sim_list_collapse_100 = model.similar_by_vector('collapse', topn=100, restrict_vocab=None)\n",
    "sim_list_building_100 = model.similar_by_vector('building', topn=100, restrict_vocab=None)\n",
    "sim_list_people_100 = model.similar_by_vector('people', topn=100, restrict_vocab= None)\n",
    "print(sim_list_fire_100)\n",
    "sim_list_fire_100 = [sim_list_fire_100[i] for i in range(len(sim_list_fire_100)) if sim_list_fire_100[i][1] >=0.5]\n",
    "pd_fire_100 = pd.DataFrame(sim_list_fire_100,columns=['Word', 'Similarity'])\n",
    "pd_fire_100.to_csv('Similar_words_100/fire_100.csv')\n",
    "\n",
    "sim_list_fall_100 = [sim_list_fall_100[i] for i in range(len(sim_list_fall_100)) if sim_list_fall_100[i][1] >=0.5]\n",
    "pd_fall_100 = pd.DataFrame(sim_list_fall_100,columns=['Word','Similarity'])\n",
    "pd_fall_100.to_csv('Similar_words_100/fall_100.csv')\n",
    "\n",
    "sim_list_collapse_100 = [sim_list_collapse_100[i] for i in range(len(sim_list_collapse_100)) if sim_list_collapse_100[i][1] >=0.5]\n",
    "pd_collapse_100 = pd.DataFrame(sim_list_collapse_100, columns=['Word','Similarity'])\n",
    "pd_collapse_100.to_csv('Similar_words_100/collapse_100.csv')\n",
    "\n",
    "sim_list_building_100 = [sim_list_building_100[i] for i in range(len(sim_list_building_100)) if sim_list_building_100[i][1] >=0.5]\n",
    "pd_building_100 = pd.DataFrame(sim_list_building_100, columns=['Word', 'Similarity'])\n",
    "pd_building_100.to_csv('Similar_words_100/building_100.csv')\n",
    "\n",
    "sim_list_people_100 = [sim_list_people_100[i] for i in range(len(sim_list_people_100)) if sim_list_people_100[i][1] >=0.5]\n",
    "pd_people_100 = pd.DataFrame(sim_list_people_100, columns=['Word','Similarity'])\n",
    "pd_people_100.to_csv('Similar_words_100/people_100.csv')"
   ]
  }
 ],
 "metadata": {
  "kernelspec": {
   "display_name": "Python 3",
   "language": "python",
   "name": "python3"
  },
  "language_info": {
   "codemirror_mode": {
    "name": "ipython",
    "version": 3
   },
   "file_extension": ".py",
   "mimetype": "text/x-python",
   "name": "python",
   "nbconvert_exporter": "python",
   "pygments_lexer": "ipython3",
   "version": "3.7.3"
  }
 },
 "nbformat": 4,
 "nbformat_minor": 2
}
