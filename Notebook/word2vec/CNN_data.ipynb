{
 "cells": [
  {
   "cell_type": "code",
   "execution_count": 1,
   "metadata": {},
   "outputs": [],
   "source": [
    "import requests\n",
    "from html.parser import HTMLParser\n",
    "from bs4 import BeautifulSoup\n",
    "import urllib.request\n",
    "from selenium import webdriver\n",
    "import time\n",
    "import operator\n"
   ]
  },
  {
   "cell_type": "code",
   "execution_count": 2,
   "metadata": {},
   "outputs": [],
   "source": [
    "def source(pgnum) :\n",
    "    \n",
    "    m_url = 'https://www.cnn.com/search?q=construction%20accident&from='+str(pgnum-1)+'0&page='+str(pgnum)\n",
    "    \n",
    "    return m_url"
   ]
  },
  {
   "cell_type": "code",
   "execution_count": 12,
   "metadata": {},
   "outputs": [
    {
     "name": "stdout",
     "output_type": "stream",
     "text": [
      "[<a href=\"//www.cnn.com/2020/02/26/us/columbia-gas-explosion-guilty/index.html\">Columbia Gas agrees to plead guilty in deadly 2018 Massachusetts explosions and leave the state, feds say</a>, <a href=\"//www.cnn.com/2013/07/17/world/asia/japan-earthquake---tsunami-fast-facts/index.html\">2011 Japan Earthquake - Tsunami Fast Facts</a>, <a href=\"//www.cnn.com/2020/01/29/politics/us-border-wall-falls-over-high-winds/index.html\">Portion of US border wall in California falls over in high winds and lands on Mexican side</a>, <a href=\"//www.cnn.com/travel/article/fortune-guide-2020-chinese-zodiac-sign/index.html\">What's in store for the Year of the Rat? Hong Kong's most famous fortune teller reveals all</a>, <a href=\"//www.cnn.com/2020/01/11/opinions/puerto-rico-earthquake-aftermath-fear-guzman/index.html\">Puerto Ricans need new words to show what's at stake</a>, <a href=\"//www.cnn.com/asia/live-news/hong-kong-strike-protest-intl-hnk/index.html\">Flights canceled, major roads blocked as Hong Kong protests escalate</a>, <a href=\"//www.cnn.com/2019/10/29/entertainment/gallery/netflix-amazon-hulu-november-2019/index.html\">What's streaming on Netflix, Hulu and Amazon in November</a>, <a href=\"//www.cnn.com/2019/10/18/us/seattle-crane-collapse-companies-fined/index.html\">Three companies fined in Seattle crane collapse that killed four people</a>, <a href=\"//www.cnn.com/2019/10/04/asia/cambodia-chinese-investment-intl-hnk/index.html\">How Cambodia's backpacker haven became a Chinese casino mecca</a>, <a href=\"//www.cnn.com/2019/09/30/us/lawrence-gas-leak-valve/index.html\">Massachusetts gas leak caused by valve that should have been disabled in 2018 reconstruction, officials say</a>]\n",
      "[]\n",
      "[<a href=\"//www.cnn.com/2019/08/01/world/gallery/week-in-photos-0802/index.html\">The week in 27 photos</a>, <a href=\"//www.cnn.com/videos/world/2019/07/30/czech-republic-freight-train-derailment-marianske-lazne-ge-lon-orig.cnn\">See this freight train derail and spill its cargo</a>, <a href=\"//www.cnn.com/2013/11/03/us/dc-metro-system-fast-facts/index.html\">Washington, DC Metro System Fast Facts</a>, <a href=\"//www.cnn.com/2019/07/22/us/good-samaritans-lift-car-rescue-trnd/index.html\">When a man's tire blew out and his car rolled over, a group of strangers saved him</a>, <a href=\"//www.cnn.com/2019/07/15/us/murietta-house-gas-explosion-trnd/index.html\">One dead and 15 injured in house explosion in California</a>, <a href=\"//www.cnn.com/2014/07/07/us/george-lucas-fast-facts/index.html\">George Lucas Fast Facts</a>, <a href=\"//www.cnn.com/2019/06/28/europe/russia-arctic-floating-nuclear-power-station-intl/index.html\">Russia plans to tow a nuclear power station to the Arctic. Critics dub it a 'floating Chernobyl'</a>, <a href=\"//www.cnn.com/2019/06/22/asia/cambodia-building-collapse-intl/index.html\">Cambodia building collapse kills three, with many trapped under rubble</a>, <a href=\"//www.cnn.com/2019/06/12/us/fiu-bridge-collapse-ignored-cracks/index.html\">'It cracked like hell.' Engineer ignored warning signs hours before deadly FIU footbridge collapse, report says</a>, <a href=\"//www.cnn.com/2019/05/30/us/shipwreck-1800-noaa-trnd/index.html\">A long-lost shipwreck was found by accident as NOAA tested equipment</a>]\n",
      "[]\n",
      "[]\n",
      "[]\n",
      "[<a href=\"//www.cnn.com/2018/03/19/us/bridge-collapse-victims/index.html\">Miami bridge collapse victims: A student, father of three and a businessman 'who would help anybody'</a>, <a href=\"//www.cnn.com/2018/03/18/us/florida-bridge-collapse/index.html\">With a pause to pray, rescuers retrieve last of 6 killed in bridge collapse</a>, <a href=\"//www.cnn.com/2018/03/17/us/florida-miami-bridge-collapse/index.html\">All 6 victims recovered in Florida bridge collapse</a>, <a href=\"//www.cnn.com/2018/03/16/us/miami-fiu-bridge-collapse-munilla-figg-invs/index.html\">Construction company involved in collapsed FIU bridge had safety complaints</a>, <a href=\"//www.cnn.com/2018/03/15/us/miami-bridge-collapse/index.html\">At least four dead in pedestrian bridge collapse at university in Miami, authorities say</a>, <a href=\"//www.cnn.com/2018/03/15/us/bridge-collapse-history-trnd/index.html\">The deadliest bridge collapses in the US in the last 50 years</a>, <a href=\"//www.cnn.com/2016/01/04/football/gallery/gallery-jean-pierre-adams-coma/index.html\">Jean-Pierre Adams: Scrapbook of French star's career</a>, <a href=\"//www.cnn.com/2018/02/08/us/border-patrol-agent-death-what-we-know/index.html\">Trail of clues fails to explain mysterious death of Border Patrol agent</a>, <a href=\"//www.cnn.com/2018/02/08/us/border-patrol-agent-death-investigation/index.html\">The FBI hasn't found any evidence that border patrol agent was murdered</a>, <a href=\"//www.cnn.com/2018/01/15/americas/colombia-bridge-collapse/index.html\">At least 10 killed in Colombia bridge collapse</a>]\n",
      "[<a href=\"//www.cnn.com/2018/01/15/asia/jakarta-stock-exchange-intl/index.html\">Floor collapses at Jakarta stock exchange, dozens injured</a>, <a href=\"http://money.cnn.com/2017/12/19/news/economy/trump-infrastructure/index.html\">States see Trump's infrastructure promise slipping away</a>, <a href=\"//www.cnn.com/2017/11/21/us/border-patrol-agent-death-texas/index.html\">Border Patrol agent's death in Texas leaves many questions</a>, <a href=\"//www.cnn.com/2017/11/20/us/kate-steinle-murder-trial-closing-arguments/index.html\">Trial of undocumented immigrant in Kate Steinle killing nears end</a>, <a href=\"//www.cnn.com/2017/10/23/politics/kate-steinle-trial/index.html\">Opening statements start in trial of murder suspect Trump invoked to build a wall</a>, <a href=\"//www.cnn.com/2017/09/21/world/st-pauls-london-protected-views/index.html\">Are London's protected view corridors still relevant today?</a>, <a href=\"//www.cnn.com/2017/08/25/world/gallery/week-in-photos-0825/index.html\">The week in 29 photos</a>, <a href=\"//www.cnn.com/2013/08/01/health/gallery/chernobyl-disaster/index.html\">After the Chernobyl disaster</a>, <a href=\"//www.cnn.com/2017/07/14/us/slime-eels-highway-accident-oregon-trnd/index.html\">Slime eels cause multiple car pileup on Oregon highway</a>, <a href=\"//www.cnn.com/2017/07/03/africa/kenya-bridge-collapse/index.html\">How did a $12 million bridge collapse in Kenya?</a>]\n",
      "[<a href=\"//www.cnn.com/2017/06/13/tech/space-sweepers-astroscale-japan/index.html\">'Satellite catcher' will use magnets to clean up space junk</a>, <a href=\"//www.cnn.com/travel/article/worlds-most-bright-colorful-places/index.html\">25 of the world's brightest, most colorful places</a>, <a href=\"http://money.cnn.com/2017/05/30/news/three-mile-island-plant-shutdown/index.html\">Infamous Three Mile Island nuclear reactor to shut down</a>, <a href=\"//www.cnn.com/2017/05/09/us/hanford-nuclear-site-tunnels-contamination/index.html\">No radiation reports after tunnel collapse at Hanford nuclear site</a>, <a href=\"//www.cnn.com/2017/02/02/world/gallery/week-in-photos-0203/index.html\">The week in 29 photos</a>, <a href=\"//www.cnn.com/2017/02/02/opinions/china-conflict-risk-growing-harris/index.html\">Is China preparing to test Trump White House?</a>, <a href=\"//www.cnn.com/style/article/st-pauls-london-protected-views/index.html\">Are London's protected view corridors still relevant today?</a>, <a href=\"//www.cnn.com/2016/11/30/europe/chernobyl-giant-shield/index.html\">Giant shield slides into place over Chernobyl's damaged reactor</a>, <a href=\"//www.cnn.com/2016/11/27/asia/china-construction-accident-arrests/index.html\">Chinese power plant bosses arrested over deadly platform collapse</a>, <a href=\"//www.cnn.com/2013/03/01/world/gallery/sinkholes/index.html\">When the ground gives way</a>]\n",
      "[<a href=\"//www.cnn.com/2016/11/03/studentnews/sn-content-fri/index.html\">CNN Student News - November 4, 2016</a>, <a href=\"http://money.cnn.com/2016/11/01/news/pipeline-fatalities/index.html\">How often do pipelines blow up?</a>, <a href=\"//www.cnn.com/travel/article/new-hotels-past-lives-adaptive-reuse/index.html\">8 new hotels that used to be factories, YMCAs and other things</a>, <a href=\"//www.cnn.com/travel/gallery/hotels-past-lives-adaptive-reuse/index.html\">Historic buildings reborn as hotels</a>, <a href=\"//www.cnn.com/2016/07/20/world/olympics-problems/index.html\">Is Rio ready? Other Olympic host cities faced problems, too</a>, <a href=\"http://money.cnn.com/2016/07/07/news/olympics-rio-us-athletes-finances/index.html\">U.S. Olympic athletes sure aren't paid like champions</a>, <a href=\"//www.cnn.com/2016/07/04/us/new-york-central-park-explosion/index.html\">College student injured in explosion in New York's Central Park</a>, <a href=\"//www.cnn.com/2016/06/03/world/gallery/week-in-photos-0603/index.html\">The week in 33 photos</a>, <a href=\"//www.cnn.com/2016/04/28/opinions/china-floating-nuclear-reactors/index.html\">Fukushima at sea? China wants a fleet of floating nuclear power plants</a>, <a href=\"//www.cnn.com/2016/04/25/sport/james-goldstein-nba-superfan/index.html\">James Goldstein: How a fashion cowboy seduced the NBA</a>]\n"
     ]
    },
    {
     "name": "stdout",
     "output_type": "stream",
     "text": [
      "[<a href=\"//www.cnn.com/2016/04/29/europe/spain-roman-coins-found/index.html\">Enormous haul of ancient Roman coins unearthed in Spain</a>, <a href=\"//www.cnn.com/travel/article/chernobyl-tourism/index.html\">Chernobyl, site of nuclear disaster, now a tourist zone</a>, <a href=\"//www.cnn.com/2016/04/24/opinions/russian-submarines-kofman/index.html\">Russia's submarine program: How big a threat?</a>, <a href=\"//www.cnn.com/2016/04/25/world/containing-chernobyl-dome-anniversary-radiation/index.html\">30 years later, we're still trying to contain Chernobyl</a>, <a href=\"//www.cnn.com/2016/04/15/world/gallery/week-in-photos-0415/index.html\">The week in 37 photos</a>, <a href=\"//www.cnn.com/2016/04/04/us/amtrak-crash-philadelphia/index.html\">Did  Amtrak workers killed in crash make a 'colossal' mistake?</a>, <a href=\"//www.cnn.com/2016/03/31/asia/kolkata-bridge-collapse/index.html\">Kolkata overpass collapse kills 24; rescuers dig for survivors</a>, <a href=\"//www.cnn.com/2016/03/17/world/lula-da-silva-profile/index.html\">Lula da Silva: Metal worker, union leader and president of Brazil</a>, <a href=\"//www.cnn.com/2016/03/13/us/new-york-tugboat-crash-body/index.html\">Second body recovered from scene of New York tugboat crash</a>, <a href=\"//www.cnn.com/videos/us/2016/03/14/ny-body-recovered-tugboat-accident-sots.twc\">Second body recovered from scene of tugboat crash</a>]\n",
      "[<a href=\"//www.cnn.com/2016/03/12/us/new-york-tugboat-crash/index.html\">New York tugboat crash leaves 1 dead, 2 missing</a>, <a href=\"//www.cnn.com/2016/02/19/us/virgin-galactic-new-space-plane/index.html\">Virgin Galactic unveils new spaceship</a>, <a href=\"//www.cnn.com/2016/02/05/us/gallery/new-york-city-crane-collapse/index.html\">Crane collapses in New York City</a>, <a href=\"//www.cnn.com/2016/01/24/opinions/donald-trump-woody-guthrie-race-paul-waldman/index.html\">Can Donald Trump answer for dad's racial history?</a>, <a href=\"//www.cnn.com/2016/01/08/world/gallery/week-in-photos-0107/index.html\">The week in 35 photos</a>, <a href=\"//www.cnn.com/2015/11/22/us/craigslist-kidney-donor-new-jersey/index.html\">Craigslist post finds woman a kidney donor -- and a new friend</a>, <a href=\"//www.cnn.com/2015/09/12/middleeast/saudi-arabia-mecca-crane-collapse/index.html\">Crane collapse kills 107 people at mosque in Mecca days before Hajj</a>, <a href=\"//www.cnn.com/2015/08/17/health/driving-while-fatigued/index.html\">Driving while fatigued can be less deadly thanks to technology</a>, <a href=\"//www.cnn.com/2015/08/12/us/inside-the-life-of-a-drug-trafficking-teen/index.html\">Inside the life of a drug-trafficking teen</a>, <a href=\"//www.cnn.com/2015/07/05/us/kentucky-boat-deaths/index.html\">Boat carrying July Fourth revelers capsizes; 2 killed and 3 are missing</a>]\n",
      "[<a href=\"//www.cnn.com/2015/07/01/opinions/singer-space-war/index.html\">Space could be the battlefield for World War III</a>, <a href=\"//www.cnn.com/2015/06/01/asia/bangladesh-factory-deaths-charges/index.html\">Charges filed in 2013 Bangladesh factory collapse that killed more than 1,000</a>, <a href=\"http://money.cnn.com/2015/05/25/technology/russia-space-corruption/index.html\">$1.8 billion disappears in Russian space program</a>, <a href=\"//www.cnn.com/2015/05/21/opinions/rapp-hooper-china-island-building/index.html\">Why China's island-building is raising eyebrows</a>, <a href=\"//www.cnn.com/2015/05/14/opinions/frailey-train-amtrak/index.html\">The danger train travel can't banish</a>, <a href=\"//www.cnn.com/2015/03/30/europe/france-germanwings-plane-crash-main/index.html\">Germanwings Flight 9525 co-pilot suicidal at one time, prosecutor says</a>, <a href=\"//www.cnn.com/2015/03/27/world/gallery/week-in-photos-0327/index.html\">The week in 41 photos</a>, <a href=\"http://money.cnn.com/2015/02/18/news/oil-train-pipeline-safety/index.html\">America's oil glut problem: How to move it safely</a>, <a href=\"//www.cnn.com/videos/entertainment/2015/01/31/newday-vo-accident-taiwan-martin-scorsese-film-set.cnn\">1 killed in accident on set of Scorsese film 'Silence'</a>, <a href=\"//www.cnn.com/2015/01/13/politics/obama-congress-leaders-meet/index.html\">Obama, Hill leaders' meeting agenda: Find common ground</a>]\n",
      "[<a href=\"//www.cnn.com/2015/01/08/politics/obama-paris-economy/index.html\">Paris attack overtakes Obama's economic push</a>, <a href=\"//www.cnn.com/2014/05/26/living/teen-builds-tiny-house-schools/index.html\">Rebuilding a girl's dream home after tragedy</a>, <a href=\"http://money.cnn.com/2014/11/09/technology/virgin-galactic-ceo-interview/index.html\">Virgin Galactic not pressing pause</a>, <a href=\"//www.cnn.com/2014/09/24/health/ebola-epidemic-liberia/index.html\">One woman walked in, and the Ebola nightmare began</a>, <a href=\"//www.cnn.com/2014/09/19/world/gallery/week-in-photos-0919/index.html\">The week in 31 photos</a>, <a href=\"//www.cnn.com/travel/article/giant-rabbit-burns/index.html\">Curse continues! Giant rabbit goes up in flames</a>, <a href=\"//www.cnn.com/2014/08/25/us/crooked-highway-lanes/index.html\">Construction mishap leads to squiggly dividers on Virginia highway</a>, <a href=\"//www.cnn.com/2014/08/05/us/new-york-ground-zero-ship/index.html\">Researchers: Centuries-old ship at NYC ground zero likely from Philadelphia</a>, <a href=\"//www.cnn.com/2014/07/19/world/europe/securing-a-plane-crash-site-mh17-ukraine/index.html\">Is this any way to secure a plane crash scene?</a>, <a href=\"//www.cnn.com/2014/07/04/world/asia/india-building-collapse/index.html\">Death toll in India building collapse rises to 61</a>]\n",
      "[<a href=\"//www.cnn.com/2014/07/01/world/asia/india-building-collapse/index.html\">Death toll at 32 in Indian building collapse</a>, <a href=\"//www.cnn.com/2014/05/18/world/asia/north-korea-building-collapse/index.html\">North Korea reports 'serious accident' after Pyongyang building collapses</a>, <a href=\"//www.cnn.com/2014/05/18/world/gallery/nk-building-collapse/index.html\">North Korea apologizes for building collapse</a>, <a href=\"//www.cnn.com/2014/03/14/us/new-york-metro-north-safety/index.html\">Safety review prompted by deadly derailment cites issues with NY rail line</a>, <a href=\"//www.cnn.com/2014/03/12/business/nuclear-power-after-fukushima/index.html\">Interactive: How Fukushima changed world's attitudes to nuclear power</a>, <a href=\"//www.cnn.com/2014/02/10/showbiz/chris-kattan-arrest/index.html\">Chris Kattan charged with DUI after freeway crash</a>, <a href=\"//www.cnn.com/2014/02/07/sport/football/football-manaus-stadium-world-cup-death/index.html\">Manaus World Cup stadium suffers third death</a>, <a href=\"//www.cnn.com/2014/01/11/us/winter-weather/index.html\">Storms, high winds slam parts of South</a>, <a href=\"//www.cnn.com/2013/12/18/world/asia/singapore-deports-rioters/index.html\">Singapore to deport foreign workers over 'Little India' riot</a>, <a href=\"//www.cnn.com/2013/12/14/world/americas/brazil-accident/index.html\">Another World Cup construction death in Brazil</a>]\n",
      "[]\n",
      "[]\n",
      "[<a href=\"//www.cnn.com/2013/07/20/sport/motorsport/formula-1-wolff-silverstone-williams/index.html\">Wolff drives women forwards with full Formula One test</a>, <a href=\"//www.cnn.com/2013/07/08/us/asiana-airlines-crash/index.html\">Asiana Flight 214 was traveling slower than recommended on landing</a>, <a href=\"//www.cnn.com/2013/07/07/us/plane-crash-main/index.html\">Pilot in deadly plane crash had no experience landing 777 in San Francisco</a>, <a href=\"//www.cnn.com/travel/article/buildings-shaped-like-animals/index.html\">8 buildings shaped like animals</a>, <a href=\"//www.cnn.com/2013/06/05/us/pennsylvania-philadelphia-building-collapse/index.html\">6 dead in Philadelphia building collapse, 13 injured</a>, <a href=\"//www.cnn.com/2013/05/24/us/washington-bridge-collapse/index.html\">Truck hit caused Washington state bridge collapse, police say</a>, <a href=\"//www.cnn.com/2013/05/23/world/europe/london-attack/index.html\">British soldier's gory slaying yields more arrests, searches and questions</a>, <a href=\"//www.cnn.com/2013/05/21/tech/gallery/exoskeleton-robot-suit/index.html\">Exoskeleton suits</a>, <a href=\"//www.cnn.com/2013/05/21/us/amtrak-train-service/index.html\">We're back on track in Northeast, Amtrak says</a>, <a href=\"//www.cnn.com/2013/05/06/showbiz/golden-age-of-tv/index.html\">The new, new TV golden age</a>]\n"
     ]
    },
    {
     "name": "stdout",
     "output_type": "stream",
     "text": [
      "[]\n",
      "[<a href=\"//www.cnn.com/2012/08/08/justice/texas-randy-travis-arrest/index.html\">Country singer Randy Travis arrested, accused of DWI</a>, <a href=\"//www.cnn.com/2012/07/10/world/unusual-world-weather/index.html\">Extreme weather: Get ready to see more of it, scientists say</a>, <a href=\"//www.cnn.com/videos/us/2012/06/12/dnt-nv-worker-killed-in-tunnel-collapse.kvvu\">Worker killed in Nevada tunnel accident</a>, <a href=\"//www.cnn.com/2012/06/11/us/nevada-tunnel-accident/index.html\">Tunnel accident near Las Vegas kills one worker, injures another</a>, <a href=\"//www.cnn.com/2012/04/13/world/europe/germany-train-crash/index.html\">3 killed in German train crash, police say</a>, <a href=\"//www.cnn.com/2012/04/04/us/new-york-crane-collapse/index.html\">Man injured in New York crane collapse dies</a>, <a href=\"//www.cnn.com/2012/04/03/us/new-york-crane-collapse/index.html\">Two injured in NYC crane collapse</a>, <a href=\"//www.cnn.com/2012/03/02/business/bp-oil-spill-trial-agreement/index.html\">BP, plaintiffs reach billion dollar deal in Gulf oil spill</a>, <a href=\"//www.cnn.com/2012/02/27/us/afghanistan-officers-killed/index.html\">Bodies of slain U.S. officers return home</a>, <a href=\"//www.cnn.com/2012/02/21/showbiz/indiana-stage-collapse/index.html\">Sugarland lawyers: Fans share blame for injuries in Indiana stage collapse</a>]\n",
      "[<a href=\"//www.cnn.com/2011/12/05/us/bp-halliburton/index.html\">BP says Halliburton 'intentionally destroyed evidence' after Gulf oil spill</a>, <a href=\"//www.cnn.com/travel/article/record-breaking-bridges-bt/index.html\">10 record-breaking bridges</a>, <a href=\"//www.cnn.com/2011/11/16/sport/golf/golf-presidents-cup/index.html\">Golfing presidents: Putting for politics</a>, <a href=\"//www.cnn.com/2011/11/03/world/asia/bangladesh-nuclear-power/index.html\">Energy-starved Bangladesh signs nuclear power deal with Russia</a>, <a href=\"//www.cnn.com/2011/10/26/sport/golf/golf-vietnam-officials-ban/index.html\">Vietnam lawmaker bans officials from golf</a>, <a href=\"//www.cnn.com/2010/10/28/tv/brewer-blames-dui-reports-on-silly-season/index.html\">Brewer blames DUI reports on 'silly season'</a>]\n"
     ]
    }
   ],
   "source": [
    "\n",
    "driver = webdriver.Chrome(executable_path='/Users/macbookpro/Desktop/Project/Cosntruction_article/chromedriver')\n",
    "link =[]\n",
    "\n",
    "for pg in range(21) :\n",
    "    \n",
    "    pg += 1\n",
    "    \n",
    "    if pg ==1 :\n",
    "        driver.get('https://www.cnn.com/search?q=construction%20accident&page=1&size=10')\n",
    "    \n",
    "    else :\n",
    "        #s_url = source(pg)\n",
    "        driver.get('https://edition.cnn.com/search?q=construction%20accident&page=' + str(pg) + '&size=10&from='+ str((pg-1)*10))\n",
    "    \n",
    "    a = driver.page_source\n",
    "    b = BeautifulSoup(a,'html.parser')\n",
    "\n",
    "    c= b.select('body>div>div>div>div>div>div>div>div>div>h3>a')\n",
    "    #c= b.findAll('h3' ,{'class' :\"cnn-search__result-headline\"})\n",
    "    print(c)\n",
    "    \n",
    "    \n",
    "    \n",
    "    for j in range(len(c)):\n",
    "        \n",
    "        if c[j].attrs['href'] not in link :\n",
    "            link.append(c[j].attrs['href'])\n",
    "        else :\n",
    "            pass\n"
   ]
  },
  {
   "cell_type": "code",
   "execution_count": 4,
   "metadata": {},
   "outputs": [
    {
     "data": {
      "text/plain": [
       "['//www.cnn.com/2020/02/26/us/columbia-gas-explosion-guilty/index.html',\n",
       " '//www.cnn.com/2013/07/17/world/asia/japan-earthquake---tsunami-fast-facts/index.html',\n",
       " '//www.cnn.com/2020/01/29/politics/us-border-wall-falls-over-high-winds/index.html',\n",
       " '//www.cnn.com/travel/article/fortune-guide-2020-chinese-zodiac-sign/index.html',\n",
       " '//www.cnn.com/2020/01/11/opinions/puerto-rico-earthquake-aftermath-fear-guzman/index.html',\n",
       " '//www.cnn.com/asia/live-news/hong-kong-strike-protest-intl-hnk/index.html',\n",
       " '//www.cnn.com/2019/10/29/entertainment/gallery/netflix-amazon-hulu-november-2019/index.html',\n",
       " '//www.cnn.com/2019/10/18/us/seattle-crane-collapse-companies-fined/index.html',\n",
       " '//www.cnn.com/2019/10/04/asia/cambodia-chinese-investment-intl-hnk/index.html',\n",
       " '//www.cnn.com/2019/09/30/us/lawrence-gas-leak-valve/index.html',\n",
       " '//www.cnn.com/2019/09/27/us/lawrence-gas-leak-evacuation/index.html',\n",
       " '//www.cnn.com/2019/09/24/us/ma-gas-explosions-cause/index.html',\n",
       " '//www.cnn.com/2019/09/19/us/nuclear-three-mile-island-closing/index.html',\n",
       " '//www.cnn.com/2019/09/16/perspectives/nuclear-energy-green-goals/index.html',\n",
       " '//www.cnn.com/2019/09/13/business/china-nuclear-climate-intl-hnk/index.html',\n",
       " '//www.cnn.com/us/live-news/hurricane-dorian-us-florida/index.html',\n",
       " '//www.cnn.com/2019/08/29/us/disneyland-construction-worker-killed/index.html',\n",
       " '//www.cnn.com/politics/live-news/g7-summit-monday-dle-intl/index.html',\n",
       " '//www.cnn.com/2013/09/30/us/u-s-nuclear-power-plants/index.html',\n",
       " '//www.cnn.com/2019/08/02/app-news-section/videos-of-the-week-mobile-august-2/index.html',\n",
       " '//www.cnn.com/2019/08/01/world/gallery/week-in-photos-0802/index.html',\n",
       " '//www.cnn.com/videos/world/2019/07/30/czech-republic-freight-train-derailment-marianske-lazne-ge-lon-orig.cnn',\n",
       " '//www.cnn.com/2013/11/03/us/dc-metro-system-fast-facts/index.html',\n",
       " '//www.cnn.com/2019/07/22/us/good-samaritans-lift-car-rescue-trnd/index.html',\n",
       " '//www.cnn.com/2019/07/15/us/murietta-house-gas-explosion-trnd/index.html',\n",
       " '//www.cnn.com/2014/07/07/us/george-lucas-fast-facts/index.html',\n",
       " '//www.cnn.com/2019/06/28/europe/russia-arctic-floating-nuclear-power-station-intl/index.html',\n",
       " '//www.cnn.com/2019/06/22/asia/cambodia-building-collapse-intl/index.html',\n",
       " '//www.cnn.com/2019/06/12/us/fiu-bridge-collapse-ignored-cracks/index.html',\n",
       " '//www.cnn.com/2019/05/30/us/shipwreck-1800-noaa-trnd/index.html',\n",
       " '//www.cnn.com/2019/01/09/success/seeherwork-jane-henry/index.html',\n",
       " '//www.cnn.com/2018/11/01/world/cnnheroes-top-ten-2018/index.html',\n",
       " '//www.cnn.com/2018/12/03/health/afm-polio-support-group/index.html',\n",
       " '//www.cnn.com/2018/10/26/politics/pipe-bombs-suspicious-packages-what-we-know/index.html',\n",
       " '//www.cnn.com/2018/10/25/politics/bombs-suspicious-packages-what-we-know/index.html',\n",
       " '//www.cnn.com/us/live-news/tropical-storm-hurricane-michael-florida/index.html',\n",
       " '//www.cnn.com/2018/10/08/opinions/limo-accident-preventable-deborah-hersman/index.html',\n",
       " '//www.cnn.com/2018/09/08/europe/space-leak-russia-us-rivalry-intl/index.html',\n",
       " '//www.cnn.com/2013/09/15/world/europe/berlin-wall-fast-facts/index.html',\n",
       " '//www.cnn.com/2018/07/27/asia/laos-dam-collapse-construction-intl/index.html',\n",
       " '//www.cnn.com/2018/07/23/us/miami-beach-building-collapse/index.html',\n",
       " '//www.cnn.com/2018/07/06/politics/donald-trump-montana-speech/index.html',\n",
       " '//www.cnn.com/2018/06/28/health/imprisoned-tuberculosis-patients-kenya-intl/index.html',\n",
       " '//www.cnn.com/politics/live-news/immigration-border-children-separation/index.html',\n",
       " '//www.cnn.com/2018/06/16/asia/japan-okinawa-bases-new-battle-intl/index.html',\n",
       " '//www.cnn.com/2016/05/27/opinions/w-kamau-bell-united-shades-portland/index.html',\n",
       " '//www.cnn.com/2018/04/15/sport/commonwealth-games-2018-gold-coast-future-of-the-games/index.html',\n",
       " '//www.cnn.com/2018/04/03/us/schlitterbahn-waterslide-designer-custody/index.html',\n",
       " '//www.cnn.com/2018/03/27/us/schlitterbahn-waterpark-death-arrests/index.html',\n",
       " '//www.cnn.com/2018/03/19/us/fiu-classes-resume/index.html',\n",
       " '//www.cnn.com/2018/03/19/us/bridge-collapse-victims/index.html',\n",
       " '//www.cnn.com/2018/03/18/us/florida-bridge-collapse/index.html',\n",
       " '//www.cnn.com/2018/03/17/us/florida-miami-bridge-collapse/index.html',\n",
       " '//www.cnn.com/2018/03/16/us/miami-fiu-bridge-collapse-munilla-figg-invs/index.html',\n",
       " '//www.cnn.com/2018/03/15/us/miami-bridge-collapse/index.html',\n",
       " '//www.cnn.com/2018/03/15/us/bridge-collapse-history-trnd/index.html',\n",
       " '//www.cnn.com/2016/01/04/football/gallery/gallery-jean-pierre-adams-coma/index.html',\n",
       " '//www.cnn.com/2018/02/08/us/border-patrol-agent-death-what-we-know/index.html',\n",
       " '//www.cnn.com/2018/02/08/us/border-patrol-agent-death-investigation/index.html',\n",
       " '//www.cnn.com/2018/01/15/americas/colombia-bridge-collapse/index.html',\n",
       " '//www.cnn.com/2017/06/13/tech/space-sweepers-astroscale-japan/index.html',\n",
       " '//www.cnn.com/travel/article/worlds-most-bright-colorful-places/index.html',\n",
       " 'http://money.cnn.com/2017/05/30/news/three-mile-island-plant-shutdown/index.html',\n",
       " '//www.cnn.com/2017/05/09/us/hanford-nuclear-site-tunnels-contamination/index.html',\n",
       " '//www.cnn.com/2017/02/02/world/gallery/week-in-photos-0203/index.html',\n",
       " '//www.cnn.com/2017/02/02/opinions/china-conflict-risk-growing-harris/index.html',\n",
       " '//www.cnn.com/style/article/st-pauls-london-protected-views/index.html',\n",
       " '//www.cnn.com/2016/11/30/europe/chernobyl-giant-shield/index.html',\n",
       " '//www.cnn.com/2016/11/27/asia/china-construction-accident-arrests/index.html',\n",
       " '//www.cnn.com/2013/03/01/world/gallery/sinkholes/index.html',\n",
       " '//www.cnn.com/2016/04/29/europe/spain-roman-coins-found/index.html',\n",
       " '//www.cnn.com/travel/article/chernobyl-tourism/index.html',\n",
       " '//www.cnn.com/2016/04/24/opinions/russian-submarines-kofman/index.html',\n",
       " '//www.cnn.com/2016/04/25/world/containing-chernobyl-dome-anniversary-radiation/index.html',\n",
       " '//www.cnn.com/2016/04/15/world/gallery/week-in-photos-0415/index.html',\n",
       " '//www.cnn.com/2016/04/04/us/amtrak-crash-philadelphia/index.html',\n",
       " '//www.cnn.com/2016/03/31/asia/kolkata-bridge-collapse/index.html',\n",
       " '//www.cnn.com/2016/03/17/world/lula-da-silva-profile/index.html',\n",
       " '//www.cnn.com/2016/03/13/us/new-york-tugboat-crash-body/index.html',\n",
       " '//www.cnn.com/videos/us/2016/03/14/ny-body-recovered-tugboat-accident-sots.twc',\n",
       " '//www.cnn.com/2015/07/01/opinions/singer-space-war/index.html',\n",
       " '//www.cnn.com/2015/06/01/asia/bangladesh-factory-deaths-charges/index.html',\n",
       " 'http://money.cnn.com/2015/05/25/technology/russia-space-corruption/index.html',\n",
       " '//www.cnn.com/2015/05/21/opinions/rapp-hooper-china-island-building/index.html',\n",
       " '//www.cnn.com/2015/05/14/opinions/frailey-train-amtrak/index.html',\n",
       " '//www.cnn.com/2015/03/30/europe/france-germanwings-plane-crash-main/index.html',\n",
       " '//www.cnn.com/2015/03/27/world/gallery/week-in-photos-0327/index.html',\n",
       " 'http://money.cnn.com/2015/02/18/news/oil-train-pipeline-safety/index.html',\n",
       " '//www.cnn.com/videos/entertainment/2015/01/31/newday-vo-accident-taiwan-martin-scorsese-film-set.cnn',\n",
       " '//www.cnn.com/2015/01/13/politics/obama-congress-leaders-meet/index.html',\n",
       " '//www.cnn.com/2013/10/01/us/california-plane-crash/index.html',\n",
       " '//www.cnn.com/2013/09/04/world/asia/japan-fukushima-nuclear-crisis-explainer/index.html',\n",
       " '//www.cnn.com/2013/09/02/world/asia/japan-fukushima-crisis/index.html',\n",
       " '//www.cnn.com/2013/08/07/world/asia/japan-fukushima/index.html',\n",
       " '//www.cnn.com/2013/08/01/us/new-york-balcony-death/index.html',\n",
       " '//www.cnn.com/2013/07/29/us/new-york-hudson-boat-accident/index.html',\n",
       " '//www.cnn.com/2013/07/29/world/travel-deaths-wrap/index.html',\n",
       " '//www.cnn.com/2013/07/28/us/new-york-hudson-river-accident/index.html',\n",
       " '//www.cnn.com/2013/07/27/us/hudson-river-boat-accident/index.html',\n",
       " '//www.cnn.com/2013/07/26/us/high-speed-rail/index.html',\n",
       " '//www.cnn.com/2013/04/19/world/meast/israel-ancient-structure-mystery/index.html',\n",
       " '//www.cnn.com/2013/04/05/tech/innovation/jay-silver-makey/index.html',\n",
       " '//www.cnn.com/2013/03/16/us/florida-hot-air-balloon-crash/index.html',\n",
       " '//www.cnn.com/2013/01/17/world/europe/uk-helicopter-crash/index.html',\n",
       " '//www.cnn.com/2013/01/17/world/asia/myanmar-aid-worker/index.html',\n",
       " '//www.cnn.com/2012/11/21/us/small-nukes/index.html',\n",
       " '//www.cnn.com/2012/11/19/motorsport/gallery/gp-gallery-austin/index.html',\n",
       " '//www.cnn.com/2012/10/29/us/tropical-weather-sandy/index.html',\n",
       " '//www.cnn.com/2012/08/20/world/americas/canada-crane-collapse/index.html',\n",
       " '//www.cnn.com/2012/08/09/us/nasa-test-crash/index.html']"
      ]
     },
     "execution_count": 4,
     "metadata": {},
     "output_type": "execute_result"
    }
   ],
   "source": [
    "link\n"
   ]
  },
  {
   "cell_type": "code",
   "execution_count": 13,
   "metadata": {},
   "outputs": [
    {
     "data": {
      "text/plain": [
       "136"
      ]
     },
     "execution_count": 13,
     "metadata": {},
     "output_type": "execute_result"
    }
   ],
   "source": [
    "len(link)"
   ]
  },
  {
   "cell_type": "code",
   "execution_count": null,
   "metadata": {},
   "outputs": [],
   "source": []
  }
 ],
 "metadata": {
  "kernelspec": {
   "display_name": "Python 3",
   "language": "python",
   "name": "python3"
  },
  "language_info": {
   "codemirror_mode": {
    "name": "ipython",
    "version": 3
   },
   "file_extension": ".py",
   "mimetype": "text/x-python",
   "name": "python",
   "nbconvert_exporter": "python",
   "pygments_lexer": "ipython3",
   "version": "3.7.3"
  }
 },
 "nbformat": 4,
 "nbformat_minor": 2
}
